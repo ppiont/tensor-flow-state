{
  "nbformat": 4,
  "nbformat_minor": 0,
  "metadata": {
    "colab": {
      "name": "data_join.ipynb",
      "provenance": [],
      "authorship_tag": "ABX9TyMhINrT6Ykbh0grG3icTP7s",
      "include_colab_link": true
    },
    "kernelspec": {
      "name": "python3",
      "display_name": "Python 3"
    },
    "accelerator": "GPU"
  },
  "cells": [
    {
      "cell_type": "markdown",
      "metadata": {
        "id": "view-in-github",
        "colab_type": "text"
      },
      "source": [
        "<a href=\"https://colab.research.google.com/github/ppiont/tensor-flow-state/blob/master/data_join.ipynb\" target=\"_parent\"><img src=\"https://colab.research.google.com/assets/colab-badge.svg\" alt=\"Open In Colab\"/></a>"
      ]
    },
    {
      "cell_type": "code",
      "metadata": {
        "id": "m5UdJqjEfnv2",
        "colab_type": "code",
        "colab": {
          "base_uri": "https://localhost:8080/",
          "height": 34
        },
        "outputId": "961aa26b-963e-420c-c434-ff50d46076f6"
      },
      "source": [
        "from google.colab import drive\n",
        "drive.mount(\"/gdrive\", force_remount = True)"
      ],
      "execution_count": 1,
      "outputs": [
        {
          "output_type": "stream",
          "text": [
            "Mounted at /gdrive\n"
          ],
          "name": "stdout"
        }
      ]
    },
    {
      "cell_type": "code",
      "metadata": {
        "id": "xoFj_iY0jDhP",
        "colab_type": "code",
        "colab": {}
      },
      "source": [
        "relative_data_dir = \"data/\"\n",
        "sensor_list = [\"RWS01_MONIBAS_0021hrl0414ra\", \"RWS01_MONIBAS_0021hrl0403ra\", \"RWS01_MONIBAS_0021hrl0409ra\", \"RWS01_MONIBAS_0021hrl0420ra\", \"RWS01_MONIBAS_0021hrl0426ra\"]"
      ],
      "execution_count": 0,
      "outputs": []
    },
    {
      "cell_type": "code",
      "metadata": {
        "id": "m_0jdBQ_fvZX",
        "colab_type": "code",
        "colab": {
          "base_uri": "https://localhost:8080/",
          "height": 34
        },
        "outputId": "c914579b-6df3-46df-920a-e557795dbb69"
      },
      "source": [
        "%cd \"/gdrive/My Drive/tensor-flow-state/tensor-flow-state\""
      ],
      "execution_count": 3,
      "outputs": [
        {
          "output_type": "stream",
          "text": [
            "/gdrive/My Drive/tensor-flow-state/tensor-flow-state\n"
          ],
          "name": "stdout"
        }
      ]
    },
    {
      "cell_type": "code",
      "metadata": {
        "id": "DGiYkqQpfvlV",
        "colab_type": "code",
        "colab": {}
      },
      "source": [
        "import pandas as pd\n",
        "import os\n",
        "\n",
        "def join_sensors(sensor_list):\n",
        "    combined_df = pd.DataFrame({\"timestamp\": pd.date_range(start = \"2011-01-01\",end = \"2019-12-31\", freq = \"T\")})\n",
        "    combined_df.set_index(\"timestamp\", drop = True, inplace = True)\n",
        "    for i, sensor in enumerate(sensor_list):\n",
        "        # only add speed limit on the final sensor\n",
        "        if i == len(sensor_list) - 1:\n",
        "            df = pd.read_csv(relative_data_dir + sensor + \".csv\", index_col = 0, parse_dates = True)\n",
        "            combined_df = combined_df.join(df, how = \"outer\", rsuffix = '_' + sensor)\n",
        "        else:\n",
        "            df = pd.read_csv(relative_data_dir + sensor + \".csv\", usecols = [0, 1, 2], index_col = 0, parse_dates = True)\n",
        "            combined_df = combined_df.join(df, how = \"outer\", rsuffix = \"_\" + sensor)\n",
        "    combined_df.dropna(how = \"all\", axis = 0, inplace = True) # this works in all cases because speed_limit is never NA on a sensor df\n",
        "    return combined_df"
      ],
      "execution_count": 0,
      "outputs": []
    },
    {
      "cell_type": "code",
      "metadata": {
        "id": "WjR78Il4fvpB",
        "colab_type": "code",
        "colab": {}
      },
      "source": [
        "combined_df = join_sensors(sensor_list)\n",
        "combined_df.to_csv(relative_data_dir + \"combined_df.csv\")"
      ],
      "execution_count": 0,
      "outputs": []
    }
  ]
}