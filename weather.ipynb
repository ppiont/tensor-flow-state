{
  "nbformat": 4,
  "nbformat_minor": 0,
  "metadata": {
    "colab": {
      "name": "weather.ipynb",
      "provenance": [],
      "toc_visible": true,
      "authorship_tag": "ABX9TyN4gUb1T8QRl6bMv6NqBU6S",
      "include_colab_link": true
    },
    "kernelspec": {
      "name": "python3",
      "display_name": "Python 3"
    }
  },
  "cells": [
    {
      "cell_type": "markdown",
      "metadata": {
        "id": "view-in-github",
        "colab_type": "text"
      },
      "source": [
        "<a href=\"https://colab.research.google.com/github/ppiont/tensor-flow-state/blob/master/weather.ipynb\" target=\"_parent\"><img src=\"https://colab.research.google.com/assets/colab-badge.svg\" alt=\"Open In Colab\"/></a>"
      ]
    },
    {
      "cell_type": "code",
      "metadata": {
        "id": "Dwu9P3IObd32",
        "colab_type": "code",
        "outputId": "d7bd2e01-d50a-4d11-c000-05114eef7a50",
        "colab": {
          "base_uri": "https://localhost:8080/",
          "height": 714
        }
      },
      "source": [
        "# install knmy\n",
        "!pip install knmy"
      ],
      "execution_count": 1,
      "outputs": [
        {
          "output_type": "stream",
          "text": [
            "Collecting knmy\n",
            "  Downloading https://files.pythonhosted.org/packages/9e/8b/e4fe812531a033d11d5352de11e7956f45aa362b6119548990d486ef1b40/knmy-1.0.0.tar.gz\n",
            "Requirement already satisfied: sphinx in /usr/local/lib/python3.6/dist-packages (from knmy) (1.8.5)\n",
            "Collecting sphinx_rtd_theme\n",
            "\u001b[?25l  Downloading https://files.pythonhosted.org/packages/60/b4/4df37087a1d36755e3a3bfd2a30263f358d2dea21938240fa02313d45f51/sphinx_rtd_theme-0.4.3-py2.py3-none-any.whl (6.4MB)\n",
            "\u001b[K     |████████████████████████████████| 6.4MB 2.7MB/s \n",
            "\u001b[?25hRequirement already satisfied: pytest in /usr/local/lib/python3.6/dist-packages (from knmy) (3.6.4)\n",
            "Requirement already satisfied: requests in /usr/local/lib/python3.6/dist-packages (from knmy) (2.21.0)\n",
            "Requirement already satisfied: pandas in /usr/local/lib/python3.6/dist-packages (from knmy) (0.25.3)\n",
            "Requirement already satisfied: babel!=2.0,>=1.3 in /usr/local/lib/python3.6/dist-packages (from sphinx->knmy) (2.8.0)\n",
            "Requirement already satisfied: sphinxcontrib-websupport in /usr/local/lib/python3.6/dist-packages (from sphinx->knmy) (1.1.2)\n",
            "Requirement already satisfied: docutils>=0.11 in /usr/local/lib/python3.6/dist-packages (from sphinx->knmy) (0.15.2)\n",
            "Requirement already satisfied: Pygments>=2.0 in /usr/local/lib/python3.6/dist-packages (from sphinx->knmy) (2.1.3)\n",
            "Requirement already satisfied: Jinja2>=2.3 in /usr/local/lib/python3.6/dist-packages (from sphinx->knmy) (2.11.1)\n",
            "Requirement already satisfied: setuptools in /usr/local/lib/python3.6/dist-packages (from sphinx->knmy) (45.1.0)\n",
            "Requirement already satisfied: imagesize in /usr/local/lib/python3.6/dist-packages (from sphinx->knmy) (1.2.0)\n",
            "Requirement already satisfied: alabaster<0.8,>=0.7 in /usr/local/lib/python3.6/dist-packages (from sphinx->knmy) (0.7.12)\n",
            "Requirement already satisfied: packaging in /usr/local/lib/python3.6/dist-packages (from sphinx->knmy) (20.1)\n",
            "Requirement already satisfied: snowballstemmer>=1.1 in /usr/local/lib/python3.6/dist-packages (from sphinx->knmy) (2.0.0)\n",
            "Requirement already satisfied: six>=1.5 in /usr/local/lib/python3.6/dist-packages (from sphinx->knmy) (1.12.0)\n",
            "Requirement already satisfied: more-itertools>=4.0.0 in /usr/local/lib/python3.6/dist-packages (from pytest->knmy) (8.2.0)\n",
            "Requirement already satisfied: atomicwrites>=1.0 in /usr/local/lib/python3.6/dist-packages (from pytest->knmy) (1.3.0)\n",
            "Requirement already satisfied: attrs>=17.4.0 in /usr/local/lib/python3.6/dist-packages (from pytest->knmy) (19.3.0)\n",
            "Requirement already satisfied: pluggy<0.8,>=0.5 in /usr/local/lib/python3.6/dist-packages (from pytest->knmy) (0.7.1)\n",
            "Requirement already satisfied: py>=1.5.0 in /usr/local/lib/python3.6/dist-packages (from pytest->knmy) (1.8.1)\n",
            "Requirement already satisfied: urllib3<1.25,>=1.21.1 in /usr/local/lib/python3.6/dist-packages (from requests->knmy) (1.24.3)\n",
            "Requirement already satisfied: idna<2.9,>=2.5 in /usr/local/lib/python3.6/dist-packages (from requests->knmy) (2.8)\n",
            "Requirement already satisfied: certifi>=2017.4.17 in /usr/local/lib/python3.6/dist-packages (from requests->knmy) (2019.11.28)\n",
            "Requirement already satisfied: chardet<3.1.0,>=3.0.2 in /usr/local/lib/python3.6/dist-packages (from requests->knmy) (3.0.4)\n",
            "Requirement already satisfied: numpy>=1.13.3 in /usr/local/lib/python3.6/dist-packages (from pandas->knmy) (1.17.5)\n",
            "Requirement already satisfied: pytz>=2017.2 in /usr/local/lib/python3.6/dist-packages (from pandas->knmy) (2018.9)\n",
            "Requirement already satisfied: python-dateutil>=2.6.1 in /usr/local/lib/python3.6/dist-packages (from pandas->knmy) (2.6.1)\n",
            "Requirement already satisfied: MarkupSafe>=0.23 in /usr/local/lib/python3.6/dist-packages (from Jinja2>=2.3->sphinx->knmy) (1.1.1)\n",
            "Requirement already satisfied: pyparsing>=2.0.2 in /usr/local/lib/python3.6/dist-packages (from packaging->sphinx->knmy) (2.4.6)\n",
            "Building wheels for collected packages: knmy\n",
            "  Building wheel for knmy (setup.py) ... \u001b[?25l\u001b[?25hdone\n",
            "  Created wheel for knmy: filename=knmy-1.0.0-py2.py3-none-any.whl size=5501 sha256=8b43392625d35d5915fe09450db2550940d1095efeb7c35c0561bd48f4c3ec64\n",
            "  Stored in directory: /root/.cache/pip/wheels/a1/15/f8/75d11ed17dbbb170e1a83741e2d651f6655d2be905d3ed5616\n",
            "Successfully built knmy\n",
            "Installing collected packages: sphinx-rtd-theme, knmy\n",
            "Successfully installed knmy-1.0.0 sphinx-rtd-theme-0.4.3\n"
          ],
          "name": "stdout"
        }
      ]
    },
    {
      "cell_type": "code",
      "metadata": {
        "id": "HUrCauRUbXIL",
        "colab_type": "code",
        "outputId": "5ce2b241-a1a3-4c1d-995f-0df76f70bd1a",
        "colab": {
          "base_uri": "https://localhost:8080/",
          "height": 122
        }
      },
      "source": [
        "from google.colab import drive\n",
        "drive.mount(\"/gdrive\", force_remount = True)"
      ],
      "execution_count": 2,
      "outputs": [
        {
          "output_type": "stream",
          "text": [
            "Go to this URL in a browser: https://accounts.google.com/o/oauth2/auth?client_id=947318989803-6bn6qk8qdgf4n4g3pfee6491hc0brc4i.apps.googleusercontent.com&redirect_uri=urn%3aietf%3awg%3aoauth%3a2.0%3aoob&response_type=code&scope=email%20https%3a%2f%2fwww.googleapis.com%2fauth%2fdocs.test%20https%3a%2f%2fwww.googleapis.com%2fauth%2fdrive%20https%3a%2f%2fwww.googleapis.com%2fauth%2fdrive.photos.readonly%20https%3a%2f%2fwww.googleapis.com%2fauth%2fpeopleapi.readonly\n",
            "\n",
            "Enter your authorization code:\n",
            "··········\n",
            "Mounted at /gdrive\n"
          ],
          "name": "stdout"
        }
      ]
    },
    {
      "cell_type": "code",
      "metadata": {
        "id": "c2TuHMFCAP22",
        "colab_type": "code",
        "colab": {
          "base_uri": "https://localhost:8080/",
          "height": 34
        },
        "outputId": "66dd85dd-6198-4496-9f10-2920a88b099b"
      },
      "source": [
        "%cd \"/gdrive/My Drive/tensor-flow-state/tensor-flow-state\""
      ],
      "execution_count": 7,
      "outputs": [
        {
          "output_type": "stream",
          "text": [
            "/gdrive/My Drive/tensor-flow-state/tensor-flow-state\n"
          ],
          "name": "stdout"
        }
      ]
    },
    {
      "cell_type": "code",
      "metadata": {
        "id": "AhBwWyZDbdQ3",
        "colab_type": "code",
        "colab": {}
      },
      "source": [
        "from knmy import knmy\n",
        "import pandas as pd\n",
        "import numpy as np\n",
        "\n",
        "def knmi_get(start, end, stations=[240, 260]):\n",
        "    \n",
        "    # knmy.get_hourly_data returns a tuple with 4 items. Immediately index to [3] to get the df with weather variables. \n",
        "    knmi_data = knmy.get_hourly_data(stations=[240], start=start, end=end,\n",
        "                            inseason=False, variables=['ALL'], parse=True)[3]\n",
        "    \n",
        "    # Rename columns\n",
        "    cols = ['station', 'winddirection', 'windspeed_avg', \\\n",
        "            'windspeed_10m','windspeed_max', 'temperature', 'temperature_min', \\\n",
        "            'temperature_dewpoint', 'sunduration', 'sunradiation', \\\n",
        "            'precipitationduration', 'precipitation', 'airpressure', \\\n",
        "            'horizontalview', 'cloudcover', 'relativehumidity', 'weathercode', \\\n",
        "            'weathercodeindicator', 'mist', 'rain', 'snow', 'storm', 'ice']\n",
        "    knmi_data.columns = cols\n",
        "    \n",
        "    # Drop useless columns\n",
        "    knmi_data.drop(['winddirection', 'windspeed_10m', 'temperature_dewpoint', \\\n",
        "                    'horizontalview', 'cloudcover', 'weathercode', \\\n",
        "                    'weathercodeindicator'], axis = 1, inplace=True)\n",
        "    # Drop first row since it's actually a header, then reset index\n",
        "    knmi_data.drop([0], inplace=True)\n",
        "    knmi_data.reset_index(drop=True, inplace=True)\n",
        "    # Subtract one hour to make data in line with NDW\n",
        "    knmi_data.hour = knmi_data.hour.astype(int) - 1\n",
        "    # Remove columns with NA vals\n",
        "    knmi_data.dropna(axis=1, inplace=True)\n",
        "    # Make dataframe numeric\n",
        "    knmi_data = knmi_data.apply(pd.to_numeric)\n",
        "    # Remove negative precipitation values (-1 means 0.05mm or less)\n",
        "    knmi_data['precipitation'] = \\\n",
        "        np.where(knmi_data['precipitation'] < 0, 0, knmi_data['precipitation'])\n",
        "    # Make date col a datetime object\n",
        "    knmi_data['date'] = pd.to_datetime(knmi_data['date'], yearfirst = True, \n",
        "                                                  format = '%Y%m%d').dt.date\n",
        "    return knmi_data"
      ],
      "execution_count": 0,
      "outputs": []
    },
    {
      "cell_type": "code",
      "metadata": {
        "id": "frevKvEd1Tg4",
        "colab_type": "code",
        "colab": {}
      },
      "source": [
        "import pandas as pd\n",
        "traffic = pd.read_csv(\"data/df_imputed_week_shift_added_holiday_weekends_speed_limit_plus_10.csv\", index_col = 0, parse_dates = True)"
      ],
      "execution_count": 0,
      "outputs": []
    },
    {
      "cell_type": "markdown",
      "metadata": {
        "id": "Nc9a3VNG_8tR",
        "colab_type": "text"
      },
      "source": [
        "# New Section"
      ]
    },
    {
      "cell_type": "code",
      "metadata": {
        "id": "RjhpQVAy1Tm-",
        "colab_type": "code",
        "outputId": "1601e563-cc8f-4400-952e-a3e932799469",
        "colab": {
          "base_uri": "https://localhost:8080/",
          "height": 51
        }
      },
      "source": [
        "*_, data = knmy.get_hourly_data(stations = [260], start = 2011010101, end = 2019123124, inseason = True, variables = ['WIND', 'TEMP'], parse = True)\n",
        "# Drop first row (it's a duplicate header)\n",
        "data.drop([0], inplace = True)\n",
        "# Switch from end of hour (KNMI convention) to start of hour (NDW convention)\n",
        "data.HH = (data.HH.astype(int) - 1).astype(str)\n",
        "# Create datetime index\n",
        "data.index = pd.to_datetime(data.YYYYMMDD.astype(str) + data.HH.str.zfill(2), format = \"%Y%m%d%H\", yearfirst = True)"
      ],
      "execution_count": 5,
      "outputs": [
        {
          "output_type": "stream",
          "text": [
            "/usr/local/lib/python3.6/dist-packages/ipykernel_launcher.py:1: DtypeWarning: Columns (0,1,2,3,4,5,6,7,8,9) have mixed types. Specify dtype option on import or set low_memory=False.\n",
            "  \"\"\"Entry point for launching an IPython kernel.\n"
          ],
          "name": "stderr"
        }
      ]
    },
    {
      "cell_type": "code",
      "metadata": {
        "id": "ltXI71st1TrX",
        "colab_type": "code",
        "outputId": "9170c019-2e3d-41d0-aaaf-daaa8f6a8046",
        "colab": {
          "base_uri": "https://localhost:8080/",
          "height": 129
        }
      },
      "source": [
        "import datetime\n",
        "\n",
        "def get_weather(traffic_df):\n",
        "    freq = pd.infer_freq(traffic_df.index)\n",
        "    start = (traffic.index[0] + datetime.timedelta(hours = 1)).strftime(\"%Y%m%d%H\")\n",
        "    end = (traffic.index[-1] + datetime.timedelta(hours = 1)).strftime(\"%Y%m%d%H\")\n",
        "    *_, data = knmy.get_hourly_data(stations = [260], start = start, end = end, inseason = False, variables = [\"TEMP\", \"PRCP\", \"SUNR\"], parse = True)\n",
        "    # Drop first row (it's a duplicate header)\n",
        "    data.drop([0], inplace = True)\n",
        "    # Switch from end of hour (KNMI convention) to start of hour (NDW convention)\n",
        "    data.HH = (data.HH.astype(int) - 1).astype(str)\n",
        "    # Create datetime index\n",
        "    data.index = pd.to_datetime(data.YYYYMMDD.astype(str) + data.HH.str.zfill(2), format = \"%Y%m%d%H\", yearfirst = True)\n",
        "    data = data[[\"T\", \"TD\", \"DR\", \"RH\", \"SQ\", \"Q\"]]\n",
        "    data.rename(columns = {\"T\": \"temp\", \"TD\": \"dew_point_temp\", \"DR\": \"precip_duration\", \"precip_sum\", \"sun_duration\", \"sun_radiation\" })\n",
        "    data = data.div([10, 10, 1, 10, 1, 1], axis = 1)\n",
        "    \n",
        "\n",
        "    return data\n",
        "\n",
        "\n"
      ],
      "execution_count": 32,
      "outputs": [
        {
          "output_type": "error",
          "ename": "SyntaxError",
          "evalue": "ignored",
          "traceback": [
            "\u001b[0;36m  File \u001b[0;32m\"<ipython-input-32-1ec0fa7dcb1d>\"\u001b[0;36m, line \u001b[0;32m14\u001b[0m\n\u001b[0;31m    data.rename(columns = {\"T\": \"temp\", \"dew_point\", \"DR\", \"RH\", \"SQ\", \"Q\" })\u001b[0m\n\u001b[0m                                                   ^\u001b[0m\n\u001b[0;31mSyntaxError\u001b[0m\u001b[0;31m:\u001b[0m invalid syntax\n"
          ]
        }
      ]
    },
    {
      "cell_type": "code",
      "metadata": {
        "id": "m2PT70lAAJRt",
        "colab_type": "code",
        "colab": {
          "base_uri": "https://localhost:8080/",
          "height": 51
        },
        "outputId": "69f8d3ce-6a92-4ac3-e945-722a58dfc9ed"
      },
      "source": [
        "testdata = get_weather(traffic)"
      ],
      "execution_count": 29,
      "outputs": [
        {
          "output_type": "stream",
          "text": [
            "/usr/local/lib/python3.6/dist-packages/ipykernel_launcher.py:7: DtypeWarning: Columns (0,1,2,3,4,5,6,7,8,9) have mixed types. Specify dtype option on import or set low_memory=False.\n",
            "  import sys\n"
          ],
          "name": "stderr"
        }
      ]
    },
    {
      "cell_type": "code",
      "metadata": {
        "id": "yzopkPP21Tvj",
        "colab_type": "code",
        "colab": {
          "base_uri": "https://localhost:8080/",
          "height": 204
        },
        "outputId": "c4438984-5b35-4f0e-ce41-8d5cee9029ae"
      },
      "source": [
        "testdata.head()"
      ],
      "execution_count": 31,
      "outputs": [
        {
          "output_type": "execute_result",
          "data": {
            "text/html": [
              "<div>\n",
              "<style scoped>\n",
              "    .dataframe tbody tr th:only-of-type {\n",
              "        vertical-align: middle;\n",
              "    }\n",
              "\n",
              "    .dataframe tbody tr th {\n",
              "        vertical-align: top;\n",
              "    }\n",
              "\n",
              "    .dataframe thead th {\n",
              "        text-align: right;\n",
              "    }\n",
              "</style>\n",
              "<table border=\"1\" class=\"dataframe\">\n",
              "  <thead>\n",
              "    <tr style=\"text-align: right;\">\n",
              "      <th></th>\n",
              "      <th>STN</th>\n",
              "      <th>YYYYMMDD</th>\n",
              "      <th>HH</th>\n",
              "      <th>T</th>\n",
              "      <th>T10</th>\n",
              "      <th>TD</th>\n",
              "      <th>DR</th>\n",
              "      <th>RH</th>\n",
              "      <th>SQ</th>\n",
              "      <th>Q</th>\n",
              "    </tr>\n",
              "  </thead>\n",
              "  <tbody>\n",
              "    <tr>\n",
              "      <th>2011-01-03 00:00:00</th>\n",
              "      <td>260</td>\n",
              "      <td>20110103</td>\n",
              "      <td>0</td>\n",
              "      <td>4</td>\n",
              "      <td>NaN</td>\n",
              "      <td>-2</td>\n",
              "      <td>0</td>\n",
              "      <td>0</td>\n",
              "      <td>0</td>\n",
              "      <td>0</td>\n",
              "    </tr>\n",
              "    <tr>\n",
              "      <th>2011-01-03 01:00:00</th>\n",
              "      <td>260</td>\n",
              "      <td>20110103</td>\n",
              "      <td>1</td>\n",
              "      <td>2</td>\n",
              "      <td>NaN</td>\n",
              "      <td>-5</td>\n",
              "      <td>0</td>\n",
              "      <td>0</td>\n",
              "      <td>0</td>\n",
              "      <td>0</td>\n",
              "    </tr>\n",
              "    <tr>\n",
              "      <th>2011-01-03 02:00:00</th>\n",
              "      <td>260</td>\n",
              "      <td>20110103</td>\n",
              "      <td>2</td>\n",
              "      <td>-3</td>\n",
              "      <td>NaN</td>\n",
              "      <td>-6</td>\n",
              "      <td>0</td>\n",
              "      <td>0</td>\n",
              "      <td>0</td>\n",
              "      <td>0</td>\n",
              "    </tr>\n",
              "    <tr>\n",
              "      <th>2011-01-03 03:00:00</th>\n",
              "      <td>260</td>\n",
              "      <td>20110103</td>\n",
              "      <td>3</td>\n",
              "      <td>-33</td>\n",
              "      <td>NaN</td>\n",
              "      <td>-36</td>\n",
              "      <td>0</td>\n",
              "      <td>0</td>\n",
              "      <td>0</td>\n",
              "      <td>0</td>\n",
              "    </tr>\n",
              "    <tr>\n",
              "      <th>2011-01-03 04:00:00</th>\n",
              "      <td>260</td>\n",
              "      <td>20110103</td>\n",
              "      <td>4</td>\n",
              "      <td>-35</td>\n",
              "      <td>NaN</td>\n",
              "      <td>-37</td>\n",
              "      <td>0</td>\n",
              "      <td>0</td>\n",
              "      <td>0</td>\n",
              "      <td>0</td>\n",
              "    </tr>\n",
              "  </tbody>\n",
              "</table>\n",
              "</div>"
            ],
            "text/plain": [
              "                     STN  YYYYMMDD HH    T  T10   TD DR RH SQ  Q\n",
              "2011-01-03 00:00:00  260  20110103  0    4  NaN   -2  0  0  0  0\n",
              "2011-01-03 01:00:00  260  20110103  1    2  NaN   -5  0  0  0  0\n",
              "2011-01-03 02:00:00  260  20110103  2   -3  NaN   -6  0  0  0  0\n",
              "2011-01-03 03:00:00  260  20110103  3  -33  NaN  -36  0  0  0  0\n",
              "2011-01-03 04:00:00  260  20110103  4  -35  NaN  -37  0  0  0  0"
            ]
          },
          "metadata": {
            "tags": []
          },
          "execution_count": 31
        }
      ]
    },
    {
      "cell_type": "code",
      "metadata": {
        "id": "i_sC6SzD5R7w",
        "colab_type": "code",
        "colab": {}
      },
      "source": [
        "# T        = Temperatuur (in 0.1 graden Celsius) op 1.50 m hoogte tijdens de waarneming; \n",
        "# TD       = Dauwpuntstemperatuur (in 0.1 graden Celsius) op 1.50 m hoogte tijdens de waarneming;\n",
        "# DR       = Duur van de neerslag (in 0.1 uur) per uurvak; \n",
        "# RH       = Uursom van de neerslag (in 0.1 mm) (-1 voor <0.05 mm); \n",
        "# SQ       = Duur van de zonneschijn (in 0.1 uren) per uurvak, berekend uit globale straling  (-1 for <0.05 uur); \n",
        "# Q        = Globale straling (in J/cm2) per uurvak; \n",
        "\n",
        "\n"
      ],
      "execution_count": 0,
      "outputs": []
    },
    {
      "cell_type": "code",
      "metadata": {
        "id": "NV8Kbv035R_R",
        "colab_type": "code",
        "colab": {}
      },
      "source": [
        "arr = np.array([10, 10, 1, 10, 1, 1])"
      ],
      "execution_count": 0,
      "outputs": []
    },
    {
      "cell_type": "code",
      "metadata": {
        "id": "OukKHdl2SIpo",
        "colab_type": "code",
        "colab": {
          "base_uri": "https://localhost:8080/",
          "height": 419
        },
        "outputId": "ae6a5948-5591-4381-bc90-a7f7e6a8e837"
      },
      "source": [
        "testdata.div(arr)"
      ],
      "execution_count": 51,
      "outputs": [
        {
          "output_type": "execute_result",
          "data": {
            "text/html": [
              "<div>\n",
              "<style scoped>\n",
              "    .dataframe tbody tr th:only-of-type {\n",
              "        vertical-align: middle;\n",
              "    }\n",
              "\n",
              "    .dataframe tbody tr th {\n",
              "        vertical-align: top;\n",
              "    }\n",
              "\n",
              "    .dataframe thead th {\n",
              "        text-align: right;\n",
              "    }\n",
              "</style>\n",
              "<table border=\"1\" class=\"dataframe\">\n",
              "  <thead>\n",
              "    <tr style=\"text-align: right;\">\n",
              "      <th></th>\n",
              "      <th>T</th>\n",
              "      <th>TD</th>\n",
              "      <th>DR</th>\n",
              "      <th>RH</th>\n",
              "      <th>SQ</th>\n",
              "      <th>Q</th>\n",
              "    </tr>\n",
              "  </thead>\n",
              "  <tbody>\n",
              "    <tr>\n",
              "      <th>2011-01-03 00:00:00</th>\n",
              "      <td>0.4</td>\n",
              "      <td>-0.2</td>\n",
              "      <td>0.0</td>\n",
              "      <td>0.0</td>\n",
              "      <td>0.0</td>\n",
              "      <td>0.0</td>\n",
              "    </tr>\n",
              "    <tr>\n",
              "      <th>2011-01-03 01:00:00</th>\n",
              "      <td>0.2</td>\n",
              "      <td>-0.5</td>\n",
              "      <td>0.0</td>\n",
              "      <td>0.0</td>\n",
              "      <td>0.0</td>\n",
              "      <td>0.0</td>\n",
              "    </tr>\n",
              "    <tr>\n",
              "      <th>2011-01-03 02:00:00</th>\n",
              "      <td>-0.3</td>\n",
              "      <td>-0.6</td>\n",
              "      <td>0.0</td>\n",
              "      <td>0.0</td>\n",
              "      <td>0.0</td>\n",
              "      <td>0.0</td>\n",
              "    </tr>\n",
              "    <tr>\n",
              "      <th>2011-01-03 03:00:00</th>\n",
              "      <td>-3.3</td>\n",
              "      <td>-3.6</td>\n",
              "      <td>0.0</td>\n",
              "      <td>0.0</td>\n",
              "      <td>0.0</td>\n",
              "      <td>0.0</td>\n",
              "    </tr>\n",
              "    <tr>\n",
              "      <th>2011-01-03 04:00:00</th>\n",
              "      <td>-3.5</td>\n",
              "      <td>-3.7</td>\n",
              "      <td>0.0</td>\n",
              "      <td>0.0</td>\n",
              "      <td>0.0</td>\n",
              "      <td>0.0</td>\n",
              "    </tr>\n",
              "    <tr>\n",
              "      <th>...</th>\n",
              "      <td>...</td>\n",
              "      <td>...</td>\n",
              "      <td>...</td>\n",
              "      <td>...</td>\n",
              "      <td>...</td>\n",
              "      <td>...</td>\n",
              "    </tr>\n",
              "    <tr>\n",
              "      <th>2019-12-30 19:00:00</th>\n",
              "      <td>4.9</td>\n",
              "      <td>-1.1</td>\n",
              "      <td>0.0</td>\n",
              "      <td>0.0</td>\n",
              "      <td>0.0</td>\n",
              "      <td>0.0</td>\n",
              "    </tr>\n",
              "    <tr>\n",
              "      <th>2019-12-30 20:00:00</th>\n",
              "      <td>4.4</td>\n",
              "      <td>-0.3</td>\n",
              "      <td>0.0</td>\n",
              "      <td>0.0</td>\n",
              "      <td>0.0</td>\n",
              "      <td>0.0</td>\n",
              "    </tr>\n",
              "    <tr>\n",
              "      <th>2019-12-30 21:00:00</th>\n",
              "      <td>4.2</td>\n",
              "      <td>0.2</td>\n",
              "      <td>0.0</td>\n",
              "      <td>0.0</td>\n",
              "      <td>0.0</td>\n",
              "      <td>0.0</td>\n",
              "    </tr>\n",
              "    <tr>\n",
              "      <th>2019-12-30 22:00:00</th>\n",
              "      <td>3.9</td>\n",
              "      <td>0.8</td>\n",
              "      <td>0.0</td>\n",
              "      <td>0.0</td>\n",
              "      <td>0.0</td>\n",
              "      <td>0.0</td>\n",
              "    </tr>\n",
              "    <tr>\n",
              "      <th>2019-12-30 23:00:00</th>\n",
              "      <td>3.7</td>\n",
              "      <td>1.6</td>\n",
              "      <td>0.0</td>\n",
              "      <td>0.0</td>\n",
              "      <td>0.0</td>\n",
              "      <td>0.0</td>\n",
              "    </tr>\n",
              "  </tbody>\n",
              "</table>\n",
              "<p>78816 rows × 6 columns</p>\n",
              "</div>"
            ],
            "text/plain": [
              "                       T   TD   DR   RH   SQ    Q\n",
              "2011-01-03 00:00:00  0.4 -0.2  0.0  0.0  0.0  0.0\n",
              "2011-01-03 01:00:00  0.2 -0.5  0.0  0.0  0.0  0.0\n",
              "2011-01-03 02:00:00 -0.3 -0.6  0.0  0.0  0.0  0.0\n",
              "2011-01-03 03:00:00 -3.3 -3.6  0.0  0.0  0.0  0.0\n",
              "2011-01-03 04:00:00 -3.5 -3.7  0.0  0.0  0.0  0.0\n",
              "...                  ...  ...  ...  ...  ...  ...\n",
              "2019-12-30 19:00:00  4.9 -1.1  0.0  0.0  0.0  0.0\n",
              "2019-12-30 20:00:00  4.4 -0.3  0.0  0.0  0.0  0.0\n",
              "2019-12-30 21:00:00  4.2  0.2  0.0  0.0  0.0  0.0\n",
              "2019-12-30 22:00:00  3.9  0.8  0.0  0.0  0.0  0.0\n",
              "2019-12-30 23:00:00  3.7  1.6  0.0  0.0  0.0  0.0\n",
              "\n",
              "[78816 rows x 6 columns]"
            ]
          },
          "metadata": {
            "tags": []
          },
          "execution_count": 51
        }
      ]
    },
    {
      "cell_type": "code",
      "metadata": {
        "id": "J8GOW0JU5SCq",
        "colab_type": "code",
        "colab": {}
      },
      "source": [
        "testdata = testdata.apply(pd.to_numeric)"
      ],
      "execution_count": 0,
      "outputs": []
    },
    {
      "cell_type": "code",
      "metadata": {
        "id": "DZeT80ZO5SFN",
        "colab_type": "code",
        "colab": {
          "base_uri": "https://localhost:8080/",
          "height": 204
        },
        "outputId": "3ceb6ce5-894a-4bc3-cca0-ca59123afe62"
      },
      "source": [
        "testdata.head()"
      ],
      "execution_count": 52,
      "outputs": [
        {
          "output_type": "execute_result",
          "data": {
            "text/html": [
              "<div>\n",
              "<style scoped>\n",
              "    .dataframe tbody tr th:only-of-type {\n",
              "        vertical-align: middle;\n",
              "    }\n",
              "\n",
              "    .dataframe tbody tr th {\n",
              "        vertical-align: top;\n",
              "    }\n",
              "\n",
              "    .dataframe thead th {\n",
              "        text-align: right;\n",
              "    }\n",
              "</style>\n",
              "<table border=\"1\" class=\"dataframe\">\n",
              "  <thead>\n",
              "    <tr style=\"text-align: right;\">\n",
              "      <th></th>\n",
              "      <th>T</th>\n",
              "      <th>TD</th>\n",
              "      <th>DR</th>\n",
              "      <th>RH</th>\n",
              "      <th>SQ</th>\n",
              "      <th>Q</th>\n",
              "    </tr>\n",
              "  </thead>\n",
              "  <tbody>\n",
              "    <tr>\n",
              "      <th>2011-01-03 00:00:00</th>\n",
              "      <td>4</td>\n",
              "      <td>-2</td>\n",
              "      <td>0</td>\n",
              "      <td>0</td>\n",
              "      <td>0</td>\n",
              "      <td>0</td>\n",
              "    </tr>\n",
              "    <tr>\n",
              "      <th>2011-01-03 01:00:00</th>\n",
              "      <td>2</td>\n",
              "      <td>-5</td>\n",
              "      <td>0</td>\n",
              "      <td>0</td>\n",
              "      <td>0</td>\n",
              "      <td>0</td>\n",
              "    </tr>\n",
              "    <tr>\n",
              "      <th>2011-01-03 02:00:00</th>\n",
              "      <td>-3</td>\n",
              "      <td>-6</td>\n",
              "      <td>0</td>\n",
              "      <td>0</td>\n",
              "      <td>0</td>\n",
              "      <td>0</td>\n",
              "    </tr>\n",
              "    <tr>\n",
              "      <th>2011-01-03 03:00:00</th>\n",
              "      <td>-33</td>\n",
              "      <td>-36</td>\n",
              "      <td>0</td>\n",
              "      <td>0</td>\n",
              "      <td>0</td>\n",
              "      <td>0</td>\n",
              "    </tr>\n",
              "    <tr>\n",
              "      <th>2011-01-03 04:00:00</th>\n",
              "      <td>-35</td>\n",
              "      <td>-37</td>\n",
              "      <td>0</td>\n",
              "      <td>0</td>\n",
              "      <td>0</td>\n",
              "      <td>0</td>\n",
              "    </tr>\n",
              "  </tbody>\n",
              "</table>\n",
              "</div>"
            ],
            "text/plain": [
              "                      T  TD  DR  RH  SQ  Q\n",
              "2011-01-03 00:00:00   4  -2   0   0   0  0\n",
              "2011-01-03 01:00:00   2  -5   0   0   0  0\n",
              "2011-01-03 02:00:00  -3  -6   0   0   0  0\n",
              "2011-01-03 03:00:00 -33 -36   0   0   0  0\n",
              "2011-01-03 04:00:00 -35 -37   0   0   0  0"
            ]
          },
          "metadata": {
            "tags": []
          },
          "execution_count": 52
        }
      ]
    },
    {
      "cell_type": "code",
      "metadata": {
        "id": "th9cX7aY1Tya",
        "colab_type": "code",
        "colab": {}
      },
      "source": [
        ""
      ],
      "execution_count": 0,
      "outputs": []
    }
  ]
}