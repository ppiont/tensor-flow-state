{
  "nbformat": 4,
  "nbformat_minor": 0,
  "metadata": {
    "colab": {
      "name": "weather.ipynb",
      "provenance": [],
      "toc_visible": true,
      "authorship_tag": "ABX9TyOCUVNdOOC8BXrFHmpP41YF",
      "include_colab_link": true
    },
    "kernelspec": {
      "name": "python3",
      "display_name": "Python 3"
    }
  },
  "cells": [
    {
      "cell_type": "markdown",
      "metadata": {
        "id": "view-in-github",
        "colab_type": "text"
      },
      "source": [
        "<a href=\"https://colab.research.google.com/github/ppiont/tensor-flow-state/blob/master/weather.ipynb\" target=\"_parent\"><img src=\"https://colab.research.google.com/assets/colab-badge.svg\" alt=\"Open In Colab\"/></a>"
      ]
    },
    {
      "cell_type": "code",
      "metadata": {
        "id": "Dwu9P3IObd32",
        "colab_type": "code",
        "colab": {}
      },
      "source": [
        "# install knmy\n",
        "!pip install git+https://github.com/python-visualization/folium"
      ],
      "execution_count": 0,
      "outputs": []
    },
    {
      "cell_type": "code",
      "metadata": {
        "id": "HUrCauRUbXIL",
        "colab_type": "code",
        "colab": {}
      },
      "source": [
        "from google.colab import drive\n",
        "drive.mount(\"/gdrive\", force_remount = True)"
      ],
      "execution_count": 0,
      "outputs": []
    },
    {
      "cell_type": "code",
      "metadata": {
        "id": "AhBwWyZDbdQ3",
        "colab_type": "code",
        "colab": {}
      },
      "source": [
        "from knmy import knmy\n",
        "import pandas as pd\n",
        "import numpy as np\n",
        "\n",
        "def knmi_get(start, end, stations=[240]):\n",
        "    \n",
        "    # knmy.get_hourly_data returns a tuple with 4 items. Immediately index to [3] to get the df with weather variables. \n",
        "    knmi_data = knmy.get_hourly_data(stations=[240], start=start, end=end,\n",
        "                            inseason=False, variables=['ALL'], parse=True)[3]\n",
        "    \n",
        "    # Rename columns\n",
        "    cols = ['weatherstation', 'date', 'hour', 'winddirection', 'windspeed_avg', \\\n",
        "            'windspeed_10m','windspeed_max', 'temperature', 'temperature_min', \\\n",
        "            'temperature_dewpoint', 'sunduration', 'sunradiation', \\\n",
        "            'precipitationduration', 'precipitation', 'airpressure', \\\n",
        "            'horizontalview', 'cloudcover', 'relativehumidity', 'weathercode', \\\n",
        "            'weathercodeindicator', 'mist', 'rain', 'snow', 'storm', 'ice']\n",
        "    knmi_data.columns = cols\n",
        "    \n",
        "    # Drop useless columns\n",
        "    knmi_data.drop(['winddirection', 'windspeed_10m', 'temperature_dewpoint', \\\n",
        "                    'horizontalview', 'cloudcover', 'weathercode', \\\n",
        "                    'weathercodeindicator'], axis = 1, inplace=True)\n",
        "    # Drop first row since it's actually a header, then reset index\n",
        "    knmi_data.drop([0], inplace=True)\n",
        "    knmi_data.reset_index(drop=True, inplace=True)\n",
        "    # Subtract one hour to make data in line with NDW\n",
        "    knmi_data.hour = knmi_data.hour.astype(int) - 1\n",
        "    # Remove columns with NA vals\n",
        "    knmi_data.dropna(axis=1, inplace=True)\n",
        "    # Make dataframe numeric\n",
        "    knmi_data = knmi_data.apply(pd.to_numeric)\n",
        "    # Remove negative precipitation values (-1 means 0.05mm or less)\n",
        "    knmi_data['precipitation'] = \\\n",
        "        np.where(knmi_data['precipitation'] < 0, 0, knmi_data['precipitation'])\n",
        "    # Make date col a datetime object\n",
        "    knmi_data['date'] = pd.to_datetime(knmi_data['date'], yearfirst = True, \n",
        "                                                  format = '%Y%m%d').dt.date\n",
        "    return knmi_data"
      ],
      "execution_count": 0,
      "outputs": []
    }
  ]
}