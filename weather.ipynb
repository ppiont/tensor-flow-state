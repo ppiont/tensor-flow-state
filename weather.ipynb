{
  "nbformat": 4,
  "nbformat_minor": 0,
  "metadata": {
    "colab": {
      "name": "weather.ipynb",
      "provenance": [],
      "authorship_tag": "ABX9TyNkNsJJqIMMogqrkq1T91w9",
      "include_colab_link": true
    },
    "kernelspec": {
      "name": "python3",
      "display_name": "Python 3"
    }
  },
  "cells": [
    {
      "cell_type": "markdown",
      "metadata": {
        "id": "view-in-github",
        "colab_type": "text"
      },
      "source": [
        "<a href=\"https://colab.research.google.com/github/ppiont/tensor-flow-state/blob/master/weather.ipynb\" target=\"_parent\"><img src=\"https://colab.research.google.com/assets/colab-badge.svg\" alt=\"Open In Colab\"/></a>"
      ]
    },
    {
      "cell_type": "code",
      "metadata": {
        "id": "Dwu9P3IObd32",
        "colab_type": "code",
        "colab": {}
      },
      "source": [
        "# Supress cell output\n",
        "%%capture\n",
        "# Install knmy\n",
        "!pip install knmy"
      ],
      "execution_count": 0,
      "outputs": []
    },
    {
      "cell_type": "code",
      "metadata": {
        "id": "HUrCauRUbXIL",
        "colab_type": "code",
        "outputId": "45df8bbf-ddf2-4987-a978-f96c754c4d0e",
        "colab": {
          "base_uri": "https://localhost:8080/",
          "height": 128
        }
      },
      "source": [
        "from google.colab import drive\n",
        "drive.mount(\"/gdrive\", force_remount = True)"
      ],
      "execution_count": 0,
      "outputs": [
        {
          "output_type": "stream",
          "text": [
            "Go to this URL in a browser: https://accounts.google.com/o/oauth2/auth?client_id=947318989803-6bn6qk8qdgf4n4g3pfee6491hc0brc4i.apps.googleusercontent.com&redirect_uri=urn%3aietf%3awg%3aoauth%3a2.0%3aoob&response_type=code&scope=email%20https%3a%2f%2fwww.googleapis.com%2fauth%2fdocs.test%20https%3a%2f%2fwww.googleapis.com%2fauth%2fdrive%20https%3a%2f%2fwww.googleapis.com%2fauth%2fdrive.photos.readonly%20https%3a%2f%2fwww.googleapis.com%2fauth%2fpeopleapi.readonly\n",
            "\n",
            "Enter your authorization code:\n",
            "··········\n",
            "Mounted at /gdrive\n"
          ],
          "name": "stdout"
        }
      ]
    },
    {
      "cell_type": "code",
      "metadata": {
        "id": "c2TuHMFCAP22",
        "colab_type": "code",
        "outputId": "c4a32dab-2245-48d3-9a94-17772828a712",
        "colab": {
          "base_uri": "https://localhost:8080/",
          "height": 35
        }
      },
      "source": [
        "%cd \"/gdrive/My Drive/tensor-flow-state/tensor-flow-state\""
      ],
      "execution_count": 0,
      "outputs": [
        {
          "output_type": "stream",
          "text": [
            "/gdrive/My Drive/tensor-flow-state/tensor-flow-state\n"
          ],
          "name": "stdout"
        }
      ]
    },
    {
      "cell_type": "code",
      "metadata": {
        "id": "frevKvEd1Tg4",
        "colab_type": "code",
        "colab": {}
      },
      "source": [
        "import pandas as pd\n",
        "traffic = pd.read_csv(\"data/df_imputed_week_shift_added_holiday_weekends_speed_limit_130.csv\", index_col = 0, parse_dates = True)"
      ],
      "execution_count": 0,
      "outputs": []
    },
    {
      "cell_type": "code",
      "metadata": {
        "id": "ltXI71st1TrX",
        "colab_type": "code",
        "colab": {}
      },
      "source": [
        "from knmy import knmy\n",
        "import pandas as pd\n",
        "import numpy as np\n",
        "import datetime\n",
        "\n",
        "def get_weather(traffic_df):\n",
        "    freq = pd.infer_freq(traffic_df.index)\n",
        "    start = (traffic.index[0] + datetime.timedelta(hours = 1)).strftime(\"%Y%m%d%H\")\n",
        "    end = (traffic.index[-1] + datetime.timedelta(hours = 1)).strftime(\"%Y%m%d%H\") # this creates an extra day, but workaround would be tedious due to 00/24 difference\n",
        "    *_, data = knmy.get_hourly_data(stations = [260], start = start, end = end, inseason = False, variables = [\"TEMP\", \"PRCP\", \"SUNR\"], parse = True)\n",
        "    # Drop first row (it's a duplicate header)\n",
        "    data.drop([0], inplace = True)\n",
        "    # Switch from end of hour (KNMI convention) to start of hour (NDW convention)\n",
        "    data.HH = (data.HH.astype(int) - 1).astype(str)\n",
        "    # Remove the extra day at the end\n",
        "    data = data[:-23]\n",
        "    # Create datetime index\n",
        "    data.index = pd.to_datetime(data.YYYYMMDD.astype(str) + data.HH.str.zfill(2), format = \"%Y%m%d%H\", yearfirst = True)\n",
        "    # Select wanted columns\n",
        "    data = data[[\"T\", \"TD\", \"DR\", \"RH\", \"SQ\", \"Q\"]]\n",
        "    # Rename columns\n",
        "    data.rename(columns = {\"T\": \"temp\", \"TD\": \"dew_point_temp\", \"DR\": \"precip_duration\", \"RH\": \"precip_sum\", \"SQ\": \"sun_duration\", \"Q\": \"sun_radiation\"}, \n",
        "                inplace = True)\n",
        "    # Switch to numeric dtypes\n",
        "    data = data.astype(np.int32)\n",
        "    # Switch to to Celsius and mm instead of dC and dmm\n",
        "    data = data.div([10, 10, 1, 10, 1, 1], axis = 1)\n",
        "\n",
        "    \n",
        "    return data"
      ],
      "execution_count": 0,
      "outputs": []
    },
    {
      "cell_type": "code",
      "metadata": {
        "id": "m2PT70lAAJRt",
        "colab_type": "code",
        "outputId": "4e720535-62e3-4ecf-ade2-b5a0d7051b77",
        "colab": {
          "base_uri": "https://localhost:8080/",
          "height": 54
        }
      },
      "source": [
        "weather = get_weather(traffic)"
      ],
      "execution_count": 0,
      "outputs": [
        {
          "output_type": "stream",
          "text": [
            "/usr/local/lib/python3.6/dist-packages/ipykernel_launcher.py:10: DtypeWarning: Columns (0,1,2,3,4,5,6,7,8,9) have mixed types. Specify dtype option on import or set low_memory=False.\n",
            "  # Remove the CWD from sys.path while we load stuff.\n"
          ],
          "name": "stderr"
        }
      ]
    },
    {
      "cell_type": "code",
      "metadata": {
        "id": "yzopkPP21Tvj",
        "colab_type": "code",
        "colab": {}
      },
      "source": [
        "weather = weather.resample(\"T\").pad()[:-1]"
      ],
      "execution_count": 0,
      "outputs": []
    },
    {
      "cell_type": "code",
      "metadata": {
        "id": "gBWan56ktO-1",
        "colab_type": "code",
        "colab": {}
      },
      "source": [
        "traffic.index.name = \"time\"\n",
        "weather.index.name = \"time\""
      ],
      "execution_count": 0,
      "outputs": []
    },
    {
      "cell_type": "code",
      "metadata": {
        "id": "ymtEwjiEl8HD",
        "colab_type": "code",
        "colab": {}
      },
      "source": [
        "df = traffic.merge(weather, how = 'left', on = \"time\")"
      ],
      "execution_count": 0,
      "outputs": []
    },
    {
      "cell_type": "code",
      "metadata": {
        "id": "Gi9mY7yFl8Kj",
        "colab_type": "code",
        "colab": {}
      },
      "source": [
        "df.to_csv(\"data/final_data.csv\")"
      ],
      "execution_count": 0,
      "outputs": []
    },
    {
      "cell_type": "code",
      "metadata": {
        "id": "i_sC6SzD5R7w",
        "colab_type": "code",
        "colab": {}
      },
      "source": [
        "# T        = Temperatuur (in 0.1 graden Celsius) op 1.50 m hoogte tijdens de waarneming; \n",
        "# TD       = Dauwpuntstemperatuur (in 0.1 graden Celsius) op 1.50 m hoogte tijdens de waarneming;\n",
        "# DR       = Duur van de neerslag (in 0.1 uur) per uurvak; \n",
        "# RH       = Uursom van de neerslag (in 0.1 mm) (-1 voor <0.05 mm); \n",
        "# SQ       = Duur van de zonneschijn (in 0.1 uren) per uurvak, berekend uit globale straling  (-1 for <0.05 uur); \n",
        "# Q        = Globale straling (in J/cm2) per uurvak;"
      ],
      "execution_count": 0,
      "outputs": []
    }
  ]
}