{
  "nbformat": 4,
  "nbformat_minor": 0,
  "metadata": {
    "colab": {
      "name": "weather.ipynb",
      "provenance": [],
      "toc_visible": true,
      "authorship_tag": "ABX9TyMEn5iwquMMkculpueS62eb",
      "include_colab_link": true
    },
    "kernelspec": {
      "name": "python3",
      "display_name": "Python 3"
    }
  },
  "cells": [
    {
      "cell_type": "markdown",
      "metadata": {
        "id": "view-in-github",
        "colab_type": "text"
      },
      "source": [
        "<a href=\"https://colab.research.google.com/github/ppiont/tensor-flow-state/blob/master/weather.ipynb\" target=\"_parent\"><img src=\"https://colab.research.google.com/assets/colab-badge.svg\" alt=\"Open In Colab\"/></a>"
      ]
    },
    {
      "cell_type": "code",
      "metadata": {
        "id": "Dwu9P3IObd32",
        "colab_type": "code",
        "colab": {
          "base_uri": "https://localhost:8080/",
          "height": 714
        },
        "outputId": "3554b740-d687-4521-edff-f6f83e62c753"
      },
      "source": [
        "# install knmy\n",
        "!pip install knmy"
      ],
      "execution_count": 1,
      "outputs": [
        {
          "output_type": "stream",
          "text": [
            "Collecting knmy\n",
            "  Downloading https://files.pythonhosted.org/packages/9e/8b/e4fe812531a033d11d5352de11e7956f45aa362b6119548990d486ef1b40/knmy-1.0.0.tar.gz\n",
            "Requirement already satisfied: sphinx in /usr/local/lib/python3.6/dist-packages (from knmy) (1.8.5)\n",
            "Collecting sphinx_rtd_theme\n",
            "\u001b[?25l  Downloading https://files.pythonhosted.org/packages/60/b4/4df37087a1d36755e3a3bfd2a30263f358d2dea21938240fa02313d45f51/sphinx_rtd_theme-0.4.3-py2.py3-none-any.whl (6.4MB)\n",
            "\u001b[K     |████████████████████████████████| 6.4MB 4.7MB/s \n",
            "\u001b[?25hRequirement already satisfied: pytest in /usr/local/lib/python3.6/dist-packages (from knmy) (3.6.4)\n",
            "Requirement already satisfied: requests in /usr/local/lib/python3.6/dist-packages (from knmy) (2.21.0)\n",
            "Requirement already satisfied: pandas in /usr/local/lib/python3.6/dist-packages (from knmy) (0.25.3)\n",
            "Requirement already satisfied: babel!=2.0,>=1.3 in /usr/local/lib/python3.6/dist-packages (from sphinx->knmy) (2.8.0)\n",
            "Requirement already satisfied: Pygments>=2.0 in /usr/local/lib/python3.6/dist-packages (from sphinx->knmy) (2.1.3)\n",
            "Requirement already satisfied: imagesize in /usr/local/lib/python3.6/dist-packages (from sphinx->knmy) (1.2.0)\n",
            "Requirement already satisfied: packaging in /usr/local/lib/python3.6/dist-packages (from sphinx->knmy) (20.1)\n",
            "Requirement already satisfied: snowballstemmer>=1.1 in /usr/local/lib/python3.6/dist-packages (from sphinx->knmy) (2.0.0)\n",
            "Requirement already satisfied: sphinxcontrib-websupport in /usr/local/lib/python3.6/dist-packages (from sphinx->knmy) (1.1.2)\n",
            "Requirement already satisfied: Jinja2>=2.3 in /usr/local/lib/python3.6/dist-packages (from sphinx->knmy) (2.11.1)\n",
            "Requirement already satisfied: six>=1.5 in /usr/local/lib/python3.6/dist-packages (from sphinx->knmy) (1.12.0)\n",
            "Requirement already satisfied: alabaster<0.8,>=0.7 in /usr/local/lib/python3.6/dist-packages (from sphinx->knmy) (0.7.12)\n",
            "Requirement already satisfied: docutils>=0.11 in /usr/local/lib/python3.6/dist-packages (from sphinx->knmy) (0.15.2)\n",
            "Requirement already satisfied: setuptools in /usr/local/lib/python3.6/dist-packages (from sphinx->knmy) (45.1.0)\n",
            "Requirement already satisfied: py>=1.5.0 in /usr/local/lib/python3.6/dist-packages (from pytest->knmy) (1.8.1)\n",
            "Requirement already satisfied: pluggy<0.8,>=0.5 in /usr/local/lib/python3.6/dist-packages (from pytest->knmy) (0.7.1)\n",
            "Requirement already satisfied: attrs>=17.4.0 in /usr/local/lib/python3.6/dist-packages (from pytest->knmy) (19.3.0)\n",
            "Requirement already satisfied: atomicwrites>=1.0 in /usr/local/lib/python3.6/dist-packages (from pytest->knmy) (1.3.0)\n",
            "Requirement already satisfied: more-itertools>=4.0.0 in /usr/local/lib/python3.6/dist-packages (from pytest->knmy) (8.2.0)\n",
            "Requirement already satisfied: certifi>=2017.4.17 in /usr/local/lib/python3.6/dist-packages (from requests->knmy) (2019.11.28)\n",
            "Requirement already satisfied: idna<2.9,>=2.5 in /usr/local/lib/python3.6/dist-packages (from requests->knmy) (2.8)\n",
            "Requirement already satisfied: urllib3<1.25,>=1.21.1 in /usr/local/lib/python3.6/dist-packages (from requests->knmy) (1.24.3)\n",
            "Requirement already satisfied: chardet<3.1.0,>=3.0.2 in /usr/local/lib/python3.6/dist-packages (from requests->knmy) (3.0.4)\n",
            "Requirement already satisfied: numpy>=1.13.3 in /usr/local/lib/python3.6/dist-packages (from pandas->knmy) (1.17.5)\n",
            "Requirement already satisfied: pytz>=2017.2 in /usr/local/lib/python3.6/dist-packages (from pandas->knmy) (2018.9)\n",
            "Requirement already satisfied: python-dateutil>=2.6.1 in /usr/local/lib/python3.6/dist-packages (from pandas->knmy) (2.6.1)\n",
            "Requirement already satisfied: pyparsing>=2.0.2 in /usr/local/lib/python3.6/dist-packages (from packaging->sphinx->knmy) (2.4.6)\n",
            "Requirement already satisfied: MarkupSafe>=0.23 in /usr/local/lib/python3.6/dist-packages (from Jinja2>=2.3->sphinx->knmy) (1.1.1)\n",
            "Building wheels for collected packages: knmy\n",
            "  Building wheel for knmy (setup.py) ... \u001b[?25l\u001b[?25hdone\n",
            "  Created wheel for knmy: filename=knmy-1.0.0-py2.py3-none-any.whl size=5501 sha256=8d5a5d3c1a15105351c327bf82ada788f663871d295162f9ddb71b9eb0052f59\n",
            "  Stored in directory: /root/.cache/pip/wheels/a1/15/f8/75d11ed17dbbb170e1a83741e2d651f6655d2be905d3ed5616\n",
            "Successfully built knmy\n",
            "Installing collected packages: sphinx-rtd-theme, knmy\n",
            "Successfully installed knmy-1.0.0 sphinx-rtd-theme-0.4.3\n"
          ],
          "name": "stdout"
        }
      ]
    },
    {
      "cell_type": "code",
      "metadata": {
        "id": "HUrCauRUbXIL",
        "colab_type": "code",
        "colab": {
          "base_uri": "https://localhost:8080/",
          "height": 122
        },
        "outputId": "e0c75c84-9042-469b-8d32-aa5892957bac"
      },
      "source": [
        "from google.colab import drive\n",
        "drive.mount(\"/gdrive\", force_remount = True)"
      ],
      "execution_count": 2,
      "outputs": [
        {
          "output_type": "stream",
          "text": [
            "Go to this URL in a browser: https://accounts.google.com/o/oauth2/auth?client_id=947318989803-6bn6qk8qdgf4n4g3pfee6491hc0brc4i.apps.googleusercontent.com&redirect_uri=urn%3aietf%3awg%3aoauth%3a2.0%3aoob&response_type=code&scope=email%20https%3a%2f%2fwww.googleapis.com%2fauth%2fdocs.test%20https%3a%2f%2fwww.googleapis.com%2fauth%2fdrive%20https%3a%2f%2fwww.googleapis.com%2fauth%2fdrive.photos.readonly%20https%3a%2f%2fwww.googleapis.com%2fauth%2fpeopleapi.readonly\n",
            "\n",
            "Enter your authorization code:\n",
            "··········\n",
            "Mounted at /gdrive\n"
          ],
          "name": "stdout"
        }
      ]
    },
    {
      "cell_type": "code",
      "metadata": {
        "id": "AhBwWyZDbdQ3",
        "colab_type": "code",
        "colab": {}
      },
      "source": [
        "from knmy import knmy\n",
        "import pandas as pd\n",
        "import numpy as np\n",
        "\n",
        "def knmi_get(start, end, stations=[240, 260]):\n",
        "    \n",
        "    # knmy.get_hourly_data returns a tuple with 4 items. Immediately index to [3] to get the df with weather variables. \n",
        "    knmi_data = knmy.get_hourly_data(stations=[240], start=start, end=end,\n",
        "                            inseason=False, variables=['ALL'], parse=True)[3]\n",
        "    \n",
        "    # Rename columns\n",
        "    cols = ['station', 'winddirection', 'windspeed_avg', \\\n",
        "            'windspeed_10m','windspeed_max', 'temperature', 'temperature_min', \\\n",
        "            'temperature_dewpoint', 'sunduration', 'sunradiation', \\\n",
        "            'precipitationduration', 'precipitation', 'airpressure', \\\n",
        "            'horizontalview', 'cloudcover', 'relativehumidity', 'weathercode', \\\n",
        "            'weathercodeindicator', 'mist', 'rain', 'snow', 'storm', 'ice']\n",
        "    knmi_data.columns = cols\n",
        "    \n",
        "    # Drop useless columns\n",
        "    knmi_data.drop(['winddirection', 'windspeed_10m', 'temperature_dewpoint', \\\n",
        "                    'horizontalview', 'cloudcover', 'weathercode', \\\n",
        "                    'weathercodeindicator'], axis = 1, inplace=True)\n",
        "    # Drop first row since it's actually a header, then reset index\n",
        "    knmi_data.drop([0], inplace=True)\n",
        "    knmi_data.reset_index(drop=True, inplace=True)\n",
        "    # Subtract one hour to make data in line with NDW\n",
        "    knmi_data.hour = knmi_data.hour.astype(int) - 1\n",
        "    # Remove columns with NA vals\n",
        "    knmi_data.dropna(axis=1, inplace=True)\n",
        "    # Make dataframe numeric\n",
        "    knmi_data = knmi_data.apply(pd.to_numeric)\n",
        "    # Remove negative precipitation values (-1 means 0.05mm or less)\n",
        "    knmi_data['precipitation'] = \\\n",
        "        np.where(knmi_data['precipitation'] < 0, 0, knmi_data['precipitation'])\n",
        "    # Make date col a datetime object\n",
        "    knmi_data['date'] = pd.to_datetime(knmi_data['date'], yearfirst = True, \n",
        "                                                  format = '%Y%m%d').dt.date\n",
        "    return knmi_data"
      ],
      "execution_count": 0,
      "outputs": []
    },
    {
      "cell_type": "code",
      "metadata": {
        "id": "frevKvEd1Tg4",
        "colab_type": "code",
        "colab": {}
      },
      "source": [
        ""
      ],
      "execution_count": 0,
      "outputs": []
    },
    {
      "cell_type": "code",
      "metadata": {
        "id": "RjhpQVAy1Tm-",
        "colab_type": "code",
        "colab": {
          "base_uri": "https://localhost:8080/",
          "height": 51
        },
        "outputId": "e7870be3-511b-4a02-d742-2776c9dc22ae"
      },
      "source": [
        "*_, data = knmy.get_hourly_data(stations = [260], start = 2011010101, end = 2019123124, inseason = True, variables = ['WIND', 'TEMP'], parse = True)\n",
        "# Drop first row (it's a duplicate header)\n",
        "data.drop([0], inplace = True)\n",
        "# Switch from end of hour (KNMI convention) to start of hour (NDW convention)\n",
        "data.HH = (data.HH.astype(int) - 1).astype(str)\n",
        "# Create datetime index\n",
        "data.index = pd.to_datetime(data.YYYYMMDD.astype(str) + data.HH.str.zfill(2), format = \"%Y%m%d%H\", yearfirst = True)"
      ],
      "execution_count": 73,
      "outputs": [
        {
          "output_type": "stream",
          "text": [
            "/usr/local/lib/python3.6/dist-packages/ipykernel_launcher.py:2: DtypeWarning: Columns (0,1,2,3,4,5,6,7,8,9) have mixed types. Specify dtype option on import or set low_memory=False.\n",
            "  \n"
          ],
          "name": "stderr"
        }
      ]
    },
    {
      "cell_type": "code",
      "metadata": {
        "id": "ltXI71st1TrX",
        "colab_type": "code",
        "colab": {
          "base_uri": "https://localhost:8080/",
          "height": 204
        },
        "outputId": "5ccd5947-bde7-48f4-f903-94860b4a3367"
      },
      "source": [
        ""
      ],
      "execution_count": 74,
      "outputs": [
        {
          "output_type": "execute_result",
          "data": {
            "text/html": [
              "<div>\n",
              "<style scoped>\n",
              "    .dataframe tbody tr th:only-of-type {\n",
              "        vertical-align: middle;\n",
              "    }\n",
              "\n",
              "    .dataframe tbody tr th {\n",
              "        vertical-align: top;\n",
              "    }\n",
              "\n",
              "    .dataframe thead th {\n",
              "        text-align: right;\n",
              "    }\n",
              "</style>\n",
              "<table border=\"1\" class=\"dataframe\">\n",
              "  <thead>\n",
              "    <tr style=\"text-align: right;\">\n",
              "      <th></th>\n",
              "      <th>STN</th>\n",
              "      <th>YYYYMMDD</th>\n",
              "      <th>HH</th>\n",
              "      <th>DD</th>\n",
              "      <th>FH</th>\n",
              "      <th>FF</th>\n",
              "      <th>FX</th>\n",
              "      <th>T</th>\n",
              "      <th>T10</th>\n",
              "      <th>TD</th>\n",
              "    </tr>\n",
              "  </thead>\n",
              "  <tbody>\n",
              "    <tr>\n",
              "      <th>2011-01-01 00:00:00</th>\n",
              "      <td>260</td>\n",
              "      <td>20110101</td>\n",
              "      <td>0</td>\n",
              "      <td>240</td>\n",
              "      <td>30</td>\n",
              "      <td>30</td>\n",
              "      <td>40</td>\n",
              "      <td>36</td>\n",
              "      <td>NaN</td>\n",
              "      <td>34</td>\n",
              "    </tr>\n",
              "    <tr>\n",
              "      <th>2011-01-01 01:00:00</th>\n",
              "      <td>260</td>\n",
              "      <td>20110101</td>\n",
              "      <td>1</td>\n",
              "      <td>250</td>\n",
              "      <td>30</td>\n",
              "      <td>20</td>\n",
              "      <td>50</td>\n",
              "      <td>36</td>\n",
              "      <td>NaN</td>\n",
              "      <td>35</td>\n",
              "    </tr>\n",
              "    <tr>\n",
              "      <th>2011-01-01 02:00:00</th>\n",
              "      <td>260</td>\n",
              "      <td>20110101</td>\n",
              "      <td>2</td>\n",
              "      <td>260</td>\n",
              "      <td>30</td>\n",
              "      <td>30</td>\n",
              "      <td>50</td>\n",
              "      <td>39</td>\n",
              "      <td>NaN</td>\n",
              "      <td>38</td>\n",
              "    </tr>\n",
              "    <tr>\n",
              "      <th>2011-01-01 03:00:00</th>\n",
              "      <td>260</td>\n",
              "      <td>20110101</td>\n",
              "      <td>3</td>\n",
              "      <td>270</td>\n",
              "      <td>30</td>\n",
              "      <td>30</td>\n",
              "      <td>50</td>\n",
              "      <td>42</td>\n",
              "      <td>NaN</td>\n",
              "      <td>37</td>\n",
              "    </tr>\n",
              "    <tr>\n",
              "      <th>2011-01-01 04:00:00</th>\n",
              "      <td>260</td>\n",
              "      <td>20110101</td>\n",
              "      <td>4</td>\n",
              "      <td>260</td>\n",
              "      <td>30</td>\n",
              "      <td>30</td>\n",
              "      <td>50</td>\n",
              "      <td>42</td>\n",
              "      <td>NaN</td>\n",
              "      <td>38</td>\n",
              "    </tr>\n",
              "  </tbody>\n",
              "</table>\n",
              "</div>"
            ],
            "text/plain": [
              "                     STN  YYYYMMDD HH   DD  FH  FF  FX   T  T10  TD\n",
              "2011-01-01 00:00:00  260  20110101  0  240  30  30  40  36  NaN  34\n",
              "2011-01-01 01:00:00  260  20110101  1  250  30  20  50  36  NaN  35\n",
              "2011-01-01 02:00:00  260  20110101  2  260  30  30  50  39  NaN  38\n",
              "2011-01-01 03:00:00  260  20110101  3  270  30  30  50  42  NaN  37\n",
              "2011-01-01 04:00:00  260  20110101  4  260  30  30  50  42  NaN  38"
            ]
          },
          "metadata": {
            "tags": []
          },
          "execution_count": 74
        }
      ]
    },
    {
      "cell_type": "code",
      "metadata": {
        "id": "m2PT70lAAJRt",
        "colab_type": "code",
        "colab": {}
      },
      "source": [
        ""
      ],
      "execution_count": 0,
      "outputs": []
    },
    {
      "cell_type": "code",
      "metadata": {
        "id": "yzopkPP21Tvj",
        "colab_type": "code",
        "colab": {}
      },
      "source": [
        ""
      ],
      "execution_count": 0,
      "outputs": []
    },
    {
      "cell_type": "code",
      "metadata": {
        "id": "i_sC6SzD5R7w",
        "colab_type": "code",
        "colab": {}
      },
      "source": [
        ""
      ],
      "execution_count": 0,
      "outputs": []
    },
    {
      "cell_type": "code",
      "metadata": {
        "id": "NV8Kbv035R_R",
        "colab_type": "code",
        "colab": {}
      },
      "source": [
        ""
      ],
      "execution_count": 0,
      "outputs": []
    },
    {
      "cell_type": "code",
      "metadata": {
        "id": "J8GOW0JU5SCq",
        "colab_type": "code",
        "colab": {}
      },
      "source": [
        ""
      ],
      "execution_count": 0,
      "outputs": []
    },
    {
      "cell_type": "code",
      "metadata": {
        "id": "DZeT80ZO5SFN",
        "colab_type": "code",
        "colab": {}
      },
      "source": [
        ""
      ],
      "execution_count": 0,
      "outputs": []
    },
    {
      "cell_type": "code",
      "metadata": {
        "id": "th9cX7aY1Tya",
        "colab_type": "code",
        "colab": {}
      },
      "source": [
        ""
      ],
      "execution_count": 0,
      "outputs": []
    }
  ]
}