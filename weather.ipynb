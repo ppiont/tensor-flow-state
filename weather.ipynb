{
  "nbformat": 4,
  "nbformat_minor": 0,
  "metadata": {
    "colab": {
      "name": "weather.ipynb",
      "provenance": [],
      "authorship_tag": "ABX9TyP1OVJhi53JDw6v1DW4qajo",
      "include_colab_link": true
    },
    "kernelspec": {
      "name": "python3",
      "display_name": "Python 3"
    }
  },
  "cells": [
    {
      "cell_type": "markdown",
      "metadata": {
        "id": "view-in-github",
        "colab_type": "text"
      },
      "source": [
        "<a href=\"https://colab.research.google.com/github/ppiont/tensor-flow-state/blob/master/weather.ipynb\" target=\"_parent\"><img src=\"https://colab.research.google.com/assets/colab-badge.svg\" alt=\"Open In Colab\"/></a>"
      ]
    },
    {
      "cell_type": "code",
      "metadata": {
        "id": "Dwu9P3IObd32",
        "colab_type": "code",
        "colab": {}
      },
      "source": [
        "# Supress cell output\n",
        "%%capture\n",
        "# Install knmy\n",
        "!pip install knmy"
      ],
      "execution_count": 0,
      "outputs": []
    },
    {
      "cell_type": "code",
      "metadata": {
        "id": "HUrCauRUbXIL",
        "colab_type": "code",
        "outputId": "45df8bbf-ddf2-4987-a978-f96c754c4d0e",
        "colab": {
          "base_uri": "https://localhost:8080/",
          "height": 128
        }
      },
      "source": [
        "from google.colab import drive\n",
        "drive.mount(\"/gdrive\", force_remount = True)"
      ],
      "execution_count": 1,
      "outputs": [
        {
          "output_type": "stream",
          "text": [
            "Go to this URL in a browser: https://accounts.google.com/o/oauth2/auth?client_id=947318989803-6bn6qk8qdgf4n4g3pfee6491hc0brc4i.apps.googleusercontent.com&redirect_uri=urn%3aietf%3awg%3aoauth%3a2.0%3aoob&response_type=code&scope=email%20https%3a%2f%2fwww.googleapis.com%2fauth%2fdocs.test%20https%3a%2f%2fwww.googleapis.com%2fauth%2fdrive%20https%3a%2f%2fwww.googleapis.com%2fauth%2fdrive.photos.readonly%20https%3a%2f%2fwww.googleapis.com%2fauth%2fpeopleapi.readonly\n",
            "\n",
            "Enter your authorization code:\n",
            "··········\n",
            "Mounted at /gdrive\n"
          ],
          "name": "stdout"
        }
      ]
    },
    {
      "cell_type": "code",
      "metadata": {
        "id": "c2TuHMFCAP22",
        "colab_type": "code",
        "outputId": "c4a32dab-2245-48d3-9a94-17772828a712",
        "colab": {
          "base_uri": "https://localhost:8080/",
          "height": 35
        }
      },
      "source": [
        "%cd \"/gdrive/My Drive/tensor-flow-state/tensor-flow-state\""
      ],
      "execution_count": 3,
      "outputs": [
        {
          "output_type": "stream",
          "text": [
            "/gdrive/My Drive/tensor-flow-state/tensor-flow-state\n"
          ],
          "name": "stdout"
        }
      ]
    },
    {
      "cell_type": "code",
      "metadata": {
        "id": "frevKvEd1Tg4",
        "colab_type": "code",
        "colab": {}
      },
      "source": [
        "import pandas as pd\n",
        "traffic = pd.read_csv(\"data/df_imputed_week_shift_added_holiday_weekends_speed_limit_130.csv\", index_col = 0, parse_dates = True)"
      ],
      "execution_count": 0,
      "outputs": []
    },
    {
      "cell_type": "code",
      "metadata": {
        "id": "ltXI71st1TrX",
        "colab_type": "code",
        "colab": {}
      },
      "source": [
        "from knmy import knmy\n",
        "import pandas as pd\n",
        "import numpy as np\n",
        "import datetime\n",
        "\n",
        "def get_weather(traffic_df):\n",
        "    freq = pd.infer_freq(traffic_df.index)\n",
        "    start = (traffic.index[0] + datetime.timedelta(hours = 1)).strftime(\"%Y%m%d%H\")\n",
        "    end = (traffic.index[-1] + datetime.timedelta(hours = 1)).strftime(\"%Y%m%d%H\") # this creates an extra day, but workaround would be tedious due to 00/24 difference\n",
        "    *_, data = knmy.get_hourly_data(stations = [260], start = start, end = end, inseason = False, variables = [\"TEMP\", \"PRCP\", \"SUNR\"], parse = True)\n",
        "    # Drop first row (it's a duplicate header)\n",
        "    data.drop([0], inplace = True)\n",
        "    # Switch from end of hour (KNMI convention) to start of hour (NDW convention)\n",
        "    data.HH = (data.HH.astype(int) - 1).astype(str)\n",
        "    # Remove the extra day at the end\n",
        "    data = data[:-23]\n",
        "    # Create datetime index\n",
        "    data.index = pd.to_datetime(data.YYYYMMDD.astype(str) + data.HH.str.zfill(2), format = \"%Y%m%d%H\", yearfirst = True)\n",
        "    # Select wanted columns\n",
        "    data = data[[\"T\", \"TD\", \"DR\", \"RH\", \"SQ\", \"Q\"]]\n",
        "    # Rename columns\n",
        "    data.rename(columns = {\"T\": \"temp\", \"TD\": \"dew_point_temp\", \"DR\": \"precip_duration\", \"RH\": \"precip_sum\", \"SQ\": \"sun_duration\", \"Q\": \"sun_radiation\"}, \n",
        "                inplace = True)\n",
        "    # Switch to numeric dtypes\n",
        "    data = data.astype(np.int32)\n",
        "    # Switch to to Celsius and mm instead of dC and dmm\n",
        "    data = data.div([10, 10, 1, 10, 1, 1], axis = 1)\n",
        "\n",
        "    \n",
        "    return data"
      ],
      "execution_count": 0,
      "outputs": []
    },
    {
      "cell_type": "code",
      "metadata": {
        "id": "m2PT70lAAJRt",
        "colab_type": "code",
        "outputId": "4e720535-62e3-4ecf-ade2-b5a0d7051b77",
        "colab": {
          "base_uri": "https://localhost:8080/",
          "height": 54
        }
      },
      "source": [
        "weather = get_weather(traffic)"
      ],
      "execution_count": 51,
      "outputs": [
        {
          "output_type": "stream",
          "text": [
            "/usr/local/lib/python3.6/dist-packages/ipykernel_launcher.py:10: DtypeWarning: Columns (0,1,2,3,4,5,6,7,8,9) have mixed types. Specify dtype option on import or set low_memory=False.\n",
            "  # Remove the CWD from sys.path while we load stuff.\n"
          ],
          "name": "stderr"
        }
      ]
    },
    {
      "cell_type": "code",
      "metadata": {
        "id": "yzopkPP21Tvj",
        "colab_type": "code",
        "colab": {}
      },
      "source": [
        "weather = weather.resample(\"T\").pad()[:-1]"
      ],
      "execution_count": 0,
      "outputs": []
    },
    {
      "cell_type": "code",
      "metadata": {
        "id": "gBWan56ktO-1",
        "colab_type": "code",
        "colab": {}
      },
      "source": [
        "traffic.index.name = \"time\"\n",
        "weather.index.name = \"time\""
      ],
      "execution_count": 0,
      "outputs": []
    },
    {
      "cell_type": "code",
      "metadata": {
        "id": "ymtEwjiEl8HD",
        "colab_type": "code",
        "colab": {}
      },
      "source": [
        "df = traffic.merge(weather, how = 'left', on = \"time\")"
      ],
      "execution_count": 0,
      "outputs": []
    },
    {
      "cell_type": "code",
      "metadata": {
        "id": "Gi9mY7yFl8Kj",
        "colab_type": "code",
        "colab": {}
      },
      "source": [
        "df.to_csv(\"data/final_data.csv\")"
      ],
      "execution_count": 0,
      "outputs": []
    },
    {
      "cell_type": "code",
      "metadata": {
        "id": "XLq6yqx-l8OB",
        "colab_type": "code",
        "colab": {
          "base_uri": "https://localhost:8080/",
          "height": 35
        },
        "outputId": "6edc9aed-8cd7-45fb-df6c-693d81603040"
      },
      "source": [
        ""
      ],
      "execution_count": 32,
      "outputs": [
        {
          "output_type": "execute_result",
          "data": {
            "text/plain": [
              "True"
            ]
          },
          "metadata": {
            "tags": []
          },
          "execution_count": 32
        }
      ]
    },
    {
      "cell_type": "code",
      "metadata": {
        "id": "i_sC6SzD5R7w",
        "colab_type": "code",
        "colab": {}
      },
      "source": [
        "# T        = Temperatuur (in 0.1 graden Celsius) op 1.50 m hoogte tijdens de waarneming; \n",
        "# TD       = Dauwpuntstemperatuur (in 0.1 graden Celsius) op 1.50 m hoogte tijdens de waarneming;\n",
        "# DR       = Duur van de neerslag (in 0.1 uur) per uurvak; \n",
        "# RH       = Uursom van de neerslag (in 0.1 mm) (-1 voor <0.05 mm); \n",
        "# SQ       = Duur van de zonneschijn (in 0.1 uren) per uurvak, berekend uit globale straling  (-1 for <0.05 uur); \n",
        "# Q        = Globale straling (in J/cm2) per uurvak; \n",
        "\n",
        "\n"
      ],
      "execution_count": 0,
      "outputs": []
    },
    {
      "cell_type": "code",
      "metadata": {
        "id": "J8GOW0JU5SCq",
        "colab_type": "code",
        "colab": {}
      },
      "source": [
        "testdata = testdata.apply(pd.to_numeric)"
      ],
      "execution_count": 0,
      "outputs": []
    },
    {
      "cell_type": "code",
      "metadata": {
        "id": "DZeT80ZO5SFN",
        "colab_type": "code",
        "outputId": "3ceb6ce5-894a-4bc3-cca0-ca59123afe62",
        "colab": {
          "base_uri": "https://localhost:8080/",
          "height": 204
        }
      },
      "source": [
        "testdata.head()"
      ],
      "execution_count": 0,
      "outputs": [
        {
          "output_type": "execute_result",
          "data": {
            "text/html": [
              "<div>\n",
              "<style scoped>\n",
              "    .dataframe tbody tr th:only-of-type {\n",
              "        vertical-align: middle;\n",
              "    }\n",
              "\n",
              "    .dataframe tbody tr th {\n",
              "        vertical-align: top;\n",
              "    }\n",
              "\n",
              "    .dataframe thead th {\n",
              "        text-align: right;\n",
              "    }\n",
              "</style>\n",
              "<table border=\"1\" class=\"dataframe\">\n",
              "  <thead>\n",
              "    <tr style=\"text-align: right;\">\n",
              "      <th></th>\n",
              "      <th>T</th>\n",
              "      <th>TD</th>\n",
              "      <th>DR</th>\n",
              "      <th>RH</th>\n",
              "      <th>SQ</th>\n",
              "      <th>Q</th>\n",
              "    </tr>\n",
              "  </thead>\n",
              "  <tbody>\n",
              "    <tr>\n",
              "      <th>2011-01-03 00:00:00</th>\n",
              "      <td>4</td>\n",
              "      <td>-2</td>\n",
              "      <td>0</td>\n",
              "      <td>0</td>\n",
              "      <td>0</td>\n",
              "      <td>0</td>\n",
              "    </tr>\n",
              "    <tr>\n",
              "      <th>2011-01-03 01:00:00</th>\n",
              "      <td>2</td>\n",
              "      <td>-5</td>\n",
              "      <td>0</td>\n",
              "      <td>0</td>\n",
              "      <td>0</td>\n",
              "      <td>0</td>\n",
              "    </tr>\n",
              "    <tr>\n",
              "      <th>2011-01-03 02:00:00</th>\n",
              "      <td>-3</td>\n",
              "      <td>-6</td>\n",
              "      <td>0</td>\n",
              "      <td>0</td>\n",
              "      <td>0</td>\n",
              "      <td>0</td>\n",
              "    </tr>\n",
              "    <tr>\n",
              "      <th>2011-01-03 03:00:00</th>\n",
              "      <td>-33</td>\n",
              "      <td>-36</td>\n",
              "      <td>0</td>\n",
              "      <td>0</td>\n",
              "      <td>0</td>\n",
              "      <td>0</td>\n",
              "    </tr>\n",
              "    <tr>\n",
              "      <th>2011-01-03 04:00:00</th>\n",
              "      <td>-35</td>\n",
              "      <td>-37</td>\n",
              "      <td>0</td>\n",
              "      <td>0</td>\n",
              "      <td>0</td>\n",
              "      <td>0</td>\n",
              "    </tr>\n",
              "  </tbody>\n",
              "</table>\n",
              "</div>"
            ],
            "text/plain": [
              "                      T  TD  DR  RH  SQ  Q\n",
              "2011-01-03 00:00:00   4  -2   0   0   0  0\n",
              "2011-01-03 01:00:00   2  -5   0   0   0  0\n",
              "2011-01-03 02:00:00  -3  -6   0   0   0  0\n",
              "2011-01-03 03:00:00 -33 -36   0   0   0  0\n",
              "2011-01-03 04:00:00 -35 -37   0   0   0  0"
            ]
          },
          "metadata": {
            "tags": []
          },
          "execution_count": 52
        }
      ]
    },
    {
      "cell_type": "code",
      "metadata": {
        "id": "th9cX7aY1Tya",
        "colab_type": "code",
        "colab": {}
      },
      "source": [
        "*_, data = knmy.get_hourly_data(stations = [260], start = 2011010101, end = 2019123124, inseason = True, variables = ['WIND', 'TEMP'], parse = True)\n",
        "# Drop first row (it's a duplicate header)\n",
        "data.drop([0], inplace = True)\n",
        "# Switch from end of hour (KNMI convention) to start of hour (NDW convention)\n",
        "data.HH = (data.HH.astype(int) - 1).astype(str)\n",
        "# Create datetime index\n",
        "data.index = pd.to_datetime(data.YYYYMMDD.astype(str) + data.HH.str.zfill(2), format = \"%Y%m%d%H\", yearfirst = True)"
      ],
      "execution_count": 0,
      "outputs": []
    },
    {
      "cell_type": "code",
      "metadata": {
        "id": "fCH7gN0fbsbp",
        "colab_type": "code",
        "colab": {}
      },
      "source": [
        "from knmy import knmy\n",
        "import pandas as pd\n",
        "import numpy as np\n",
        "def knmi_get(start, end, stations=[240, 260]):\n",
        "    \n",
        "    # knmy.get_hourly_data returns a tuple with 4 items. Immediately index to [3] to get the df with weather variables. \n",
        "    knmi_data = knmy.get_hourly_data(stations=[240], start=start, end=end,\n",
        "                            inseason=False, variables=['ALL'], parse=True)[3]\n",
        "    \n",
        "    # Rename columns\n",
        "    cols = ['station', 'winddirection', 'windspeed_avg', \\\n",
        "            'windspeed_10m','windspeed_max', 'temperature', 'temperature_min', \\\n",
        "            'temperature_dewpoint', 'sunduration', 'sunradiation', \\\n",
        "            'precipitationduration', 'precipitation', 'airpressure', \\\n",
        "            'horizontalview', 'cloudcover', 'relativehumidity', 'weathercode', \\\n",
        "            'weathercodeindicator', 'mist', 'rain', 'snow', 'storm', 'ice']\n",
        "    knmi_data.columns = cols\n",
        "    \n",
        "    # Drop useless columns\n",
        "    knmi_data.drop(['winddirection', 'windspeed_10m', 'temperature_dewpoint', \\\n",
        "                    'horizontalview', 'cloudcover', 'weathercode', \\\n",
        "                    'weathercodeindicator'], axis = 1, inplace=True)\n",
        "    # Drop first row since it's actually a header, then reset index\n",
        "    knmi_data.drop([0], inplace=True)\n",
        "    knmi_data.reset_index(drop=True, inplace=True)\n",
        "    # Subtract one hour to make data in line with NDW\n",
        "    knmi_data.hour = knmi_data.hour.astype(int) - 1\n",
        "    # Remove columns with NA vals\n",
        "    knmi_data.dropna(axis=1, inplace=True)\n",
        "    # Make dataframe numeric\n",
        "    knmi_data = knmi_data.apply(pd.to_numeric)\n",
        "    # Remove negative precipitation values (-1 means 0.05mm or less)\n",
        "    knmi_data['precipitation'] = \\\n",
        "        np.where(knmi_data['precipitation'] < 0, 0, knmi_data['precipitation'])\n",
        "    # Make date col a datetime object\n",
        "    knmi_data['date'] = pd.to_datetime(knmi_data['date'], yearfirst = True, \n",
        "                                                  format = '%Y%m%d').dt.date\n",
        "    return knmi_data"
      ],
      "execution_count": 0,
      "outputs": []
    }
  ]
}