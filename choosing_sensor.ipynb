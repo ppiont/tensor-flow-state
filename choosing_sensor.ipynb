{
  "nbformat": 4,
  "nbformat_minor": 0,
  "metadata": {
    "colab": {
      "name": "choosing_sensor.ipynb",
      "provenance": [],
      "collapsed_sections": [],
      "toc_visible": true,
      "include_colab_link": true
    },
    "kernelspec": {
      "name": "python3",
      "display_name": "Python 3"
    },
    "accelerator": "GPU"
  },
  "cells": [
    {
      "cell_type": "markdown",
      "metadata": {
        "id": "view-in-github",
        "colab_type": "text"
      },
      "source": [
        "<a href=\"https://colab.research.google.com/github/ppiont/tensor-flow-state/blob/master/choosing_sensor.ipynb\" target=\"_parent\"><img src=\"https://colab.research.google.com/assets/colab-badge.svg\" alt=\"Open In Colab\"/></a>"
      ]
    },
    {
      "cell_type": "markdown",
      "metadata": {
        "id": "YkvAZk3h4n1Y",
        "colab_type": "text"
      },
      "source": [
        "# Choosing an NDW sensor on A2\n",
        "\n",
        "We'll be using TensorFlow 2.0 with Keras integration, but for now, let's just make some plots to find a suitable sensor to play with.\n",
        "\n",
        "Let's start by mounting our GDrive."
      ]
    },
    {
      "cell_type": "code",
      "metadata": {
        "id": "QBYXgopVJb7v",
        "colab_type": "code",
        "colab": {
          "base_uri": "https://localhost:8080/",
          "height": 33
        },
        "outputId": "dbce5e86-a359-4c6c-e64f-a1e5c518ed4c"
      },
      "source": [
        "from google.colab import drive\n",
        "drive.mount('/content/drive')"
      ],
      "execution_count": 7,
      "outputs": [
        {
          "output_type": "stream",
          "text": [
            "Drive already mounted at /content/drive; to attempt to forcibly remount, call drive.mount(\"/content/drive\", force_remount=True).\n"
          ],
          "name": "stdout"
        }
      ]
    },
    {
      "cell_type": "markdown",
      "metadata": {
        "id": "Dwhmh5wHZpPX",
        "colab_type": "text"
      },
      "source": [
        "Set a working directory. Default is your top-level GDrive folder."
      ]
    },
    {
      "cell_type": "code",
      "metadata": {
        "id": "7OwwWsjU0BYK",
        "colab_type": "code",
        "colab": {
          "base_uri": "https://localhost:8080/",
          "height": 33
        },
        "outputId": "0ae7196d-419a-4392-992a-e8aaf99cbf64"
      },
      "source": [
        "%cd '/content/drive/My Drive/'"
      ],
      "execution_count": 8,
      "outputs": [
        {
          "output_type": "stream",
          "text": [
            "/content/drive/My Drive\n"
          ],
          "name": "stdout"
        }
      ]
    },
    {
      "cell_type": "markdown",
      "metadata": {
        "id": "4JNewo7Q_M-F",
        "colab_type": "text"
      },
      "source": [
        "Now we'll copy the dataset containing sensor information. \n",
        "\n",
        "NDW sensors with an ID conforming to the pattern _RWS01_MONIBAS_0021hrl04\\*\\*ra_ are included in the data (\\* being the wildcard).\n",
        "\n",
        "This set of sensors is found on a stretch of the northbound A2 between Utrecht and Amsterdam.\n",
        "\n",
        "For this we need to import some PyDrive tools.\n"
      ]
    },
    {
      "cell_type": "code",
      "metadata": {
        "id": "RV3F5vPqOm7F",
        "colab_type": "code",
        "colab": {
          "base_uri": "https://localhost:8080/",
          "height": 33
        },
        "outputId": "21e00b43-c982-4958-be5e-ace286d136dd"
      },
      "source": [
        "# Code to read csv file into Colaboratory:\n",
        "from pydrive.auth import GoogleAuth\n",
        "from pydrive.drive import GoogleDrive\n",
        "from google.colab import auth\n",
        "from oauth2client.client import GoogleCredentials\n",
        "# Authenticate and create the PyDrive client.\n",
        "auth.authenticate_user()\n",
        "gauth = GoogleAuth()\n",
        "gauth.credentials = GoogleCredentials.get_application_default()\n",
        "drive = GoogleDrive(gauth)"
      ],
      "execution_count": 50,
      "outputs": [
        {
          "output_type": "stream",
          "text": [
            "Success!\n"
          ],
          "name": "stdout"
        }
      ]
    },
    {
      "cell_type": "markdown",
      "metadata": {
        "id": "ImaUPnm8Omhg",
        "colab_type": "text"
      },
      "source": [
        ""
      ]
    },
    {
      "cell_type": "markdown",
      "metadata": {
        "id": "N5Atu5RkOl0A",
        "colab_type": "text"
      },
      "source": [
        ""
      ]
    },
    {
      "cell_type": "code",
      "metadata": {
        "id": "y7bVlPr6OlOD",
        "colab_type": "code",
        "colab": {
          "base_uri": "https://localhost:8080/",
          "height": 104
        },
        "outputId": "c546fc2b-cdfe-4cd4-d309-69238a779dec"
      },
      "source": [
        "id = '1Dwe5Xfa1yXCswLvzodFdN8P7F6WUCYFu' # the GDrive file ID of the shared csv\n",
        "downloaded = drive.CreateFile({'id':id}) \n",
        "downloaded.GetContentFile('4monthsA2.csv')  \n",
        "df = pd.read_csv('4monthsA2.csv')\n",
        "# Dataset is now stored in a Pandas Dataframe"
      ],
      "execution_count": 18,
      "outputs": [
        {
          "output_type": "stream",
          "text": [
            "  <!DOCTYPE html><html><head><title>Google Drive - Virus scan warning</title><meta http-equiv=\"content-type\" content=\"text/html; charset=utf-8\"/><link href=&#47;static&#47;doclist&#47;client&#47;css&#47;2263496222&#45;untrustedcontent.css rel=\"stylesheet\"><style nonce=\"/0sQKSp4S0WA2YjdHs/RMA\">#gbar  ...  a.gb4{color:#00c !important}.gbi .gb4{color:#dd8e27 !important}.gbf .gb4{color:#900 !important}\n",
            "0  </style><script nonce=\"/0sQKSp4S0WA2YjdHs/RMA\"...                                                                                                                                                                                                                                                         ...                                                NaN                                              \n",
            "\n",
            "[1 rows x 5 columns]\n"
          ],
          "name": "stdout"
        }
      ]
    },
    {
      "cell_type": "code",
      "metadata": {
        "id": "ueMa-DFQ-DU9",
        "colab_type": "code",
        "colab": {}
      },
      "source": [
        ""
      ],
      "execution_count": 0,
      "outputs": []
    },
    {
      "cell_type": "code",
      "metadata": {
        "id": "dFlB294eJYCT",
        "colab_type": "code",
        "colab": {}
      },
      "source": [
        ""
      ],
      "execution_count": 0,
      "outputs": []
    },
    {
      "cell_type": "code",
      "metadata": {
        "id": "XsvzQ8EG-F2s",
        "colab_type": "code",
        "colab": {}
      },
      "source": [
        ""
      ],
      "execution_count": 0,
      "outputs": []
    },
    {
      "cell_type": "code",
      "metadata": {
        "id": "z6HYGHYh-GBs",
        "colab_type": "code",
        "colab": {
          "base_uri": "https://localhost:8080/",
          "height": 1000
        },
        "outputId": "8fe13815-ee9f-4fb1-bcb9-08d962b1bade"
      },
      "source": [
        "Let's start by importing the necessary libraries for fetching the data. Libraries will be imported only when the need for them arises."
      ],
      "execution_count": 23,
      "outputs": [
        {
          "output_type": "execute_result",
          "data": {
            "text/plain": [
              "<bound method DataFrame.info of          Unnamed: 0                    sensor_id  ...      lon       lat\n",
              "0                 0  RWS01_MONIBAS_0021hrl0469ra  ...  4.98704  52.19643\n",
              "1                 1  RWS01_MONIBAS_0021hrl0469ra  ...  4.98704  52.19643\n",
              "2                 2  RWS01_MONIBAS_0021hrl0469ra  ...  4.98704  52.19643\n",
              "3                 3  RWS01_MONIBAS_0021hrl0469ra  ...  4.98704  52.19643\n",
              "4                 4  RWS01_MONIBAS_0021hrl0469ra  ...  4.98704  52.19643\n",
              "5                 5  RWS01_MONIBAS_0021hrl0469ra  ...  4.98704  52.19643\n",
              "6                 6  RWS01_MONIBAS_0021hrl0469ra  ...  4.98704  52.19643\n",
              "7                 7  RWS01_MONIBAS_0021hrl0469ra  ...  4.98704  52.19643\n",
              "8                 8  RWS01_MONIBAS_0021hrl0469ra  ...  4.98704  52.19643\n",
              "9                 9  RWS01_MONIBAS_0021hrl0469ra  ...  4.98704  52.19643\n",
              "10               10  RWS01_MONIBAS_0021hrl0469ra  ...  4.98704  52.19643\n",
              "11               11  RWS01_MONIBAS_0021hrl0469ra  ...  4.98704  52.19643\n",
              "12               12  RWS01_MONIBAS_0021hrl0469ra  ...  4.98704  52.19643\n",
              "13               13  RWS01_MONIBAS_0021hrl0469ra  ...  4.98704  52.19643\n",
              "14               14  RWS01_MONIBAS_0021hrl0469ra  ...  4.98704  52.19643\n",
              "15               15  RWS01_MONIBAS_0021hrl0469ra  ...  4.98704  52.19643\n",
              "16               16  RWS01_MONIBAS_0021hrl0469ra  ...  4.98704  52.19643\n",
              "17               17  RWS01_MONIBAS_0021hrl0469ra  ...  4.98704  52.19643\n",
              "18               18  RWS01_MONIBAS_0021hrl0469ra  ...  4.98704  52.19643\n",
              "19               19  RWS01_MONIBAS_0021hrl0469ra  ...  4.98704  52.19643\n",
              "20               20  RWS01_MONIBAS_0021hrl0469ra  ...  4.98704  52.19643\n",
              "21               21  RWS01_MONIBAS_0021hrl0469ra  ...  4.98704  52.19643\n",
              "22               22  RWS01_MONIBAS_0021hrl0469ra  ...  4.98704  52.19643\n",
              "23               23  RWS01_MONIBAS_0021hrl0469ra  ...  4.98704  52.19643\n",
              "24               24  RWS01_MONIBAS_0021hrl0469ra  ...  4.98704  52.19643\n",
              "25               25  RWS01_MONIBAS_0021hrl0469ra  ...  4.98704  52.19643\n",
              "26               26  RWS01_MONIBAS_0021hrl0469ra  ...  4.98704  52.19643\n",
              "27               27  RWS01_MONIBAS_0021hrl0469ra  ...  4.98704  52.19643\n",
              "28               28  RWS01_MONIBAS_0021hrl0469ra  ...  4.98704  52.19643\n",
              "29               29  RWS01_MONIBAS_0021hrl0469ra  ...  4.98704  52.19643\n",
              "...             ...                          ...  ...      ...       ...\n",
              "3509960     3509960  RWS01_MONIBAS_0021hrl0499ra  ...  4.98761  52.16945\n",
              "3509961     3509961  RWS01_MONIBAS_0021hrl0499ra  ...  4.98761  52.16945\n",
              "3509962     3509962  RWS01_MONIBAS_0021hrl0499ra  ...  4.98761  52.16945\n",
              "3509963     3509963  RWS01_MONIBAS_0021hrl0499ra  ...  4.98761  52.16945\n",
              "3509964     3509964  RWS01_MONIBAS_0021hrl0499ra  ...  4.98761  52.16945\n",
              "3509965     3509965  RWS01_MONIBAS_0021hrl0499ra  ...  4.98761  52.16945\n",
              "3509966     3509966  RWS01_MONIBAS_0021hrl0499ra  ...  4.98761  52.16945\n",
              "3509967     3509967  RWS01_MONIBAS_0021hrl0499ra  ...  4.98761  52.16945\n",
              "3509968     3509968  RWS01_MONIBAS_0021hrl0499ra  ...  4.98761  52.16945\n",
              "3509969     3509969  RWS01_MONIBAS_0021hrl0499ra  ...  4.98761  52.16945\n",
              "3509970     3509970  RWS01_MONIBAS_0021hrl0499ra  ...  4.98761  52.16945\n",
              "3509971     3509971  RWS01_MONIBAS_0021hrl0499ra  ...  4.98761  52.16945\n",
              "3509972     3509972  RWS01_MONIBAS_0021hrl0499ra  ...  4.98761  52.16945\n",
              "3509973     3509973  RWS01_MONIBAS_0021hrl0499ra  ...  4.98761  52.16945\n",
              "3509974     3509974  RWS01_MONIBAS_0021hrl0499ra  ...  4.98761  52.16945\n",
              "3509975     3509975  RWS01_MONIBAS_0021hrl0499ra  ...  4.98761  52.16945\n",
              "3509976     3509976  RWS01_MONIBAS_0021hrl0499ra  ...  4.98761  52.16945\n",
              "3509977     3509977  RWS01_MONIBAS_0021hrl0499ra  ...  4.98761  52.16945\n",
              "3509978     3509978  RWS01_MONIBAS_0021hrl0499ra  ...  4.98761  52.16945\n",
              "3509979     3509979  RWS01_MONIBAS_0021hrl0499ra  ...  4.98761  52.16945\n",
              "3509980     3509980  RWS01_MONIBAS_0021hrl0499ra  ...  4.98761  52.16945\n",
              "3509981     3509981  RWS01_MONIBAS_0021hrl0499ra  ...  4.98761  52.16945\n",
              "3509982     3509982  RWS01_MONIBAS_0021hrl0499ra  ...  4.98761  52.16945\n",
              "3509983     3509983  RWS01_MONIBAS_0021hrl0499ra  ...  4.98761  52.16945\n",
              "3509984     3509984  RWS01_MONIBAS_0021hrl0499ra  ...  4.98761  52.16945\n",
              "3509985     3509985  RWS01_MONIBAS_0021hrl0499ra  ...  4.98761  52.16945\n",
              "3509986     3509986  RWS01_MONIBAS_0021hrl0499ra  ...  4.98761  52.16945\n",
              "3509987     3509987  RWS01_MONIBAS_0021hrl0499ra  ...  4.98761  52.16945\n",
              "3509988     3509988  RWS01_MONIBAS_0021hrl0499ra  ...  4.98761  52.16945\n",
              "3509989     3509989  RWS01_MONIBAS_0021hrl0499ra  ...  4.98761  52.16945\n",
              "\n",
              "[3509990 rows x 7 columns]>"
            ]
          },
          "metadata": {
            "tags": []
          },
          "execution_count": 23
        }
      ]
    }
  ]
}