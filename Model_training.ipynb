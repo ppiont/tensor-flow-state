{
  "nbformat": 4,
  "nbformat_minor": 0,
  "metadata": {
    "colab": {
      "name": "Model_training.ipynb",
      "provenance": [],
      "machine_shape": "hm",
      "include_colab_link": true
    },
    "kernelspec": {
      "name": "python3",
      "display_name": "Python 3"
    },
    "accelerator": "GPU"
  },
  "cells": [
    {
      "cell_type": "markdown",
      "metadata": {
        "id": "view-in-github",
        "colab_type": "text"
      },
      "source": [
        "<a href=\"https://colab.research.google.com/github/ppiont/tensor-flow-state/blob/master/Model_training.ipynb\" target=\"_parent\"><img src=\"https://colab.research.google.com/assets/colab-badge.svg\" alt=\"Open In Colab\"/></a>"
      ]
    },
    {
      "cell_type": "code",
      "metadata": {
        "id": "vSuzkeZcM2UE",
        "colab_type": "code",
        "outputId": "26e7ff72-6240-4d31-f2bf-22986af3ddae",
        "colab": {
          "base_uri": "https://localhost:8080/",
          "height": 124
        }
      },
      "source": [
        "from google.colab import drive\n",
        "drive.mount(\"/gdrive\", force_remount = True)"
      ],
      "execution_count": 1,
      "outputs": [
        {
          "output_type": "stream",
          "text": [
            "Go to this URL in a browser: https://accounts.google.com/o/oauth2/auth?client_id=947318989803-6bn6qk8qdgf4n4g3pfee6491hc0brc4i.apps.googleusercontent.com&redirect_uri=urn%3aietf%3awg%3aoauth%3a2.0%3aoob&response_type=code&scope=email%20https%3a%2f%2fwww.googleapis.com%2fauth%2fdocs.test%20https%3a%2f%2fwww.googleapis.com%2fauth%2fdrive%20https%3a%2f%2fwww.googleapis.com%2fauth%2fdrive.photos.readonly%20https%3a%2f%2fwww.googleapis.com%2fauth%2fpeopleapi.readonly\n",
            "\n",
            "Enter your authorization code:\n",
            "··········\n",
            "Mounted at /gdrive\n"
          ],
          "name": "stdout"
        }
      ]
    },
    {
      "cell_type": "code",
      "metadata": {
        "id": "lBC4ZppZNC3c",
        "colab_type": "code",
        "outputId": "1811b513-a2eb-4213-bf9e-8cbcf52897cd",
        "colab": {
          "base_uri": "https://localhost:8080/",
          "height": 35
        }
      },
      "source": [
        "%cd \"/gdrive/My Drive/tensor-flow-state/tensor-flow-state\""
      ],
      "execution_count": 2,
      "outputs": [
        {
          "output_type": "stream",
          "text": [
            "/gdrive/My Drive/tensor-flow-state/tensor-flow-state\n"
          ],
          "name": "stdout"
        }
      ]
    },
    {
      "cell_type": "code",
      "metadata": {
        "id": "NKD3KY8hNEqo",
        "colab_type": "code",
        "colab": {}
      },
      "source": [
        "import pandas as pd\n",
        "df = pd.read_csv(\"data/df_imputed_week_shift_start_2017_added_holiday_weekends\", index_col = 0, parse_dates = True)"
      ],
      "execution_count": 0,
      "outputs": []
    },
    {
      "cell_type": "code",
      "metadata": {
        "id": "kzVAi95GfcBW",
        "colab_type": "code",
        "colab": {}
      },
      "source": [
        "cols = [\"speed\", \"flow\", \"speed_-2\", \"speed_-1\",\"speed_+1\", \"speed_+2\", \"flow_-2\", \"flow_-1\", \"flow_+1\", \"flow_+2\", \"speed_limit\", \"holiday\", \"weekend\"]\n",
        "speed_cols = [\"speed\", \"speed_-2\", \"speed_-1\",\"speed_+1\", \"speed_+2\"]\n",
        "flow_cols = [\"flow\", \"flow_-2\", \"flow_-1\", \"flow_+1\", \"flow_+2\"]"
      ],
      "execution_count": 0,
      "outputs": []
    },
    {
      "cell_type": "code",
      "metadata": {
        "id": "6ilNHPJ1PhkZ",
        "colab_type": "code",
        "colab": {}
      },
      "source": [
        "# Make speed_limit binary\n",
        "import numpy as np\n",
        "df['speed_limit'] =  np.where(df.speed_limit > 110, 1, 0)"
      ],
      "execution_count": 0,
      "outputs": []
    },
    {
      "cell_type": "markdown",
      "metadata": {
        "id": "Uh4evfBugwJa",
        "colab_type": "text"
      },
      "source": [
        "### First resample to elmininate some noise"
      ]
    },
    {
      "cell_type": "code",
      "metadata": {
        "id": "FVkBrcJDhVxA",
        "colab_type": "code",
        "colab": {}
      },
      "source": [
        "import numpy as np\n",
        "def resample_df(df, freq = \"10T\", method_speed = np.mean, method_flow = np.sum):\n",
        "    copied = df.copy()\n",
        "    copied = copied.resample(freq).agg({\n",
        "           \"speed\": method_speed, \"speed_-2\": method_speed, \"speed_-1\": method_speed, \"speed_+1\": method_speed, \"speed_+2\": method_speed,\n",
        "           \"flow\": method_flow, \"flow_-2\": method_flow, \"flow_-1\": method_flow, \"flow_+1\": method_flow, \"flow_+2\": method_flow,\n",
        "           \"speed_limit\": np.median, \"holiday\": np.median, \"weekend\": np.median})\n",
        "    return copied"
      ],
      "execution_count": 0,
      "outputs": []
    },
    {
      "cell_type": "code",
      "metadata": {
        "id": "NJyIniCBhWIc",
        "colab_type": "code",
        "colab": {}
      },
      "source": [
        "r_df = resample_df(df, freq = \"15T\")"
      ],
      "execution_count": 0,
      "outputs": []
    },
    {
      "cell_type": "code",
      "metadata": {
        "id": "9QqCf_YjFoht",
        "colab_type": "code",
        "outputId": "e1e31aa4-10bc-4d0a-abdb-a18c6e7a88eb",
        "colab": {
          "base_uri": "https://localhost:8080/",
          "height": 202
        }
      },
      "source": [
        "r_df.head()"
      ],
      "execution_count": 8,
      "outputs": [
        {
          "output_type": "execute_result",
          "data": {
            "text/html": [
              "<div>\n",
              "<style scoped>\n",
              "    .dataframe tbody tr th:only-of-type {\n",
              "        vertical-align: middle;\n",
              "    }\n",
              "\n",
              "    .dataframe tbody tr th {\n",
              "        vertical-align: top;\n",
              "    }\n",
              "\n",
              "    .dataframe thead th {\n",
              "        text-align: right;\n",
              "    }\n",
              "</style>\n",
              "<table border=\"1\" class=\"dataframe\">\n",
              "  <thead>\n",
              "    <tr style=\"text-align: right;\">\n",
              "      <th></th>\n",
              "      <th>speed</th>\n",
              "      <th>speed_-2</th>\n",
              "      <th>speed_-1</th>\n",
              "      <th>speed_+1</th>\n",
              "      <th>speed_+2</th>\n",
              "      <th>flow</th>\n",
              "      <th>flow_-2</th>\n",
              "      <th>flow_-1</th>\n",
              "      <th>flow_+1</th>\n",
              "      <th>flow_+2</th>\n",
              "      <th>speed_limit</th>\n",
              "      <th>holiday</th>\n",
              "      <th>weekend</th>\n",
              "    </tr>\n",
              "  </thead>\n",
              "  <tbody>\n",
              "    <tr>\n",
              "      <th>2017-01-01 00:00:00</th>\n",
              "      <td>115.833333</td>\n",
              "      <td>116.584444</td>\n",
              "      <td>116.116667</td>\n",
              "      <td>116.103333</td>\n",
              "      <td>115.532222</td>\n",
              "      <td>280.0</td>\n",
              "      <td>274.0</td>\n",
              "      <td>276.0</td>\n",
              "      <td>282.0</td>\n",
              "      <td>283.0</td>\n",
              "      <td>1</td>\n",
              "      <td>1</td>\n",
              "      <td>1</td>\n",
              "    </tr>\n",
              "    <tr>\n",
              "      <th>2017-01-01 00:15:00</th>\n",
              "      <td>116.972222</td>\n",
              "      <td>116.926667</td>\n",
              "      <td>116.928889</td>\n",
              "      <td>117.613333</td>\n",
              "      <td>117.286667</td>\n",
              "      <td>410.0</td>\n",
              "      <td>413.0</td>\n",
              "      <td>407.0</td>\n",
              "      <td>415.0</td>\n",
              "      <td>421.0</td>\n",
              "      <td>1</td>\n",
              "      <td>1</td>\n",
              "      <td>1</td>\n",
              "    </tr>\n",
              "    <tr>\n",
              "      <th>2017-01-01 00:30:00</th>\n",
              "      <td>117.806667</td>\n",
              "      <td>117.936667</td>\n",
              "      <td>117.385556</td>\n",
              "      <td>118.200000</td>\n",
              "      <td>117.883333</td>\n",
              "      <td>504.0</td>\n",
              "      <td>504.0</td>\n",
              "      <td>510.0</td>\n",
              "      <td>509.0</td>\n",
              "      <td>516.0</td>\n",
              "      <td>1</td>\n",
              "      <td>1</td>\n",
              "      <td>1</td>\n",
              "    </tr>\n",
              "    <tr>\n",
              "      <th>2017-01-01 00:45:00</th>\n",
              "      <td>116.103333</td>\n",
              "      <td>116.760000</td>\n",
              "      <td>115.980000</td>\n",
              "      <td>116.275556</td>\n",
              "      <td>115.808889</td>\n",
              "      <td>508.0</td>\n",
              "      <td>501.0</td>\n",
              "      <td>508.0</td>\n",
              "      <td>503.0</td>\n",
              "      <td>492.0</td>\n",
              "      <td>1</td>\n",
              "      <td>1</td>\n",
              "      <td>1</td>\n",
              "    </tr>\n",
              "    <tr>\n",
              "      <th>2017-01-01 01:00:00</th>\n",
              "      <td>116.484444</td>\n",
              "      <td>117.096667</td>\n",
              "      <td>116.873333</td>\n",
              "      <td>115.977778</td>\n",
              "      <td>116.284444</td>\n",
              "      <td>444.0</td>\n",
              "      <td>457.0</td>\n",
              "      <td>445.0</td>\n",
              "      <td>439.0</td>\n",
              "      <td>439.0</td>\n",
              "      <td>1</td>\n",
              "      <td>1</td>\n",
              "      <td>1</td>\n",
              "    </tr>\n",
              "  </tbody>\n",
              "</table>\n",
              "</div>"
            ],
            "text/plain": [
              "                          speed    speed_-2  ...  holiday  weekend\n",
              "2017-01-01 00:00:00  115.833333  116.584444  ...        1        1\n",
              "2017-01-01 00:15:00  116.972222  116.926667  ...        1        1\n",
              "2017-01-01 00:30:00  117.806667  117.936667  ...        1        1\n",
              "2017-01-01 00:45:00  116.103333  116.760000  ...        1        1\n",
              "2017-01-01 01:00:00  116.484444  117.096667  ...        1        1\n",
              "\n",
              "[5 rows x 13 columns]"
            ]
          },
          "metadata": {
            "tags": []
          },
          "execution_count": 8
        }
      ]
    },
    {
      "cell_type": "markdown",
      "metadata": {
        "id": "_M66yh3ektP7",
        "colab_type": "text"
      },
      "source": [
        "### Train test split. The final year is reserved for testing. (Val will be relevant later?)"
      ]
    },
    {
      "cell_type": "code",
      "metadata": {
        "id": "Bibzm8V9kN0x",
        "colab_type": "code",
        "colab": {}
      },
      "source": [
        "def train_val_test_split(df, val_year, test_year):\n",
        "    # train, test\n",
        "    return df[(df.index.year < val_year)].copy(), df[df.index.year == val_year].copy(), df[df.index.year == test_year].copy()"
      ],
      "execution_count": 0,
      "outputs": []
    },
    {
      "cell_type": "code",
      "metadata": {
        "id": "rSeGBQtNq2GC",
        "colab_type": "code",
        "colab": {}
      },
      "source": [
        "train, val, test = train_val_test_split(r_df, 2018, 2019)"
      ],
      "execution_count": 0,
      "outputs": []
    },
    {
      "cell_type": "code",
      "metadata": {
        "id": "nRftDaC5cuuv",
        "colab_type": "code",
        "colab": {}
      },
      "source": [
        "import numpy as np\n",
        "def log_transform(df):\n",
        "    copy = df.copy()\n",
        "    return np.log(copy.iloc[:, :-3].replace(0, 1e-15)).join(df.iloc[:, -3:], how = 'inner')\n",
        "\n",
        "# Log transform. First set 0s to very low value 'cause you can't log 0.\n",
        "train_log = log_transform(train)\n",
        "val_log = log_transform(val)\n",
        "test_log = log_transform(test)"
      ],
      "execution_count": 0,
      "outputs": []
    },
    {
      "cell_type": "code",
      "metadata": {
        "id": "wffBxR1eIxsB",
        "colab_type": "code",
        "outputId": "978abcb2-8181-4abc-8abd-c4271fd875ac",
        "colab": {
          "base_uri": "https://localhost:8080/",
          "height": 35
        }
      },
      "source": [
        "try:\n",
        "  %tensorflow_version 2.x\n",
        "except Exception:\n",
        "  pass\n",
        "\n",
        "import tensorflow as tf\n",
        "tf.__version__\n",
        "import tensorflow as tf"
      ],
      "execution_count": 12,
      "outputs": [
        {
          "output_type": "stream",
          "text": [
            "TensorFlow 2.x selected.\n"
          ],
          "name": "stdout"
        }
      ]
    },
    {
      "cell_type": "code",
      "metadata": {
        "id": "gQQdWm2gywBo",
        "colab_type": "code",
        "colab": {}
      },
      "source": [
        "# ML\n",
        "import pdb\n",
        "from tensorflow.keras.preprocessing.sequence import TimeseriesGenerator\n",
        "import matplotlib.pyplot as plt"
      ],
      "execution_count": 0,
      "outputs": []
    },
    {
      "cell_type": "code",
      "metadata": {
        "id": "JuYcJbjXKmhm",
        "colab_type": "code",
        "colab": {}
      },
      "source": [
        "X_train = np.array(train_log)\n",
        "y_train = np.array(train_log.speed)\n",
        "X_val = np.array(val_log)\n",
        "y_val = np.array(val_log.speed)\n",
        "X_test = np.array(test_log)\n",
        "y_test = np.array(test_log.speed)"
      ],
      "execution_count": 0,
      "outputs": []
    },
    {
      "cell_type": "code",
      "metadata": {
        "id": "ODFfW7yFcwlM",
        "colab_type": "code",
        "colab": {}
      },
      "source": [
        "lookback = int(24 * (60 / 15))\n",
        "\n",
        "train_gen = TimeseriesGenerator(data = X_train, targets = y_train, length = lookback)\n",
        "val_gen = TimeseriesGenerator(data = X_val, targets = y_val, length = lookback)\n",
        "test_gen = TimeseriesGenerator(data = X_test, targets = y_test, length = lookback)"
      ],
      "execution_count": 0,
      "outputs": []
    },
    {
      "cell_type": "code",
      "metadata": {
        "id": "wPmUXqP0N3rl",
        "colab_type": "code",
        "outputId": "fa910160-a1c6-4eb6-a8c9-3c5a73da200a",
        "colab": {
          "base_uri": "https://localhost:8080/",
          "height": 377
        }
      },
      "source": [
        "############## Define Neural Network Class ##############\n",
        "class neural_net(tf.keras.Model):\n",
        "    def __init__(self, lookback = 24, regularization = 1e-6): #You can choose to have more input here! E.g. number of neurons.\n",
        "        super(neural_net, self).__init__()\n",
        "\n",
        "        #Define l2 regularization\n",
        "        self.regularization = regularization\n",
        "        regu = tf.keras.regularizers.l2(self.regularization)\n",
        "\n",
        "        self.lookback = lookback\n",
        "\n",
        "        #Define discrete feature layers\n",
        "        self.discrete_flatten = tf.keras.layers.Flatten()\n",
        "        self.discrete_prelu1 = tf.keras.layers.PReLU()\n",
        "        self.discrete_bnorm1 = tf.keras.layers.BatchNormalization()\n",
        "        self.discrete_dense1 = tf.keras.layers.Dense(32, activation = 'linear', use_bias = True, kernel_regularizer =  regu)\n",
        "        self.discrete_prelu2 = tf.keras.layers.PReLU()\n",
        "\n",
        "        #Define time feature Layers\n",
        "        #Time 1\n",
        "        self.time1_conv1 = tf.keras.layers.Conv1D(filters = 32, kernel_size = (1), use_bias = True, kernel_regularizer = regu)\n",
        "        self.time1_prelu1 = tf.keras.layers.PReLU()\n",
        "        self.time1_bnorm1 = tf.keras.layers.BatchNormalization()\n",
        "        self.time1_lstm1 = tf.keras.layers.LSTM(32, dropout = 0.1, recurrent_dropout = 0.5, input_shape = (self.lookback, 32), kernel_regularizer = regu)\n",
        "        self.time1_prelu2 = tf.keras.layers.PReLU()\n",
        "\n",
        "        #Time 2\n",
        "        self.time2_conv1 = tf.keras.layers.Conv1D(filters = 32, kernel_size = (1), use_bias = True, kernel_regularizer = regu)\n",
        "        self.time2_prelu1 = tf.keras.layers.PReLU()\n",
        "        self.time2_bnorm1 = tf.keras.layers.BatchNormalization()\n",
        "        self.time2_lstm1 = tf.keras.layers.LSTM(32, dropout = 0.1, recurrent_dropout = 0.5, input_shape = (self.lookback, 32), kernel_regularizer = regu)\n",
        "        self.time2_prelu2 = tf.keras.layers.PReLU()\n",
        "\n",
        "        #Define Merged layers\n",
        "        self.dense1 = tf.keras.layers.Dense(32, use_bias = True, kernel_regularizer = regu)\n",
        "        self.prelu1 = tf.keras.layers.PReLU()\n",
        "        self.bnorm1 = tf.keras.layers.BatchNormalization()\n",
        "        self.dense2 = tf.keras.layers.Dense(1, activation = 'linear', use_bias = True, kernel_regularizer = regu)\n",
        "\n",
        "    #Define the forward propagation\n",
        "    def call(self, inputs):\n",
        "        \n",
        "        #Split time and discrete inputs\n",
        "        x_time = inputs[:, :, :-3]\n",
        "        x_discrete = inputs[:, :, -3:]\n",
        "\n",
        "        #Run discrete layers\n",
        "        x_discrete = self.discrete_flatten(x_discrete)\n",
        "        x_discrete = self.discrete_prelu1(x_discrete)\n",
        "        x_discrete = self.discrete_bnorm1(x_discrete)\n",
        "        x_discrete = self.discrete_dense1(x_discrete)\n",
        "        x_discrete = self.discrete_prelu2(x_discrete)\n",
        "\n",
        "        #Run time layers\n",
        "        x_time1 = self.time1_conv1(x_time)\n",
        "        x_time1 = self.time1_prelu1(x_time1)\n",
        "        x_time1 = self.time1_bnorm1(x_time1)\n",
        "        x_time1 = self.time1_lstm1(x_time1)\n",
        "        x_time1 = self.time1_prelu2(x_time1)\n",
        "        \n",
        "        x_time2 = self.time2_conv1(x_time)\n",
        "        x_time2 = self.time2_prelu1(x_time2)\n",
        "        x_time2 = self.time2_bnorm1(x_time2)\n",
        "        x_time2 = self.time2_lstm1(x_time2)\n",
        "        x_time2 = self.time2_prelu2(x_time2)\n",
        "\n",
        "        #Concat layers\n",
        "        x = tf.concat([x_time1, x_time2, x_discrete], axis = 1)\n",
        "        x = self.dense1(x)\n",
        "        x = self.prelu1(x)\n",
        "        x = self.bnorm1(x)\n",
        "        x = self.dense2(x)\n",
        "        \n",
        "        #Return output\n",
        "        return x\n",
        "\n",
        "#Create an instance of you neural network model\n",
        "model = neural_net(lookback = 24 * 4, regularization = 1e-6)\n",
        "\n",
        "#Define optimizer\n",
        "optimizer = tf.keras.optimizers.Adam(learning_rate = 1e-3)\n",
        "\n",
        "#Define loss function\n",
        "mse_loss_fn = tf.keras.losses.MeanSquaredError()\n",
        "\n",
        "#Compile model\n",
        "model.compile(optimizer = optimizer, loss = mse_loss_fn)\n",
        "\n",
        "#Define callback\n",
        "callback = tf.keras.callbacks.EarlyStopping(monitor = 'val_loss', patience = 5, restore_best_weights = True)\n",
        "\n",
        "#Train model\n",
        "history = model.fit(train_gen, validation_data = val_gen, epochs = 50, callbacks = [callback])\n",
        "train_loss, val_loss = history.history['loss'], history.history['val_loss']\n",
        "\n",
        "#Evaluate on test set\n",
        "test_loss = model.evaluate(test_gen)\n",
        "print('Test Loss: ' + str(test_loss))\n",
        "\n",
        "#Plot test and validation loss\n",
        "plt.figure(figsize = (5, 5))\n",
        "plt.semilogy(train_loss, lw = 1.4)\n",
        "plt.semilogy(val_loss, lw = 1.4)\n",
        "plt.legend(['Train Loss', 'Val Loss'])\n",
        "plt.grid(True)\n",
        "plt.title('Train Loss')\n",
        "plt.show()"
      ],
      "execution_count": 27,
      "outputs": [
        {
          "output_type": "error",
          "ename": "TypeError",
          "evalue": "ignored",
          "traceback": [
            "\u001b[0;31m---------------------------------------------------------------------------\u001b[0m",
            "\u001b[0;31mTypeError\u001b[0m                                 Traceback (most recent call last)",
            "\u001b[0;32m<ipython-input-27-fad346bd60f7>\u001b[0m in \u001b[0;36m<module>\u001b[0;34m()\u001b[0m\n\u001b[1;32m     90\u001b[0m \u001b[0;34m\u001b[0m\u001b[0m\n\u001b[1;32m     91\u001b[0m \u001b[0;31m#Train model\u001b[0m\u001b[0;34m\u001b[0m\u001b[0;34m\u001b[0m\u001b[0;34m\u001b[0m\u001b[0m\n\u001b[0;32m---> 92\u001b[0;31m \u001b[0mhistory\u001b[0m \u001b[0;34m=\u001b[0m \u001b[0mmodel\u001b[0m\u001b[0;34m.\u001b[0m\u001b[0mfit\u001b[0m\u001b[0;34m(\u001b[0m\u001b[0mtrain_gen\u001b[0m\u001b[0;34m,\u001b[0m \u001b[0mvalidation_data\u001b[0m \u001b[0;34m=\u001b[0m \u001b[0mval_gen\u001b[0m\u001b[0;34m,\u001b[0m \u001b[0mepochs\u001b[0m \u001b[0;34m=\u001b[0m \u001b[0;36m50\u001b[0m\u001b[0;34m,\u001b[0m \u001b[0mcallbacks\u001b[0m \u001b[0;34m=\u001b[0m \u001b[0;34m[\u001b[0m\u001b[0mcallback\u001b[0m\u001b[0;34m]\u001b[0m\u001b[0;34m,\u001b[0m \u001b[0mmonitor\u001b[0m \u001b[0;34m=\u001b[0m \u001b[0;34m'val_loss'\u001b[0m\u001b[0;34m,\u001b[0m \u001b[0mpatience\u001b[0m \u001b[0;34m=\u001b[0m \u001b[0;36m5\u001b[0m\u001b[0;34m,\u001b[0m \u001b[0mrestore_best_weights\u001b[0m \u001b[0;34m=\u001b[0m \u001b[0;32mTrue\u001b[0m\u001b[0;34m)\u001b[0m\u001b[0;34m\u001b[0m\u001b[0;34m\u001b[0m\u001b[0m\n\u001b[0m\u001b[1;32m     93\u001b[0m \u001b[0mtrain_loss\u001b[0m\u001b[0;34m,\u001b[0m \u001b[0mval_loss\u001b[0m \u001b[0;34m=\u001b[0m \u001b[0mhistory\u001b[0m\u001b[0;34m.\u001b[0m\u001b[0mhistory\u001b[0m\u001b[0;34m[\u001b[0m\u001b[0;34m'loss'\u001b[0m\u001b[0;34m]\u001b[0m\u001b[0;34m,\u001b[0m \u001b[0mhistory\u001b[0m\u001b[0;34m.\u001b[0m\u001b[0mhistory\u001b[0m\u001b[0;34m[\u001b[0m\u001b[0;34m'val_loss'\u001b[0m\u001b[0;34m]\u001b[0m\u001b[0;34m\u001b[0m\u001b[0;34m\u001b[0m\u001b[0m\n\u001b[1;32m     94\u001b[0m \u001b[0;34m\u001b[0m\u001b[0m\n",
            "\u001b[0;32m/tensorflow-2.1.0/python3.6/tensorflow_core/python/keras/engine/training.py\u001b[0m in \u001b[0;36mfit\u001b[0;34m(self, x, y, batch_size, epochs, verbose, callbacks, validation_split, validation_data, shuffle, class_weight, sample_weight, initial_epoch, steps_per_epoch, validation_steps, validation_freq, max_queue_size, workers, use_multiprocessing, **kwargs)\u001b[0m\n\u001b[1;32m    793\u001b[0m       \u001b[0mepochs\u001b[0m \u001b[0;34m=\u001b[0m \u001b[0mkwargs\u001b[0m\u001b[0;34m.\u001b[0m\u001b[0mpop\u001b[0m\u001b[0;34m(\u001b[0m\u001b[0;34m'nb_epoch'\u001b[0m\u001b[0;34m)\u001b[0m\u001b[0;34m\u001b[0m\u001b[0;34m\u001b[0m\u001b[0m\n\u001b[1;32m    794\u001b[0m     \u001b[0;32mif\u001b[0m \u001b[0mkwargs\u001b[0m\u001b[0;34m:\u001b[0m\u001b[0;34m\u001b[0m\u001b[0;34m\u001b[0m\u001b[0m\n\u001b[0;32m--> 795\u001b[0;31m       \u001b[0;32mraise\u001b[0m \u001b[0mTypeError\u001b[0m\u001b[0;34m(\u001b[0m\u001b[0;34m'Unrecognized keyword arguments: '\u001b[0m \u001b[0;34m+\u001b[0m \u001b[0mstr\u001b[0m\u001b[0;34m(\u001b[0m\u001b[0mkwargs\u001b[0m\u001b[0;34m)\u001b[0m\u001b[0;34m)\u001b[0m\u001b[0;34m\u001b[0m\u001b[0;34m\u001b[0m\u001b[0m\n\u001b[0m\u001b[1;32m    796\u001b[0m     \u001b[0mself\u001b[0m\u001b[0;34m.\u001b[0m\u001b[0m_assert_compile_was_called\u001b[0m\u001b[0;34m(\u001b[0m\u001b[0;34m)\u001b[0m\u001b[0;34m\u001b[0m\u001b[0;34m\u001b[0m\u001b[0m\n\u001b[1;32m    797\u001b[0m     \u001b[0mself\u001b[0m\u001b[0;34m.\u001b[0m\u001b[0m_check_call_args\u001b[0m\u001b[0;34m(\u001b[0m\u001b[0;34m'fit'\u001b[0m\u001b[0;34m)\u001b[0m\u001b[0;34m\u001b[0m\u001b[0;34m\u001b[0m\u001b[0m\n",
            "\u001b[0;31mTypeError\u001b[0m: Unrecognized keyword arguments: {'monitor': 'val_loss', 'patience': 5, 'restore_best_weights': True}"
          ]
        }
      ]
    },
    {
      "cell_type": "code",
      "metadata": {
        "id": "gg96cQGwN3vl",
        "colab_type": "code",
        "colab": {}
      },
      "source": [
        "val_pred = model.predict(val_gen)"
      ],
      "execution_count": 0,
      "outputs": []
    },
    {
      "cell_type": "code",
      "metadata": {
        "id": "ro9ZbLYMN3zV",
        "colab_type": "code",
        "colab": {}
      },
      "source": [
        "predictions = pd.DataFrame(data = np.exp(val_log.iloc[lookback:, 0].values), index = val_log[lookback:].index, columns = ['True speed'])"
      ],
      "execution_count": 0,
      "outputs": []
    },
    {
      "cell_type": "code",
      "metadata": {
        "id": "Ob63LW74JU3X",
        "colab_type": "code",
        "colab": {}
      },
      "source": [
        "predictions['Predicted speed'] = np.exp(val_pred)"
      ],
      "execution_count": 0,
      "outputs": []
    },
    {
      "cell_type": "code",
      "metadata": {
        "id": "ndpr0s0WN33G",
        "colab_type": "code",
        "outputId": "3f574f16-abf6-4704-d931-8c8b7670bb4d",
        "colab": {
          "base_uri": "https://localhost:8080/",
          "height": 707
        }
      },
      "source": [
        "import matplotlib as mpl\n",
        "mpl.rcParams['figure.dpi'] = 150\n",
        "\n",
        "predictions[-10000:-9000].plot(figsize = (10,5), lw = 1)"
      ],
      "execution_count": 25,
      "outputs": [
        {
          "output_type": "execute_result",
          "data": {
            "text/plain": [
              "<matplotlib.axes._subplots.AxesSubplot at 0x7f0c5f0fb320>"
            ]
          },
          "metadata": {
            "tags": []
          },
          "execution_count": 25
        },
        {
          "output_type": "display_data",
          "data": {
            "image/png": "[encoded data removed]",
            "text/plain": [
              "<Figure size 1500x750 with 1 Axes>"
            ]
          },
          "metadata": {
            "tags": []
          }
        }
      ]
    },
    {
      "cell_type": "code",
      "metadata": {
        "id": "ixfAxXuSN362",
        "colab_type": "code",
        "colab": {}
      },
      "source": [
        "#filter size, batch norm, early stopping, extra (lstm) layers), speed limit, differencing, smoothing, change regu param, add more features!"
      ],
      "execution_count": 0,
      "outputs": []
    },
    {
      "cell_type": "code",
      "metadata": {
        "id": "xGw0tlmWN3-2",
        "colab_type": "code",
        "outputId": "12fc9116-7414-4efe-b423-9652ed70138f",
        "colab": {
          "base_uri": "https://localhost:8080/",
          "height": 35
        }
      },
      "source": [
        "np.mean((predictions['True speed'] - predictions['Predicted speed'])**2)"
      ],
      "execution_count": 0,
      "outputs": [
        {
          "output_type": "execute_result",
          "data": {
            "text/plain": [
              "37.50075095809877"
            ]
          },
          "metadata": {
            "tags": []
          },
          "execution_count": 93
        }
      ]
    },
    {
      "cell_type": "code",
      "metadata": {
        "id": "_oFU2N2poptT",
        "colab_type": "code",
        "outputId": "06e9b324-416a-4af0-a266-ed5dca3fdbba",
        "colab": {
          "base_uri": "https://localhost:8080/",
          "height": 35
        }
      },
      "source": [
        "speed = predictions['True speed'].values\n",
        "np.mean((speed[1:] - speed[:-1])**2)"
      ],
      "execution_count": 0,
      "outputs": [
        {
          "output_type": "execute_result",
          "data": {
            "text/plain": [
              "21.117637879524597"
            ]
          },
          "metadata": {
            "tags": []
          },
          "execution_count": 92
        }
      ]
    },
    {
      "cell_type": "code",
      "metadata": {
        "id": "xTTLhMlVN4CW",
        "colab_type": "code",
        "colab": {}
      },
      "source": [
        ""
      ],
      "execution_count": 0,
      "outputs": []
    },
    {
      "cell_type": "code",
      "metadata": {
        "id": "wuqAPMP2-8B0",
        "colab_type": "code",
        "colab": {}
      },
      "source": [
        ""
      ],
      "execution_count": 0,
      "outputs": []
    },
    {
      "cell_type": "code",
      "metadata": {
        "id": "iWC-l8yuFlAW",
        "colab_type": "code",
        "colab": {}
      },
      "source": [
        ""
      ],
      "execution_count": 0,
      "outputs": []
    },
    {
      "cell_type": "code",
      "metadata": {
        "id": "pG85R_7MLetY",
        "colab_type": "code",
        "colab": {}
      },
      "source": [
        ""
      ],
      "execution_count": 0,
      "outputs": []
    },
    {
      "cell_type": "code",
      "metadata": {
        "id": "AlAEOJCjLofK",
        "colab_type": "code",
        "colab": {}
      },
      "source": [
        ""
      ],
      "execution_count": 0,
      "outputs": []
    },
    {
      "cell_type": "code",
      "metadata": {
        "id": "ICPGB835Ly87",
        "colab_type": "code",
        "colab": {}
      },
      "source": [
        ""
      ],
      "execution_count": 0,
      "outputs": []
    },
    {
      "cell_type": "code",
      "metadata": {
        "id": "V5BNLq6NKH4-",
        "colab_type": "code",
        "colab": {}
      },
      "source": [
        ""
      ],
      "execution_count": 0,
      "outputs": []
    },
    {
      "cell_type": "code",
      "metadata": {
        "id": "NFWO6Z41LWrN",
        "colab_type": "code",
        "colab": {}
      },
      "source": [
        ""
      ],
      "execution_count": 0,
      "outputs": []
    },
    {
      "cell_type": "code",
      "metadata": {
        "id": "clwQ_6xwI8Pm",
        "colab_type": "code",
        "colab": {}
      },
      "source": [
        ""
      ],
      "execution_count": 0,
      "outputs": []
    },
    {
      "cell_type": "code",
      "metadata": {
        "id": "MUOSYFh1I8TE",
        "colab_type": "code",
        "colab": {}
      },
      "source": [
        ""
      ],
      "execution_count": 0,
      "outputs": []
    },
    {
      "cell_type": "code",
      "metadata": {
        "id": "Y3ov3g2qI8WE",
        "colab_type": "code",
        "colab": {}
      },
      "source": [
        ""
      ],
      "execution_count": 0,
      "outputs": []
    },
    {
      "cell_type": "code",
      "metadata": {
        "id": "yrEWjpoqI8Y1",
        "colab_type": "code",
        "colab": {}
      },
      "source": [
        ""
      ],
      "execution_count": 0,
      "outputs": []
    },
    {
      "cell_type": "code",
      "metadata": {
        "id": "_g2db9eVI8bl",
        "colab_type": "code",
        "colab": {}
      },
      "source": [
        ""
      ],
      "execution_count": 0,
      "outputs": []
    },
    {
      "cell_type": "code",
      "metadata": {
        "id": "FSrIoMeJI8eU",
        "colab_type": "code",
        "colab": {}
      },
      "source": [
        "## Min-max scaling (old stuff)\n",
        "def calc_mean(df, col):\n",
        "    # mean(100), mean(120)\n",
        "    return df.groupby(['speed_limit'])[col].mean().values\n",
        "\n",
        "def calc_sd(df, col):\n",
        "    # sd(100), sd(120)\n",
        "    return df.groupby(['speed_limit'])[col].std().values\n",
        "\n",
        "def normalize_df(df, cols):\n",
        "    copy = df.copy()\n",
        "    for col in cols:\n",
        "        # Find mean and sd for column\n",
        "        mean100, mean120 = calc_mean(copy, col)\n",
        "        sd100, sd120 = calc_sd(copy, col)\n",
        "        copy[col] = np.where(copy.speed_limit == 100, (copy[col] - mean100) / sd100, (copy[col] - mean120) / sd120)\n",
        "    return copy\n",
        "\n",
        "\n",
        "train_norm = normalize_df(train_log, cols[:-1])\n",
        "val_norm = normalize_df(val_log, cols[:-1])\n",
        "\n",
        "train2 = train.speed.values\n",
        "train2 = train2.reshape(-1, 1)\n",
        "\n",
        "val2 = val.speed.values\n",
        "val2 = val2.reshape(-1, 1)\n",
        "\n",
        "test2 = test.speed.values\n",
        "test2 = test2.reshape(-1, 1)\n",
        "\n",
        "from sklearn.preprocessing import MinMaxScaler\n",
        "\n",
        "scaler = MinMaxScaler()\n",
        "scaler.fit(train2)\n",
        "\n",
        "train.loc[:, 'speed'] = scaler.transform(train2)\n",
        "val.loc[:, 'speed'] = scaler.transform(val2)\n",
        "\n",
        "test_data = test.iloc[:, 0].values\n",
        "test_data = np.reshape(test_data, (-1, 1))\n",
        "test_data = scaler.transform(test2)"
      ],
      "execution_count": 0,
      "outputs": []
    },
    {
      "cell_type": "code",
      "metadata": {
        "id": "eKHi8XhHI8hE",
        "colab_type": "code",
        "colab": {}
      },
      "source": [
        ""
      ],
      "execution_count": 0,
      "outputs": []
    },
    {
      "cell_type": "code",
      "metadata": {
        "id": "v4PaSprAI8j1",
        "colab_type": "code",
        "colab": {}
      },
      "source": [
        ""
      ],
      "execution_count": 0,
      "outputs": []
    },
    {
      "cell_type": "code",
      "metadata": {
        "id": "uWYkwdB6I8mU",
        "colab_type": "code",
        "colab": {}
      },
      "source": [
        ""
      ],
      "execution_count": 0,
      "outputs": []
    }
  ]
}