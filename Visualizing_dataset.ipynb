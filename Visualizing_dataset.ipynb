{
  "nbformat": 4,
  "nbformat_minor": 0,
  "metadata": {
    "colab": {
      "name": "Visualizing_dataset.ipynb",
      "provenance": [],
      "authorship_tag": "ABX9TyOVMqCsKvn1TqbODygbKrz/",
      "include_colab_link": true
    },
    "kernelspec": {
      "name": "python3",
      "display_name": "Python 3"
    }
  },
  "cells": [
    {
      "cell_type": "markdown",
      "metadata": {
        "id": "view-in-github",
        "colab_type": "text"
      },
      "source": [
        "<a href=\"https://colab.research.google.com/github/ppiont/tensor-flow-state/blob/master/Visualizing_dataset.ipynb\" target=\"_parent\"><img src=\"https://colab.research.google.com/assets/colab-badge.svg\" alt=\"Open In Colab\"/></a>"
      ]
    },
    {
      "cell_type": "markdown",
      "metadata": {
        "id": "uM8MO4hQPBQ3",
        "colab_type": "text"
      },
      "source": [
        "Visualizing imputed dataset (imputed by crude backfillingb"
      ]
    },
    {
      "cell_type": "code",
      "metadata": {
        "id": "3c9PMBFIO_YU",
        "colab_type": "code",
        "colab": {}
      },
      "source": [
        "from google.colab import drive\n",
        "drive.mount(\"/gdrive\", force_remount = True)"
      ],
      "execution_count": 0,
      "outputs": []
    },
    {
      "cell_type": "code",
      "metadata": {
        "id": "J4YBt36zPwQb",
        "colab_type": "code",
        "colab": {}
      },
      "source": [
        "%cd \"/gdrive/My Drive/tensor-flow-state/tensor-flow-state\""
      ],
      "execution_count": 0,
      "outputs": []
    },
    {
      "cell_type": "code",
      "metadata": {
        "id": "cJV3LyGpPwTM",
        "colab_type": "code",
        "colab": {}
      },
      "source": [
        "import pandas as pd\n",
        "df = pd.read_csv(\"data/df_imputed_week_shift.csv\"), index_col = 0, parse_dates = True)"
      ],
      "execution_count": 0,
      "outputs": []
    },
    {
      "cell_type": "code",
      "metadata": {
        "id": "6xdDZDKeQBKk",
        "colab_type": "code",
        "colab": {}
      },
      "source": [
        ""
      ],
      "execution_count": 0,
      "outputs": []
    },
    {
      "cell_type": "code",
      "metadata": {
        "id": "JBms1onMQBUx",
        "colab_type": "code",
        "colab": {}
      },
      "source": [
        ""
      ],
      "execution_count": 0,
      "outputs": []
    },
    {
      "cell_type": "code",
      "metadata": {
        "id": "W17kWz9SQBYT",
        "colab_type": "code",
        "colab": {}
      },
      "source": [
        ""
      ],
      "execution_count": 0,
      "outputs": []
    },
    {
      "cell_type": "code",
      "metadata": {
        "id": "hT__aVgTQBcc",
        "colab_type": "code",
        "colab": {}
      },
      "source": [
        ""
      ],
      "execution_count": 0,
      "outputs": []
    },
    {
      "cell_type": "code",
      "metadata": {
        "id": "FbGFL_l8QBf8",
        "colab_type": "code",
        "colab": {}
      },
      "source": [
        ""
      ],
      "execution_count": 0,
      "outputs": []
    },
    {
      "cell_type": "code",
      "metadata": {
        "id": "ZPgG4JfVQBj1",
        "colab_type": "code",
        "colab": {}
      },
      "source": [
        ""
      ],
      "execution_count": 0,
      "outputs": []
    },
    {
      "cell_type": "code",
      "metadata": {
        "id": "EMk7RSUaQBnA",
        "colab_type": "code",
        "colab": {}
      },
      "source": [
        "def resample_df(df, freq = \"D\", method_speed = np.mean, method_flow = np.sum):\n",
        "    copied = df.resample(freq).agg({\n",
        "           \"speed\": method_speed, \"speed_-2\": method_speed, \"speed_-1\": method_speed, \"speed_+1\": method_speed, \"speed_+2\": method_speed,\n",
        "           \"flow\": method_flow, \"flow_-2\": method_flow, \"flow_-1\": method_flow, \"flow_+1\": method_flow, \"flow_+2\": method_flow})\n",
        "    return copied"
      ],
      "execution_count": 0,
      "outputs": []
    },
    {
      "cell_type": "code",
      "metadata": {
        "id": "gCZr8ZTxQBq1",
        "colab_type": "code",
        "colab": {}
      },
      "source": [
        "resamp = resample_df(df, freq = \"W\", method_speed = np.mean, method_flow = np.sum)\n",
        "import matplotlib.pyplot as plt\n",
        "fig, ax = plt.subplots(figsize = (30,15))\n",
        "resamp[speed_cols].plot(ax = ax)"
      ],
      "execution_count": 0,
      "outputs": []
    },
    {
      "cell_type": "code",
      "metadata": {
        "id": "ltJ3JSDeQBuI",
        "colab_type": "code",
        "colab": {}
      },
      "source": [
        "def missing_per_month(df):\n",
        "    df[\"null\"] = np.where(df.speed.isna(), 1, np.nan)\n",
        "    df[\"timestamp\"] = df.index\n",
        "    df.groupby(pd.Grouper(key=\"timestamp\", freq=\"M\"))[\"null\"].sum()\n",
        "missing_per_month(df)"
      ],
      "execution_count": 0,
      "outputs": []
    }
  ]
}