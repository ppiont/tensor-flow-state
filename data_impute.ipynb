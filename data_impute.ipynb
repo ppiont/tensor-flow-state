{
  "nbformat": 4,
  "nbformat_minor": 0,
  "metadata": {
    "colab": {
      "name": "data_impute.ipynb",
      "provenance": [],
      "include_colab_link": true
    },
    "kernelspec": {
      "name": "python3",
      "display_name": "Python 3"
    },
    "accelerator": "GPU"
  },
  "cells": [
    {
      "cell_type": "markdown",
      "metadata": {
        "id": "view-in-github",
        "colab_type": "text"
      },
      "source": [
        "<a href=\"https://colab.research.google.com/github/ppiont/tensor-flow-state/blob/master/data_impute.ipynb\" target=\"_parent\"><img src=\"https://colab.research.google.com/assets/colab-badge.svg\" alt=\"Open In Colab\"/></a>"
      ]
    },
    {
      "cell_type": "code",
      "metadata": {
        "id": "eomD9SWSjdai",
        "colab_type": "code",
        "outputId": "4f713314-29a6-45b8-c12f-feb1353b631e",
        "colab": {
          "base_uri": "https://localhost:8080/",
          "height": 122
        }
      },
      "source": [
        "from google.colab import drive\n",
        "drive.mount('/gdrive', force_remount = True)"
      ],
      "execution_count": 1,
      "outputs": [
        {
          "output_type": "stream",
          "text": [
            "Go to this URL in a browser: https://accounts.google.com/o/oauth2/auth?client_id=947318989803-6bn6qk8qdgf4n4g3pfee6491hc0brc4i.apps.googleusercontent.com&redirect_uri=urn%3aietf%3awg%3aoauth%3a2.0%3aoob&response_type=code&scope=email%20https%3a%2f%2fwww.googleapis.com%2fauth%2fdocs.test%20https%3a%2f%2fwww.googleapis.com%2fauth%2fdrive%20https%3a%2f%2fwww.googleapis.com%2fauth%2fdrive.photos.readonly%20https%3a%2f%2fwww.googleapis.com%2fauth%2fpeopleapi.readonly\n",
            "\n",
            "Enter your authorization code:\n",
            "··········\n",
            "Mounted at /gdrive\n"
          ],
          "name": "stdout"
        }
      ]
    },
    {
      "cell_type": "code",
      "metadata": {
        "id": "1E8BlcrnpdWB",
        "colab_type": "code",
        "outputId": "a9c231a3-2781-48c6-e91f-d4f19c9fd487",
        "colab": {
          "base_uri": "https://localhost:8080/",
          "height": 34
        }
      },
      "source": [
        "%cd '/gdrive/My Drive/tensor-flow-state/tensor-flow-state'"
      ],
      "execution_count": 2,
      "outputs": [
        {
          "output_type": "stream",
          "text": [
            "/gdrive/My Drive/tensor-flow-state/tensor-flow-state\n"
          ],
          "name": "stdout"
        }
      ]
    },
    {
      "cell_type": "code",
      "metadata": {
        "id": "Y4_hNs3U3AdK",
        "colab_type": "code",
        "colab": {}
      },
      "source": [
        "import pandas as pd\n",
        "df = pd.read_csv('data/combined_df.csv', index_col = 0, parse_dates = True)\n"
      ],
      "execution_count": 0,
      "outputs": []
    },
    {
      "cell_type": "code",
      "metadata": {
        "id": "weXbr4Y5mkgC",
        "colab_type": "code",
        "colab": {}
      },
      "source": [
        "df.rename({'speed_RWS01_MONIBAS_0021hrl0403ra': 'speed_-2', 'speed_RWS01_MONIBAS_0021hrl0409ra': 'speed_-1',\\\n",
        "           'speed_RWS01_MONIBAS_0021hrl0420ra': 'speed_+1', 'speed_RWS01_MONIBAS_0021hrl0426ra': 'speed_+2',\\\n",
        "           'flow_RWS01_MONIBAS_0021hrl0403ra': 'flow_-2', 'flow_RWS01_MONIBAS_0021hrl0409ra': 'flow_-1',\\\n",
        "           'flow_RWS01_MONIBAS_0021hrl0420ra': 'flow_+1', 'flow_RWS01_MONIBAS_0021hrl0426ra': 'flow_+2'\\\n",
        "           }, axis = 1, inplace = True)\n",
        "df = df[['speed', 'flow', 'speed_-2', 'speed_-1','speed_+1', 'speed_+2', 'flow_-2', 'flow_-1', 'flow_+1', 'flow_+2', 'speed_limit']]"
      ],
      "execution_count": 0,
      "outputs": []
    },
    {
      "cell_type": "code",
      "metadata": {
        "id": "GshbzoVVoOgB",
        "colab_type": "code",
        "colab": {
          "base_uri": "https://localhost:8080/",
          "height": 204
        },
        "outputId": "32add9a8-9080-4d2f-a92a-1ee222273ef7"
      },
      "source": [
        "df.head()"
      ],
      "execution_count": 13,
      "outputs": [
        {
          "output_type": "execute_result",
          "data": {
            "text/html": [
              "<div>\n",
              "<style scoped>\n",
              "    .dataframe tbody tr th:only-of-type {\n",
              "        vertical-align: middle;\n",
              "    }\n",
              "\n",
              "    .dataframe tbody tr th {\n",
              "        vertical-align: top;\n",
              "    }\n",
              "\n",
              "    .dataframe thead th {\n",
              "        text-align: right;\n",
              "    }\n",
              "</style>\n",
              "<table border=\"1\" class=\"dataframe\">\n",
              "  <thead>\n",
              "    <tr style=\"text-align: right;\">\n",
              "      <th></th>\n",
              "      <th>speed</th>\n",
              "      <th>flow</th>\n",
              "      <th>speed_-2</th>\n",
              "      <th>speed_-1</th>\n",
              "      <th>speed_+1</th>\n",
              "      <th>speed_+2</th>\n",
              "      <th>flow_-2</th>\n",
              "      <th>flow_-1</th>\n",
              "      <th>flow_+1</th>\n",
              "      <th>flow_+2</th>\n",
              "    </tr>\n",
              "  </thead>\n",
              "  <tbody>\n",
              "    <tr>\n",
              "      <th>2011-01-03 00:00:00</th>\n",
              "      <td>120.000000</td>\n",
              "      <td>8.0</td>\n",
              "      <td>100.000000</td>\n",
              "      <td>120.000000</td>\n",
              "      <td>118.5</td>\n",
              "      <td>120.000000</td>\n",
              "      <td>8.0</td>\n",
              "      <td>6.0</td>\n",
              "      <td>4.0</td>\n",
              "      <td>6.0</td>\n",
              "    </tr>\n",
              "    <tr>\n",
              "      <th>2011-01-03 00:01:00</th>\n",
              "      <td>120.000000</td>\n",
              "      <td>5.0</td>\n",
              "      <td>115.000000</td>\n",
              "      <td>120.000000</td>\n",
              "      <td>118.0</td>\n",
              "      <td>104.000000</td>\n",
              "      <td>18.0</td>\n",
              "      <td>6.0</td>\n",
              "      <td>5.0</td>\n",
              "      <td>2.0</td>\n",
              "    </tr>\n",
              "    <tr>\n",
              "      <th>2011-01-03 00:02:00</th>\n",
              "      <td>111.000000</td>\n",
              "      <td>2.0</td>\n",
              "      <td>112.666667</td>\n",
              "      <td>104.000000</td>\n",
              "      <td>91.0</td>\n",
              "      <td>112.666667</td>\n",
              "      <td>14.0</td>\n",
              "      <td>2.0</td>\n",
              "      <td>4.0</td>\n",
              "      <td>8.0</td>\n",
              "    </tr>\n",
              "    <tr>\n",
              "      <th>2011-01-03 00:03:00</th>\n",
              "      <td>105.333333</td>\n",
              "      <td>10.0</td>\n",
              "      <td>118.000000</td>\n",
              "      <td>108.666667</td>\n",
              "      <td>120.0</td>\n",
              "      <td>120.000000</td>\n",
              "      <td>14.0</td>\n",
              "      <td>6.0</td>\n",
              "      <td>9.0</td>\n",
              "      <td>10.0</td>\n",
              "    </tr>\n",
              "    <tr>\n",
              "      <th>2011-01-03 00:04:00</th>\n",
              "      <td>120.000000</td>\n",
              "      <td>8.0</td>\n",
              "      <td>105.500000</td>\n",
              "      <td>120.000000</td>\n",
              "      <td>120.0</td>\n",
              "      <td>117.500000</td>\n",
              "      <td>21.0</td>\n",
              "      <td>13.0</td>\n",
              "      <td>7.0</td>\n",
              "      <td>5.0</td>\n",
              "    </tr>\n",
              "  </tbody>\n",
              "</table>\n",
              "</div>"
            ],
            "text/plain": [
              "                          speed  flow    speed_-2  ...  flow_-1  flow_+1  flow_+2\n",
              "2011-01-03 00:00:00  120.000000   8.0  100.000000  ...      6.0      4.0      6.0\n",
              "2011-01-03 00:01:00  120.000000   5.0  115.000000  ...      6.0      5.0      2.0\n",
              "2011-01-03 00:02:00  111.000000   2.0  112.666667  ...      2.0      4.0      8.0\n",
              "2011-01-03 00:03:00  105.333333  10.0  118.000000  ...      6.0      9.0     10.0\n",
              "2011-01-03 00:04:00  120.000000   8.0  105.500000  ...     13.0      7.0      5.0\n",
              "\n",
              "[5 rows x 10 columns]"
            ]
          },
          "metadata": {
            "tags": []
          },
          "execution_count": 13
        }
      ]
    },
    {
      "cell_type": "code",
      "metadata": {
        "id": "5Z-L2EXKlarn",
        "colab_type": "code",
        "colab": {}
      },
      "source": [
        "import numpy as np\n",
        "test = df.resample('W').agg({'speed': np.mean, 'speed_RWS01_MONIBAS_0021hrl0403ra': np.mean, speed_RWS01_MONIBAS_0021hrl0409ra'flow': np.sum})"
      ],
      "execution_count": 0,
      "outputs": []
    },
    {
      "cell_type": "code",
      "metadata": {
        "id": "Nwk9F8TJlsnb",
        "colab_type": "code",
        "colab": {
          "base_uri": "https://localhost:8080/",
          "height": 419
        },
        "outputId": "8ae09b65-9b4f-4375-bb01-2d3e685d2961"
      },
      "source": [
        "test"
      ],
      "execution_count": 7,
      "outputs": [
        {
          "output_type": "execute_result",
          "data": {
            "text/html": [
              "<div>\n",
              "<style scoped>\n",
              "    .dataframe tbody tr th:only-of-type {\n",
              "        vertical-align: middle;\n",
              "    }\n",
              "\n",
              "    .dataframe tbody tr th {\n",
              "        vertical-align: top;\n",
              "    }\n",
              "\n",
              "    .dataframe thead th {\n",
              "        text-align: right;\n",
              "    }\n",
              "</style>\n",
              "<table border=\"1\" class=\"dataframe\">\n",
              "  <thead>\n",
              "    <tr style=\"text-align: right;\">\n",
              "      <th></th>\n",
              "      <th>speed</th>\n",
              "      <th>flow</th>\n",
              "    </tr>\n",
              "  </thead>\n",
              "  <tbody>\n",
              "    <tr>\n",
              "      <th>2011-01-09</th>\n",
              "      <td>105.776626</td>\n",
              "      <td>472819.633333</td>\n",
              "    </tr>\n",
              "    <tr>\n",
              "      <th>2011-01-16</th>\n",
              "      <td>105.793647</td>\n",
              "      <td>520566.766667</td>\n",
              "    </tr>\n",
              "    <tr>\n",
              "      <th>2011-01-23</th>\n",
              "      <td>105.626244</td>\n",
              "      <td>523850.533333</td>\n",
              "    </tr>\n",
              "    <tr>\n",
              "      <th>2011-01-30</th>\n",
              "      <td>105.737199</td>\n",
              "      <td>533144.633333</td>\n",
              "    </tr>\n",
              "    <tr>\n",
              "      <th>2011-02-06</th>\n",
              "      <td>105.825072</td>\n",
              "      <td>522463.566667</td>\n",
              "    </tr>\n",
              "    <tr>\n",
              "      <th>...</th>\n",
              "      <td>...</td>\n",
              "      <td>...</td>\n",
              "    </tr>\n",
              "    <tr>\n",
              "      <th>2019-12-01</th>\n",
              "      <td>100.765364</td>\n",
              "      <td>637799.000000</td>\n",
              "    </tr>\n",
              "    <tr>\n",
              "      <th>2019-12-08</th>\n",
              "      <td>101.889583</td>\n",
              "      <td>624232.000000</td>\n",
              "    </tr>\n",
              "    <tr>\n",
              "      <th>2019-12-15</th>\n",
              "      <td>102.671158</td>\n",
              "      <td>636876.000000</td>\n",
              "    </tr>\n",
              "    <tr>\n",
              "      <th>2019-12-22</th>\n",
              "      <td>103.630982</td>\n",
              "      <td>623754.000000</td>\n",
              "    </tr>\n",
              "    <tr>\n",
              "      <th>2019-12-29</th>\n",
              "      <td>105.410412</td>\n",
              "      <td>488291.000000</td>\n",
              "    </tr>\n",
              "  </tbody>\n",
              "</table>\n",
              "<p>469 rows × 2 columns</p>\n",
              "</div>"
            ],
            "text/plain": [
              "                 speed           flow\n",
              "2011-01-09  105.776626  472819.633333\n",
              "2011-01-16  105.793647  520566.766667\n",
              "2011-01-23  105.626244  523850.533333\n",
              "2011-01-30  105.737199  533144.633333\n",
              "2011-02-06  105.825072  522463.566667\n",
              "...                ...            ...\n",
              "2019-12-01  100.765364  637799.000000\n",
              "2019-12-08  101.889583  624232.000000\n",
              "2019-12-15  102.671158  636876.000000\n",
              "2019-12-22  103.630982  623754.000000\n",
              "2019-12-29  105.410412  488291.000000\n",
              "\n",
              "[469 rows x 2 columns]"
            ]
          },
          "metadata": {
            "tags": []
          },
          "execution_count": 7
        }
      ]
    },
    {
      "cell_type": "code",
      "metadata": {
        "id": "DJAEifg6lM5r",
        "colab_type": "code",
        "colab": {
          "base_uri": "https://localhost:8080/",
          "height": 779
        },
        "outputId": "bf61a11b-ae7e-471d-a2d3-0eb620254b33"
      },
      "source": [
        "df.loc[df.isnull().any(axis=1)]"
      ],
      "execution_count": 4,
      "outputs": [
        {
          "output_type": "execute_result",
          "data": {
            "text/html": [
              "<div>\n",
              "<style scoped>\n",
              "    .dataframe tbody tr th:only-of-type {\n",
              "        vertical-align: middle;\n",
              "    }\n",
              "\n",
              "    .dataframe tbody tr th {\n",
              "        vertical-align: top;\n",
              "    }\n",
              "\n",
              "    .dataframe thead th {\n",
              "        text-align: right;\n",
              "    }\n",
              "</style>\n",
              "<table border=\"1\" class=\"dataframe\">\n",
              "  <thead>\n",
              "    <tr style=\"text-align: right;\">\n",
              "      <th></th>\n",
              "      <th>speed</th>\n",
              "      <th>flow</th>\n",
              "      <th>speed_RWS01_MONIBAS_0021hrl0403ra</th>\n",
              "      <th>flow_RWS01_MONIBAS_0021hrl0403ra</th>\n",
              "      <th>speed_RWS01_MONIBAS_0021hrl0409ra</th>\n",
              "      <th>flow_RWS01_MONIBAS_0021hrl0409ra</th>\n",
              "      <th>speed_RWS01_MONIBAS_0021hrl0420ra</th>\n",
              "      <th>flow_RWS01_MONIBAS_0021hrl0420ra</th>\n",
              "      <th>speed_RWS01_MONIBAS_0021hrl0426ra</th>\n",
              "      <th>flow_RWS01_MONIBAS_0021hrl0426ra</th>\n",
              "      <th>speed_limit</th>\n",
              "    </tr>\n",
              "  </thead>\n",
              "  <tbody>\n",
              "    <tr>\n",
              "      <th>2011-01-03 01:58:00</th>\n",
              "      <td>97.00</td>\n",
              "      <td>2.0</td>\n",
              "      <td>NaN</td>\n",
              "      <td>NaN</td>\n",
              "      <td>NaN</td>\n",
              "      <td>NaN</td>\n",
              "      <td>107.0</td>\n",
              "      <td>1.0</td>\n",
              "      <td>120.0</td>\n",
              "      <td>1.0</td>\n",
              "      <td>120.0</td>\n",
              "    </tr>\n",
              "    <tr>\n",
              "      <th>2011-01-03 02:21:00</th>\n",
              "      <td>113.00</td>\n",
              "      <td>2.0</td>\n",
              "      <td>NaN</td>\n",
              "      <td>NaN</td>\n",
              "      <td>NaN</td>\n",
              "      <td>NaN</td>\n",
              "      <td>109.0</td>\n",
              "      <td>2.0</td>\n",
              "      <td>103.0</td>\n",
              "      <td>3.0</td>\n",
              "      <td>120.0</td>\n",
              "    </tr>\n",
              "    <tr>\n",
              "      <th>2011-01-03 03:01:00</th>\n",
              "      <td>120.00</td>\n",
              "      <td>1.0</td>\n",
              "      <td>NaN</td>\n",
              "      <td>NaN</td>\n",
              "      <td>NaN</td>\n",
              "      <td>NaN</td>\n",
              "      <td>120.0</td>\n",
              "      <td>3.0</td>\n",
              "      <td>113.0</td>\n",
              "      <td>3.0</td>\n",
              "      <td>120.0</td>\n",
              "    </tr>\n",
              "    <tr>\n",
              "      <th>2011-01-03 04:17:00</th>\n",
              "      <td>117.25</td>\n",
              "      <td>24.0</td>\n",
              "      <td>NaN</td>\n",
              "      <td>NaN</td>\n",
              "      <td>NaN</td>\n",
              "      <td>NaN</td>\n",
              "      <td>115.0</td>\n",
              "      <td>23.0</td>\n",
              "      <td>113.0</td>\n",
              "      <td>20.0</td>\n",
              "      <td>120.0</td>\n",
              "    </tr>\n",
              "    <tr>\n",
              "      <th>2011-01-03 15:26:00</th>\n",
              "      <td>100.00</td>\n",
              "      <td>61.0</td>\n",
              "      <td>NaN</td>\n",
              "      <td>NaN</td>\n",
              "      <td>NaN</td>\n",
              "      <td>NaN</td>\n",
              "      <td>100.0</td>\n",
              "      <td>57.0</td>\n",
              "      <td>100.0</td>\n",
              "      <td>66.0</td>\n",
              "      <td>100.0</td>\n",
              "    </tr>\n",
              "    <tr>\n",
              "      <th>...</th>\n",
              "      <td>...</td>\n",
              "      <td>...</td>\n",
              "      <td>...</td>\n",
              "      <td>...</td>\n",
              "      <td>...</td>\n",
              "      <td>...</td>\n",
              "      <td>...</td>\n",
              "      <td>...</td>\n",
              "      <td>...</td>\n",
              "      <td>...</td>\n",
              "      <td>...</td>\n",
              "    </tr>\n",
              "    <tr>\n",
              "      <th>2019-12-23 01:57:00</th>\n",
              "      <td>NaN</td>\n",
              "      <td>NaN</td>\n",
              "      <td>NaN</td>\n",
              "      <td>NaN</td>\n",
              "      <td>NaN</td>\n",
              "      <td>NaN</td>\n",
              "      <td>NaN</td>\n",
              "      <td>NaN</td>\n",
              "      <td>NaN</td>\n",
              "      <td>NaN</td>\n",
              "      <td>120.0</td>\n",
              "    </tr>\n",
              "    <tr>\n",
              "      <th>2019-12-23 01:58:00</th>\n",
              "      <td>NaN</td>\n",
              "      <td>NaN</td>\n",
              "      <td>NaN</td>\n",
              "      <td>NaN</td>\n",
              "      <td>NaN</td>\n",
              "      <td>NaN</td>\n",
              "      <td>NaN</td>\n",
              "      <td>NaN</td>\n",
              "      <td>NaN</td>\n",
              "      <td>NaN</td>\n",
              "      <td>120.0</td>\n",
              "    </tr>\n",
              "    <tr>\n",
              "      <th>2019-12-23 01:59:00</th>\n",
              "      <td>NaN</td>\n",
              "      <td>NaN</td>\n",
              "      <td>NaN</td>\n",
              "      <td>NaN</td>\n",
              "      <td>NaN</td>\n",
              "      <td>NaN</td>\n",
              "      <td>NaN</td>\n",
              "      <td>NaN</td>\n",
              "      <td>NaN</td>\n",
              "      <td>NaN</td>\n",
              "      <td>120.0</td>\n",
              "    </tr>\n",
              "    <tr>\n",
              "      <th>2019-12-24 12:51:00</th>\n",
              "      <td>NaN</td>\n",
              "      <td>NaN</td>\n",
              "      <td>NaN</td>\n",
              "      <td>NaN</td>\n",
              "      <td>NaN</td>\n",
              "      <td>NaN</td>\n",
              "      <td>NaN</td>\n",
              "      <td>NaN</td>\n",
              "      <td>NaN</td>\n",
              "      <td>NaN</td>\n",
              "      <td>100.0</td>\n",
              "    </tr>\n",
              "    <tr>\n",
              "      <th>2019-12-24 12:57:00</th>\n",
              "      <td>NaN</td>\n",
              "      <td>NaN</td>\n",
              "      <td>NaN</td>\n",
              "      <td>NaN</td>\n",
              "      <td>NaN</td>\n",
              "      <td>NaN</td>\n",
              "      <td>NaN</td>\n",
              "      <td>NaN</td>\n",
              "      <td>NaN</td>\n",
              "      <td>NaN</td>\n",
              "      <td>100.0</td>\n",
              "    </tr>\n",
              "  </tbody>\n",
              "</table>\n",
              "<p>448433 rows × 11 columns</p>\n",
              "</div>"
            ],
            "text/plain": [
              "                      speed  ...  speed_limit\n",
              "2011-01-03 01:58:00   97.00  ...        120.0\n",
              "2011-01-03 02:21:00  113.00  ...        120.0\n",
              "2011-01-03 03:01:00  120.00  ...        120.0\n",
              "2011-01-03 04:17:00  117.25  ...        120.0\n",
              "2011-01-03 15:26:00  100.00  ...        100.0\n",
              "...                     ...  ...          ...\n",
              "2019-12-23 01:57:00     NaN  ...        120.0\n",
              "2019-12-23 01:58:00     NaN  ...        120.0\n",
              "2019-12-23 01:59:00     NaN  ...        120.0\n",
              "2019-12-24 12:51:00     NaN  ...        100.0\n",
              "2019-12-24 12:57:00     NaN  ...        100.0\n",
              "\n",
              "[448433 rows x 11 columns]"
            ]
          },
          "metadata": {
            "tags": []
          },
          "execution_count": 4
        }
      ]
    },
    {
      "cell_type": "code",
      "metadata": {
        "colab_type": "code",
        "outputId": "b9f90cf6-3b15-4ea1-9d02-efd9a0d07f6c",
        "id": "LW85OFZ8rS9k",
        "colab": {
          "base_uri": "https://localhost:8080/",
          "height": 85
        }
      },
      "source": [
        "records = len(df)\n",
        "null_records = len(df.loc[df.isnull().any(axis=1)])\n",
        "null_ratio = len(df.loc[df.isnull().any(axis=1)]) / len(df)\n",
        "\n",
        "print(f\"\\\n",
        "Number of records:      {records:,}\\n\\\n",
        "Number of null records:   {null_records:,}\\n\\\n",
        "---------------------------------\\n\\\n",
        "Null ratio:                 {null_ratio:.3f}\\\n",
        "\")"
      ],
      "execution_count": 4,
      "outputs": [
        {
          "output_type": "stream",
          "text": [
            "Number of records:      4,727,520\n",
            "Number of null records:   448,433\n",
            "---------------------------------\n",
            "Null ratio:                 0.095\n"
          ],
          "name": "stdout"
        }
      ]
    },
    {
      "cell_type": "code",
      "metadata": {
        "id": "JJGiELdylBAP",
        "colab_type": "code",
        "colab": {}
      },
      "source": [
        ""
      ],
      "execution_count": 0,
      "outputs": []
    },
    {
      "cell_type": "code",
      "metadata": {
        "id": "Mw05H-6GTsOO",
        "colab_type": "code",
        "colab": {}
      },
      "source": [
        "import numpy as np\n",
        "temp = pd.DataFrame()\n",
        "df = df.assign(reference_speed = df.speed.interpolate(method = 'time'))\n",
        "df = df.assign(missing = np.nan)\n",
        "df.missing[df.isnull().any(axis=1)] = df.reference_speed"
      ],
      "execution_count": 0,
      "outputs": []
    },
    {
      "cell_type": "code",
      "metadata": {
        "id": "D0125c8RU2s_",
        "colab_type": "code",
        "colab": {
          "base_uri": "https://localhost:8080/",
          "height": 394
        },
        "outputId": "f9fc0fd6-ca39-48da-845d-db2b831cc99a"
      },
      "source": [
        ""
      ],
      "execution_count": 16,
      "outputs": [
        {
          "output_type": "execute_result",
          "data": {
            "text/html": [
              "<div>\n",
              "<style scoped>\n",
              "    .dataframe tbody tr th:only-of-type {\n",
              "        vertical-align: middle;\n",
              "    }\n",
              "\n",
              "    .dataframe tbody tr th {\n",
              "        vertical-align: top;\n",
              "    }\n",
              "\n",
              "    .dataframe thead th {\n",
              "        text-align: right;\n",
              "    }\n",
              "</style>\n",
              "<table border=\"1\" class=\"dataframe\">\n",
              "  <thead>\n",
              "    <tr style=\"text-align: right;\">\n",
              "      <th></th>\n",
              "      <th>speed</th>\n",
              "      <th>flow</th>\n",
              "      <th>speed_RWS01_MONIBAS_0021hrl0403ra</th>\n",
              "      <th>flow_RWS01_MONIBAS_0021hrl0403ra</th>\n",
              "      <th>speed_RWS01_MONIBAS_0021hrl0409ra</th>\n",
              "      <th>flow_RWS01_MONIBAS_0021hrl0409ra</th>\n",
              "      <th>speed_RWS01_MONIBAS_0021hrl0420ra</th>\n",
              "      <th>flow_RWS01_MONIBAS_0021hrl0420ra</th>\n",
              "      <th>speed_RWS01_MONIBAS_0021hrl0426ra</th>\n",
              "      <th>flow_RWS01_MONIBAS_0021hrl0426ra</th>\n",
              "      <th>speed_limit</th>\n",
              "      <th>reference_speed</th>\n",
              "      <th>missing</th>\n",
              "    </tr>\n",
              "  </thead>\n",
              "  <tbody>\n",
              "    <tr>\n",
              "      <th>2011-01-03 00:00:00</th>\n",
              "      <td>120.000000</td>\n",
              "      <td>8.0</td>\n",
              "      <td>100.000000</td>\n",
              "      <td>8.0</td>\n",
              "      <td>120.000000</td>\n",
              "      <td>6.0</td>\n",
              "      <td>118.5</td>\n",
              "      <td>4.0</td>\n",
              "      <td>120.000000</td>\n",
              "      <td>6.0</td>\n",
              "      <td>120.0</td>\n",
              "      <td>120.000000</td>\n",
              "      <td>120.000000</td>\n",
              "    </tr>\n",
              "    <tr>\n",
              "      <th>2011-01-03 00:01:00</th>\n",
              "      <td>120.000000</td>\n",
              "      <td>5.0</td>\n",
              "      <td>115.000000</td>\n",
              "      <td>18.0</td>\n",
              "      <td>120.000000</td>\n",
              "      <td>6.0</td>\n",
              "      <td>118.0</td>\n",
              "      <td>5.0</td>\n",
              "      <td>104.000000</td>\n",
              "      <td>2.0</td>\n",
              "      <td>120.0</td>\n",
              "      <td>120.000000</td>\n",
              "      <td>120.000000</td>\n",
              "    </tr>\n",
              "    <tr>\n",
              "      <th>2011-01-03 00:02:00</th>\n",
              "      <td>111.000000</td>\n",
              "      <td>2.0</td>\n",
              "      <td>112.666667</td>\n",
              "      <td>14.0</td>\n",
              "      <td>104.000000</td>\n",
              "      <td>2.0</td>\n",
              "      <td>91.0</td>\n",
              "      <td>4.0</td>\n",
              "      <td>112.666667</td>\n",
              "      <td>8.0</td>\n",
              "      <td>120.0</td>\n",
              "      <td>111.000000</td>\n",
              "      <td>111.000000</td>\n",
              "    </tr>\n",
              "    <tr>\n",
              "      <th>2011-01-03 00:03:00</th>\n",
              "      <td>105.333333</td>\n",
              "      <td>10.0</td>\n",
              "      <td>118.000000</td>\n",
              "      <td>14.0</td>\n",
              "      <td>108.666667</td>\n",
              "      <td>6.0</td>\n",
              "      <td>120.0</td>\n",
              "      <td>9.0</td>\n",
              "      <td>120.000000</td>\n",
              "      <td>10.0</td>\n",
              "      <td>120.0</td>\n",
              "      <td>105.333333</td>\n",
              "      <td>105.333333</td>\n",
              "    </tr>\n",
              "    <tr>\n",
              "      <th>2011-01-03 00:04:00</th>\n",
              "      <td>120.000000</td>\n",
              "      <td>8.0</td>\n",
              "      <td>105.500000</td>\n",
              "      <td>21.0</td>\n",
              "      <td>120.000000</td>\n",
              "      <td>13.0</td>\n",
              "      <td>120.0</td>\n",
              "      <td>7.0</td>\n",
              "      <td>117.500000</td>\n",
              "      <td>5.0</td>\n",
              "      <td>120.0</td>\n",
              "      <td>120.000000</td>\n",
              "      <td>120.000000</td>\n",
              "    </tr>\n",
              "  </tbody>\n",
              "</table>\n",
              "</div>"
            ],
            "text/plain": [
              "                          speed  flow  ...  reference_speed     missing\n",
              "2011-01-03 00:00:00  120.000000   8.0  ...       120.000000  120.000000\n",
              "2011-01-03 00:01:00  120.000000   5.0  ...       120.000000  120.000000\n",
              "2011-01-03 00:02:00  111.000000   2.0  ...       111.000000  111.000000\n",
              "2011-01-03 00:03:00  105.333333  10.0  ...       105.333333  105.333333\n",
              "2011-01-03 00:04:00  120.000000   8.0  ...       120.000000  120.000000\n",
              "\n",
              "[5 rows x 13 columns]"
            ]
          },
          "metadata": {
            "tags": []
          },
          "execution_count": 16
        }
      ]
    },
    {
      "cell_type": "code",
      "metadata": {
        "id": "V5kD9XUHrUen",
        "colab_type": "code",
        "colab": {}
      },
      "source": [
        "# Fill in the null vals for reference\n",
        "df = df.assign(reference_speed = dfspeed.interpolate(method = 'time'))\n",
        "# Add a col with interpolated values in the missing values position (the rest null) for plotting\n",
        "df = dfassign(missing = np.nan)\n",
        "dfmissing[df.isnull().any(axis=1) = august.reference_speed\n",
        "\n",
        "# Plot it (red are missing)\n",
        "august[['speed', 'missing']].plot(style = ['b.', 'rx'], figsize = (16, 9), alpha = 0.6, title = 'August')\n",
        "sns.despine()\n",
        "plt.tight_layout()\n",
        "plt.savefig(plotdir + 'August.png')\n",
        "\n",
        "\n",
        "# Luckily they are not all clumped, so the interpolation should be smooth\n",
        "\n",
        "# Now drop unnecessary speed col\n",
        "august.drop('speed', axis = 1, inplace = True)\n",
        "\n",
        "# There are no null vals left since we already interpolated reference_speed.\n",
        "august['reference_speed'].isnull().any()\n",
        "\n",
        "# Randomly null out 10% of the values in a new col target_speed that we want to test interpolation methods on\n",
        "august['target_speed'] = august['reference_speed'].mask(np.random.choice([True, False], size=august['reference_speed'].shape, p = [.1,.9]))\n",
        "\n",
        "# We now have thousands of null vals\n",
        "august['target_speed'].isna().sum()\n",
        "\n",
        "# Make a new column with only the reference values that aren't in the target col, like earlier but with the larger\n",
        "# set of randomly removed values\n",
        "august = august.assign(missing = np.nan)\n",
        "august.missing[august.target_speed.isna()] = august.reference_speed\n",
        "august.info()\n",
        "\n",
        "# Plot it (red are missing)\n",
        "august[['target_speed', 'missing']].plot(style=['b.', 'rx'], figsize=(16, 9), alpha = 0.6, title = 'August /w 10% data removed')"
      ],
      "execution_count": 0,
      "outputs": []
    },
    {
      "cell_type": "code",
      "metadata": {
        "id": "ymkplC9KrUke",
        "colab_type": "code",
        "colab": {}
      },
      "source": [
        ""
      ],
      "execution_count": 0,
      "outputs": []
    },
    {
      "cell_type": "code",
      "metadata": {
        "id": "3t2PM2nFrUqi",
        "colab_type": "code",
        "colab": {}
      },
      "source": [
        ""
      ],
      "execution_count": 0,
      "outputs": []
    },
    {
      "cell_type": "code",
      "metadata": {
        "id": "LgSRHh72rUvo",
        "colab_type": "code",
        "colab": {}
      },
      "source": [
        ""
      ],
      "execution_count": 0,
      "outputs": []
    },
    {
      "cell_type": "code",
      "metadata": {
        "id": "k039c2FR3Awc",
        "colab_type": "code",
        "colab": {}
      },
      "source": [
        "pd.set_option('display.max_rows', 500)\n",
        "df.speed[df.speed.notna()].astype(int).value_counts().head(25)"
      ],
      "execution_count": 0,
      "outputs": []
    },
    {
      "cell_type": "code",
      "metadata": {
        "id": "3kc3n4Uf3gEa",
        "colab_type": "code",
        "colab": {}
      },
      "source": [
        "import matplotlib.pyplot as plt\n",
        "plt.figure(figsize = (16,12))\n",
        "df.speed[(df.speed.notna()) & (df.speed > 70)].hist(bins = 50, grid = False)"
      ],
      "execution_count": 0,
      "outputs": []
    },
    {
      "cell_type": "code",
      "metadata": {
        "id": "RuS-67hiak81",
        "colab_type": "code",
        "colab": {}
      },
      "source": [
        "df2 = df.resample('M').agg({'speed': np.mean, 'flow': np.sum})"
      ],
      "execution_count": 0,
      "outputs": []
    },
    {
      "cell_type": "code",
      "metadata": {
        "id": "YE09jmCA3gJY",
        "colab_type": "code",
        "colab": {}
      },
      "source": [
        "plt.figure(figsize=(20,10))\n",
        "plt.scatter(df.index, df.speed)"
      ],
      "execution_count": 0,
      "outputs": []
    },
    {
      "cell_type": "code",
      "metadata": {
        "id": "zqXENTVKpeLN",
        "colab_type": "code",
        "outputId": "94bd7b2c-8f7e-4ce0-b8b2-94314b77e152",
        "colab": {
          "base_uri": "https://localhost:8080/",
          "height": 1000
        }
      },
      "source": [
        "df['null'] = np.where(df.speed.isna(), 1, np.nan)\n",
        "df['timestamp'] = df.index\n",
        "df.groupby(pd.Grouper(key='timestamp', freq='M'))['null'].sum()"
      ],
      "execution_count": 0,
      "outputs": [
        {
          "output_type": "execute_result",
          "data": {
            "text/plain": [
              "timestamp\n",
              "2011-01-31      69.00\n",
              "2011-02-28     150.00\n",
              "2011-03-31     812.00\n",
              "2011-04-30     336.00\n",
              "2011-05-31     394.00\n",
              "2011-06-30     195.00\n",
              "2011-07-31    1762.00\n",
              "2011-08-31    6077.00\n",
              "2011-09-30     212.00\n",
              "2011-10-31    1937.00\n",
              "2011-11-30     165.00\n",
              "2011-12-31     249.00\n",
              "2012-01-31    1568.00\n",
              "2012-02-29     680.00\n",
              "2012-03-31    2018.00\n",
              "2012-04-30    2365.00\n",
              "2012-05-31     121.00\n",
              "2012-06-30     722.00\n",
              "2012-07-31   14973.00\n",
              "2012-08-31     819.00\n",
              "2012-09-30     146.00\n",
              "2012-10-31    9376.00\n",
              "2012-11-30      15.00\n",
              "2012-12-31      44.00\n",
              "2013-01-31    2973.00\n",
              "2013-02-28    1267.00\n",
              "2013-03-31    1873.00\n",
              "2013-04-30    1036.00\n",
              "2013-05-31    2219.00\n",
              "2013-06-30    2184.00\n",
              "2013-07-31    1265.00\n",
              "2013-08-31    1378.00\n",
              "2013-09-30    2254.00\n",
              "2013-10-31    3050.00\n",
              "2013-11-30    4116.00\n",
              "2013-12-31    3663.00\n",
              "2014-01-31    4774.00\n",
              "2014-02-28    3897.00\n",
              "2014-03-31    2245.00\n",
              "2014-04-30    1537.00\n",
              "2014-05-31   44282.00\n",
              "2014-06-30   39657.00\n",
              "2014-07-31   44357.00\n",
              "2014-08-31   43324.00\n",
              "2014-09-30     394.00\n",
              "2014-10-31     472.00\n",
              "2014-11-30     596.00\n",
              "2014-12-31     191.00\n",
              "2015-01-31      92.00\n",
              "2015-02-28     135.00\n",
              "2015-03-31     143.00\n",
              "2015-04-30     212.00\n",
              "2015-05-31     279.00\n",
              "2015-06-30     828.00\n",
              "2015-07-31     189.00\n",
              "2015-08-31      81.00\n",
              "2015-09-30     464.00\n",
              "2015-10-31    1103.00\n",
              "2015-11-30     736.00\n",
              "2015-12-31     222.00\n",
              "2016-01-31      37.00\n",
              "2016-02-29     330.00\n",
              "2016-03-31     198.00\n",
              "2016-04-30      51.00\n",
              "2016-05-31     350.00\n",
              "2016-06-30     611.00\n",
              "2016-07-31     133.00\n",
              "2016-08-31    1073.00\n",
              "2016-09-30    1050.00\n",
              "2016-10-31     518.00\n",
              "2016-11-30     114.00\n",
              "2016-12-31    1862.00\n",
              "2017-01-31      11.00\n",
              "2017-02-28     274.00\n",
              "2017-03-31     702.00\n",
              "2017-04-30     733.00\n",
              "2017-05-31    2920.00\n",
              "2017-06-30     296.00\n",
              "2017-07-31     771.00\n",
              "2017-08-31     897.00\n",
              "2017-09-30    1912.00\n",
              "2017-10-31     840.00\n",
              "2017-11-30     172.00\n",
              "2017-12-31     575.00\n",
              "2018-01-31      35.00\n",
              "2018-02-28      13.00\n",
              "2018-03-31     115.00\n",
              "2018-04-30     610.00\n",
              "2018-05-31     851.00\n",
              "2018-06-30     110.00\n",
              "2018-07-31     602.00\n",
              "2018-08-31     116.00\n",
              "2018-09-30      72.00\n",
              "2018-10-31     177.00\n",
              "2018-11-30     105.00\n",
              "2018-12-31     798.00\n",
              "2019-01-31     163.00\n",
              "2019-02-28       9.00\n",
              "2019-03-31      86.00\n",
              "2019-04-30      29.00\n",
              "2019-05-31      34.00\n",
              "2019-06-30     100.00\n",
              "2019-07-31     111.00\n",
              "2019-08-31   10174.00\n",
              "2019-09-30    1212.00\n",
              "2019-10-31     230.00\n",
              "2019-11-30    5451.00\n",
              "2019-12-31     473.00\n",
              "Freq: M, Name: null, dtype: float64"
            ]
          },
          "metadata": {
            "tags": []
          },
          "execution_count": 50
        }
      ]
    },
    {
      "cell_type": "code",
      "metadata": {
        "id": "5vVgA8CjpePf",
        "colab_type": "code",
        "colab": {}
      },
      "source": [
        ""
      ],
      "execution_count": 0,
      "outputs": []
    },
    {
      "cell_type": "code",
      "metadata": {
        "id": "zI5e2U0ApeTH",
        "colab_type": "code",
        "colab": {}
      },
      "source": [
        ""
      ],
      "execution_count": 0,
      "outputs": []
    },
    {
      "cell_type": "code",
      "metadata": {
        "id": "Q55rUBf8PIRQ",
        "colab_type": "code",
        "colab": {}
      },
      "source": [
        ""
      ],
      "execution_count": 0,
      "outputs": []
    },
    {
      "cell_type": "code",
      "metadata": {
        "id": "uro0DTu_PIWY",
        "colab_type": "code",
        "colab": {}
      },
      "source": [
        ""
      ],
      "execution_count": 0,
      "outputs": []
    },
    {
      "cell_type": "code",
      "metadata": {
        "id": "1dp1Nyh-PIba",
        "colab_type": "code",
        "colab": {}
      },
      "source": [
        ""
      ],
      "execution_count": 0,
      "outputs": []
    },
    {
      "cell_type": "code",
      "metadata": {
        "id": "CAuWxxbPPIfz",
        "colab_type": "code",
        "colab": {}
      },
      "source": [
        ""
      ],
      "execution_count": 0,
      "outputs": []
    }
  ]
}