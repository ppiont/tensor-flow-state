{
  "nbformat": 4,
  "nbformat_minor": 0,
  "metadata": {
    "colab": {
      "name": "data_impute.ipynb",
      "provenance": [],
      "include_colab_link": true
    },
    "kernelspec": {
      "name": "python3",
      "display_name": "Python 3"
    },
    "accelerator": "GPU"
  },
  "cells": [
    {
      "cell_type": "markdown",
      "metadata": {
        "id": "view-in-github",
        "colab_type": "text"
      },
      "source": [
        "<a href=\"https://colab.research.google.com/github/ppiont/tensor-flow-state/blob/master/data_impute.ipynb\" target=\"_parent\"><img src=\"https://colab.research.google.com/assets/colab-badge.svg\" alt=\"Open In Colab\"/></a>"
      ]
    },
    {
      "cell_type": "code",
      "metadata": {
        "id": "eomD9SWSjdai",
        "colab_type": "code",
        "outputId": "578a46e0-2d01-466b-c515-ecad6d73f88a",
        "colab": {
          "base_uri": "https://localhost:8080/",
          "height": 34
        }
      },
      "source": [
        "from google.colab import drive\n",
        "drive.mount(\"/gdrive\", force_remount = True)"
      ],
      "execution_count": 1,
      "outputs": [
        {
          "output_type": "stream",
          "text": [
            "Mounted at /gdrive\n"
          ],
          "name": "stdout"
        }
      ]
    },
    {
      "cell_type": "code",
      "metadata": {
        "id": "1E8BlcrnpdWB",
        "colab_type": "code",
        "outputId": "c2d2343e-6a79-4c12-c38f-87653f2bd6c7",
        "colab": {
          "base_uri": "https://localhost:8080/",
          "height": 34
        }
      },
      "source": [
        "%cd \"/gdrive/My Drive/tensor-flow-state/tensor-flow-state\""
      ],
      "execution_count": 2,
      "outputs": [
        {
          "output_type": "stream",
          "text": [
            "/gdrive/My Drive/tensor-flow-state/tensor-flow-state\n"
          ],
          "name": "stdout"
        }
      ]
    },
    {
      "cell_type": "code",
      "metadata": {
        "id": "Y4_hNs3U3AdK",
        "colab_type": "code",
        "colab": {}
      },
      "source": [
        "import pandas as pd\n",
        "df = pd.read_csv(\"data/combined_df.csv\", index_col = 0, parse_dates = True)\n"
      ],
      "execution_count": 0,
      "outputs": []
    },
    {
      "cell_type": "code",
      "metadata": {
        "id": "weXbr4Y5mkgC",
        "colab_type": "code",
        "colab": {}
      },
      "source": [
        "df.rename({\"speed_RWS01_MONIBAS_0021hrl0403ra\": \"speed_-2\", \"speed_RWS01_MONIBAS_0021hrl0409ra\": \"speed_-1\",\\\n",
        "           \"speed_RWS01_MONIBAS_0021hrl0420ra\": \"speed_+1\", \"speed_RWS01_MONIBAS_0021hrl0426ra\": \"speed_+2\",\\\n",
        "           \"flow_RWS01_MONIBAS_0021hrl0403ra\": \"flow_-2\", \"flow_RWS01_MONIBAS_0021hrl0409ra\": \"flow_-1\",\\\n",
        "           \"flow_RWS01_MONIBAS_0021hrl0420ra\": \"flow_+1\", \"flow_RWS01_MONIBAS_0021hrl0426ra\": \"flow_+2\"\\\n",
        "           }, axis = 1, inplace = True)\n",
        "cols = [\"speed\", \"flow\", \"speed_-2\", \"speed_-1\",\"speed_+1\", \"speed_+2\", \"flow_-2\", \"flow_-1\", \"flow_+1\", \"flow_+2\", \"speed_limit\"]\n",
        "speed_cols = [\"speed\", \"speed_-2\", \"speed_-1\",\"speed_+1\", \"speed_+2\"]\n",
        "flow_cols = [\"flow\", \"flow_-2\", \"flow_-1\", \"flow_+1\", \"flow_+2\"]\n",
        "df = df[cols]"
      ],
      "execution_count": 0,
      "outputs": []
    },
    {
      "cell_type": "code",
      "metadata": {
        "id": "ynclHeFLstGk",
        "colab_type": "code",
        "colab": {}
      },
      "source": [
        "def nans(df, title = \"\"):\n",
        "    records = len(df)\n",
        "    null_records = len(df.loc[df.isnull().any(axis=1)])\n",
        "    null_ratio = len(df.loc[df.isnull().any(axis=1)]) / len(df)\n",
        "\n",
        "    print(f\"\\\n",
        "    {title}\\n\\\n",
        "    ---------------------------------\\n\\\n",
        "    Number of records:      {records:,}\\n\\\n",
        "    Number of null records:   {null_records:,}\\n\\\n",
        "    ---------------------------------\\n\\\n",
        "    Null ratio:                 {null_ratio:.3f}\\\n",
        "    \")"
      ],
      "execution_count": 0,
      "outputs": []
    },
    {
      "cell_type": "code",
      "metadata": {
        "id": "dkCT09AVsvCR",
        "colab_type": "code",
        "outputId": "2fac30fc-b59f-427e-c8c5-65b0911590b6",
        "colab": {
          "base_uri": "https://localhost:8080/",
          "height": 119
        }
      },
      "source": [
        "nans(df, title = \"Status before imputation\")"
      ],
      "execution_count": 6,
      "outputs": [
        {
          "output_type": "stream",
          "text": [
            "    Status before imputation\n",
            "    ---------------------------------\n",
            "    Number of records:      4,727,520\n",
            "    Number of null records:   448,433\n",
            "    ---------------------------------\n",
            "    Null ratio:                 0.095    \n"
          ],
          "name": "stdout"
        }
      ]
    },
    {
      "cell_type": "code",
      "metadata": {
        "id": "GYZ5SBhLwtr8",
        "colab_type": "code",
        "colab": {}
      },
      "source": [
        "def fill_na_row_mean(df):\n",
        "    row_avgs = df.mean(axis=1).values.reshape(-1,1)\n",
        "    df = df.fillna(0) + df.isna().values * row_avgs\n",
        "    return df"
      ],
      "execution_count": 0,
      "outputs": []
    },
    {
      "cell_type": "code",
      "metadata": {
        "id": "-0SSv5csTH1S",
        "colab_type": "code",
        "colab": {}
      },
      "source": [
        "speed_df = fill_na_row_mean(df[speed_cols])\n",
        "flow_df = fill_na_row_mean(df[flow_cols])"
      ],
      "execution_count": 0,
      "outputs": []
    },
    {
      "cell_type": "code",
      "metadata": {
        "id": "60s7OGnHyaeh",
        "colab_type": "code",
        "colab": {}
      },
      "source": [
        "df = speed_df.join(flow_df, how = 'inner').join(df[['speed_limit']], how = 'inner')"
      ],
      "execution_count": 0,
      "outputs": []
    },
    {
      "cell_type": "code",
      "metadata": {
        "id": "qKtfAKDXtDo8",
        "colab_type": "code",
        "outputId": "e31920aa-d658-43bb-ae23-c2167e3097d2",
        "colab": {
          "base_uri": "https://localhost:8080/",
          "height": 119
        }
      },
      "source": [
        "nans(df, title = \"Status after row meaning nans\")"
      ],
      "execution_count": 10,
      "outputs": [
        {
          "output_type": "stream",
          "text": [
            "    Status after row meaning nans\n",
            "    ---------------------------------\n",
            "    Number of records:      4,727,520\n",
            "    Number of null records:   289,265\n",
            "    ---------------------------------\n",
            "    Null ratio:                 0.061    \n"
          ],
          "name": "stdout"
        }
      ]
    },
    {
      "cell_type": "code",
      "metadata": {
        "id": "ITtjOdtlEhsA",
        "colab_type": "code",
        "colab": {}
      },
      "source": [
        "df.to_csv(\"data/df_NAs_row_meaned.csv\")"
      ],
      "execution_count": 0,
      "outputs": []
    },
    {
      "cell_type": "code",
      "metadata": {
        "id": "Qveet4IU1wHd",
        "colab_type": "code",
        "colab": {}
      },
      "source": [
        "# Interpolate null vals for the first week of data of speed and flow cols\n",
        "def interpolate_week(df, cols):\n",
        "    week = 7 * 24 * 60\n",
        "    for col in cols: \n",
        "        df.iloc[:week, df.columns.get_loc(col)] = df[col][:week].interpolate(method = 'time')\n",
        "    return df\n",
        "\n",
        "import numpy as np\n",
        "# Replace remaining nulls with value from 1 week previous\n",
        "def shift_week(df, cols):\n",
        "    # Use RangeIndex for the this operation\n",
        "    df['timestamp'] = df.index\n",
        "    df.reset_index(drop = True, inplace = True)\n",
        "    week = 7 * 24 * 60\n",
        "    for col in cols:\n",
        "        col_index = df.columns.get_loc(col)\n",
        "        for row in df.itertuples():\n",
        "            if np.isnan(row[col_index]):\n",
        "                df.iat[row[0], col_index - 1] = df.iat[(row[0] - week), col_index - 1]\n",
        "    # Return to DateTimeIndex again\n",
        "    df.set_index(pd.to_datetime(df.timestamp.values), inplace = True) \n",
        "    df.drop('timestamp', axis = 1, inplace = True)\n",
        "    return df"
      ],
      "execution_count": 0,
      "outputs": []
    },
    {
      "cell_type": "code",
      "metadata": {
        "id": "abedtDZcirbE",
        "colab_type": "code",
        "colab": {}
      },
      "source": [
        "df = interpolate_week(df, cols)\n",
        "df = shift_week(df, cols)"
      ],
      "execution_count": 0,
      "outputs": []
    },
    {
      "cell_type": "code",
      "metadata": {
        "id": "8rOU0onJtSKX",
        "colab_type": "code",
        "colab": {
          "base_uri": "https://localhost:8080/",
          "height": 119
        },
        "outputId": "fb86cb16-4418-41dc-df08-0212f756cb50"
      },
      "source": [
        "nans(df, title = \"Status after week shifting\")"
      ],
      "execution_count": 17,
      "outputs": [
        {
          "output_type": "stream",
          "text": [
            "    Status after week shifting\n",
            "    ---------------------------------\n",
            "    Number of records:      4,727,520\n",
            "    Number of null records:   0\n",
            "    ---------------------------------\n",
            "    Null ratio:                 0.000    \n"
          ],
          "name": "stdout"
        }
      ]
    },
    {
      "cell_type": "code",
      "metadata": {
        "id": "SrP6wnAisOzs",
        "colab_type": "code",
        "colab": {}
      },
      "source": [
        "df.to_csv(\"data/df_imputed_week_shift.csv\")"
      ],
      "execution_count": 0,
      "outputs": []
    },
    {
      "cell_type": "code",
      "metadata": {
        "id": "prRPOfzSuOdQ",
        "colab_type": "code",
        "colab": {
          "base_uri": "https://localhost:8080/",
          "height": 204
        },
        "outputId": "2feb9f5e-3119-4a66-b812-91e3a8d68ce7"
      },
      "source": [
        "df.head()"
      ],
      "execution_count": 22,
      "outputs": [
        {
          "output_type": "execute_result",
          "data": {
            "text/html": [
              "<div>\n",
              "<style scoped>\n",
              "    .dataframe tbody tr th:only-of-type {\n",
              "        vertical-align: middle;\n",
              "    }\n",
              "\n",
              "    .dataframe tbody tr th {\n",
              "        vertical-align: top;\n",
              "    }\n",
              "\n",
              "    .dataframe thead th {\n",
              "        text-align: right;\n",
              "    }\n",
              "</style>\n",
              "<table border=\"1\" class=\"dataframe\">\n",
              "  <thead>\n",
              "    <tr style=\"text-align: right;\">\n",
              "      <th></th>\n",
              "      <th>speed</th>\n",
              "      <th>speed_-2</th>\n",
              "      <th>speed_-1</th>\n",
              "      <th>speed_+1</th>\n",
              "      <th>speed_+2</th>\n",
              "      <th>flow</th>\n",
              "      <th>flow_-2</th>\n",
              "      <th>flow_-1</th>\n",
              "      <th>flow_+1</th>\n",
              "      <th>flow_+2</th>\n",
              "      <th>speed_limit</th>\n",
              "    </tr>\n",
              "  </thead>\n",
              "  <tbody>\n",
              "    <tr>\n",
              "      <th>1970-01-01 00:00:00.000000000</th>\n",
              "      <td>120.000000</td>\n",
              "      <td>100.000000</td>\n",
              "      <td>120.000000</td>\n",
              "      <td>118.5</td>\n",
              "      <td>120.000000</td>\n",
              "      <td>8.0</td>\n",
              "      <td>8.0</td>\n",
              "      <td>6.0</td>\n",
              "      <td>4.0</td>\n",
              "      <td>6.0</td>\n",
              "      <td>120.0</td>\n",
              "    </tr>\n",
              "    <tr>\n",
              "      <th>1970-01-01 00:00:00.000000001</th>\n",
              "      <td>120.000000</td>\n",
              "      <td>115.000000</td>\n",
              "      <td>120.000000</td>\n",
              "      <td>118.0</td>\n",
              "      <td>104.000000</td>\n",
              "      <td>5.0</td>\n",
              "      <td>18.0</td>\n",
              "      <td>6.0</td>\n",
              "      <td>5.0</td>\n",
              "      <td>2.0</td>\n",
              "      <td>120.0</td>\n",
              "    </tr>\n",
              "    <tr>\n",
              "      <th>1970-01-01 00:00:00.000000002</th>\n",
              "      <td>111.000000</td>\n",
              "      <td>112.666667</td>\n",
              "      <td>104.000000</td>\n",
              "      <td>91.0</td>\n",
              "      <td>112.666667</td>\n",
              "      <td>2.0</td>\n",
              "      <td>14.0</td>\n",
              "      <td>2.0</td>\n",
              "      <td>4.0</td>\n",
              "      <td>8.0</td>\n",
              "      <td>120.0</td>\n",
              "    </tr>\n",
              "    <tr>\n",
              "      <th>1970-01-01 00:00:00.000000003</th>\n",
              "      <td>105.333333</td>\n",
              "      <td>118.000000</td>\n",
              "      <td>108.666667</td>\n",
              "      <td>120.0</td>\n",
              "      <td>120.000000</td>\n",
              "      <td>10.0</td>\n",
              "      <td>14.0</td>\n",
              "      <td>6.0</td>\n",
              "      <td>9.0</td>\n",
              "      <td>10.0</td>\n",
              "      <td>120.0</td>\n",
              "    </tr>\n",
              "    <tr>\n",
              "      <th>1970-01-01 00:00:00.000000004</th>\n",
              "      <td>120.000000</td>\n",
              "      <td>105.500000</td>\n",
              "      <td>120.000000</td>\n",
              "      <td>120.0</td>\n",
              "      <td>117.500000</td>\n",
              "      <td>8.0</td>\n",
              "      <td>21.0</td>\n",
              "      <td>13.0</td>\n",
              "      <td>7.0</td>\n",
              "      <td>5.0</td>\n",
              "      <td>120.0</td>\n",
              "    </tr>\n",
              "  </tbody>\n",
              "</table>\n",
              "</div>"
            ],
            "text/plain": [
              "                                    speed    speed_-2  ...  flow_+2  speed_limit\n",
              "1970-01-01 00:00:00.000000000  120.000000  100.000000  ...      6.0        120.0\n",
              "1970-01-01 00:00:00.000000001  120.000000  115.000000  ...      2.0        120.0\n",
              "1970-01-01 00:00:00.000000002  111.000000  112.666667  ...      8.0        120.0\n",
              "1970-01-01 00:00:00.000000003  105.333333  118.000000  ...     10.0        120.0\n",
              "1970-01-01 00:00:00.000000004  120.000000  105.500000  ...      5.0        120.0\n",
              "\n",
              "[5 rows x 11 columns]"
            ]
          },
          "metadata": {
            "tags": []
          },
          "execution_count": 22
        }
      ]
    },
    {
      "cell_type": "code",
      "metadata": {
        "id": "41GOXgZwsBK_",
        "colab_type": "code",
        "colab": {}
      },
      "source": [
        "def resample_df(df, freq = \"D\", method_speed = np.mean, method_flow = np.sum):\n",
        "    copied = df.resample(freq).agg({\n",
        "           \"speed\": method_speed, \"speed_-2\": method_speed, \"speed_-1\": method_speed, \"speed_+1\": method_speed, \"speed_+2\": method_speed,\n",
        "           \"flow\": method_flow, \"flow_-2\": method_flow, \"flow_-1\": method_flow, \"flow_+1\": method_flow, \"flow_+2\": method_flow})\n",
        "    return copied"
      ],
      "execution_count": 0,
      "outputs": []
    },
    {
      "cell_type": "code",
      "metadata": {
        "id": "MO_UpBQgl6-O",
        "colab_type": "code",
        "colab": {}
      },
      "source": [
        "resamp = resample_df(df, freq = \"W\", method_speed = np.mean, method_flow = np.sum)\n",
        "import matplotlib.pyplot as plt\n",
        "fig, ax = plt.subplots(figsize = (30,15))\n",
        "resamp[speed_cols].plot(ax = ax)"
      ],
      "execution_count": 0,
      "outputs": []
    },
    {
      "cell_type": "code",
      "metadata": {
        "id": "vXEmkoLVTH6j",
        "colab_type": "code",
        "colab": {}
      },
      "source": [
        ""
      ],
      "execution_count": 0,
      "outputs": []
    },
    {
      "cell_type": "code",
      "metadata": {
        "id": "5Z-L2EXKlarn",
        "colab_type": "code",
        "colab": {}
      },
      "source": [
        "import numpy as np\n",
        "test = df_imputed.resample(\"W\").agg({\"speed\": np.mean, \"speed_-2\": np.mean, \"speed_-1\": np.mean, \"speed_+1\": np.mean, \"speed_+2\": np.mean,\n",
        "                             \"flow\": np.sum, \"flow_-2\": np.sum, \"flow_-1\": np.sum, \"flow_+1\": np.sum, \"flow_+2\": np.sum})"
      ],
      "execution_count": 0,
      "outputs": []
    },
    {
      "cell_type": "code",
      "metadata": {
        "id": "fYlIDh0GRBkm",
        "colab_type": "code",
        "colab": {}
      },
      "source": [
        ""
      ],
      "execution_count": 0,
      "outputs": []
    },
    {
      "cell_type": "code",
      "metadata": {
        "id": "hjlVku3LRBp2",
        "colab_type": "code",
        "colab": {}
      },
      "source": [
        ""
      ],
      "execution_count": 0,
      "outputs": []
    },
    {
      "cell_type": "code",
      "metadata": {
        "id": "Nwk9F8TJlsnb",
        "colab_type": "code",
        "colab": {}
      },
      "source": [
        "pd.options.display.max_rows = 1000\n",
        "pd.options.display.float_format = \"{:.2f}\".format\n",
        "test"
      ],
      "execution_count": 0,
      "outputs": []
    },
    {
      "cell_type": "code",
      "metadata": {
        "id": "rfRH23UXtwV5",
        "colab_type": "code",
        "colab": {}
      },
      "source": [
        "df.head(500)"
      ],
      "execution_count": 0,
      "outputs": []
    },
    {
      "cell_type": "code",
      "metadata": {
        "id": "DJAEifg6lM5r",
        "colab_type": "code",
        "colab": {}
      },
      "source": [
        "df.loc[df.isnull().any(axis=1)]"
      ],
      "execution_count": 0,
      "outputs": []
    },
    {
      "cell_type": "code",
      "metadata": {
        "colab_type": "code",
        "outputId": "cd3855ef-c89b-4c1c-86fc-82253ab52245",
        "id": "LW85OFZ8rS9k",
        "colab": {
          "base_uri": "https://localhost:8080/",
          "height": 85
        }
      },
      "source": [
        ""
      ],
      "execution_count": 0,
      "outputs": [
        {
          "output_type": "stream",
          "text": [
            "    Number of records:      4,727,520\n",
            "    Number of null records:   288,548\n",
            "    ---------------------------------\n",
            "    Null ratio:                 0.061    \n"
          ],
          "name": "stdout"
        }
      ]
    },
    {
      "cell_type": "code",
      "metadata": {
        "id": "JJGiELdylBAP",
        "colab_type": "code",
        "colab": {}
      },
      "source": [
        ""
      ],
      "execution_count": 0,
      "outputs": []
    },
    {
      "cell_type": "code",
      "metadata": {
        "id": "Mw05H-6GTsOO",
        "colab_type": "code",
        "colab": {}
      },
      "source": [
        "import numpy as np\n",
        "temp = pd.DataFrame()\n",
        "df = df.assign(reference_speed = df.speed.interpolate(method = \"time\"))\n",
        "df = df.assign(missing = np.nan)\n",
        "df.missing[df.isnull().any(axis=1)] = df.reference_speed"
      ],
      "execution_count": 0,
      "outputs": []
    },
    {
      "cell_type": "code",
      "metadata": {
        "id": "D0125c8RU2s_",
        "colab_type": "code",
        "colab": {}
      },
      "source": [
        ""
      ],
      "execution_count": 0,
      "outputs": []
    },
    {
      "cell_type": "code",
      "metadata": {
        "id": "V5kD9XUHrUen",
        "colab_type": "code",
        "colab": {}
      },
      "source": [
        "# Fill in the null vals for reference\n",
        "df = df.assign(reference_speed = dfspeed.interpolate(method = \"time\"))\n",
        "# Add a col with interpolated values in the missing values position (the rest null) for plotting\n",
        "df = dfassign(missing = np.nan)\n",
        "dfmissing[df.isnull().any(axis=1) = august.reference_speed\n",
        "\n",
        "# Plot it (red are missing)\n",
        "august[[\"speed\", \"missing\"]].plot(style = [\"b.\", \"rx\"], figsize = (16, 9), alpha = 0.6, title = \"August\")\n",
        "sns.despine()\n",
        "plt.tight_layout()\n",
        "plt.savefig(plotdir + \"August.png\")\n",
        "\n",
        "\n",
        "# Luckily they are not all clumped, so the interpolation should be smooth\n",
        "\n",
        "# Now drop unnecessary speed col\n",
        "august.drop(\"speed\", axis = 1, inplace = True)\n",
        "\n",
        "# There are no null vals left since we already interpolated reference_speed.\n",
        "august[\"reference_speed\"].isnull().any()\n",
        "\n",
        "# Randomly null out 10% of the values in a new col target_speed that we want to test interpolation methods on\n",
        "august[\"target_speed\"] = august[\"reference_speed\"].mask(np.random.choice([True, False], size=august[\"reference_speed\"].shape, p = [.1,.9]))\n",
        "\n",
        "# We now have thousands of null vals\n",
        "august[\"target_speed\"].isna().sum()\n",
        "\n",
        "# Make a new column with only the reference values that aren\"t in the target col, like earlier but with the larger\n",
        "# set of randomly removed values\n",
        "august = august.assign(missing = np.nan)\n",
        "august.missing[august.target_speed.isna()] = august.reference_speed\n",
        "august.info()\n",
        "\n",
        "# Plot it (red are missing)\n",
        "august[[\"target_speed\", \"missing\"]].plot(style=[\"b.\", \"rx\"], figsize=(16, 9), alpha = 0.6, title = \"August /w 10% data removed\")"
      ],
      "execution_count": 0,
      "outputs": []
    },
    {
      "cell_type": "code",
      "metadata": {
        "id": "ymkplC9KrUke",
        "colab_type": "code",
        "colab": {}
      },
      "source": [
        ""
      ],
      "execution_count": 0,
      "outputs": []
    },
    {
      "cell_type": "code",
      "metadata": {
        "id": "3t2PM2nFrUqi",
        "colab_type": "code",
        "colab": {}
      },
      "source": [
        ""
      ],
      "execution_count": 0,
      "outputs": []
    },
    {
      "cell_type": "code",
      "metadata": {
        "id": "LgSRHh72rUvo",
        "colab_type": "code",
        "colab": {}
      },
      "source": [
        ""
      ],
      "execution_count": 0,
      "outputs": []
    },
    {
      "cell_type": "code",
      "metadata": {
        "id": "k039c2FR3Awc",
        "colab_type": "code",
        "colab": {}
      },
      "source": [
        "pd.set_option(\"display.max_rows\", 500)\n",
        "df.speed[df.speed.notna()].astype(int).value_counts().head(25)"
      ],
      "execution_count": 0,
      "outputs": []
    },
    {
      "cell_type": "code",
      "metadata": {
        "id": "3kc3n4Uf3gEa",
        "colab_type": "code",
        "colab": {}
      },
      "source": [
        "import matplotlib.pyplot as plt\n",
        "plt.figure(figsize = (16,12))\n",
        "df.speed[(df.speed.notna()) & (df.speed > 70)].hist(bins = 50, grid = False)"
      ],
      "execution_count": 0,
      "outputs": []
    },
    {
      "cell_type": "code",
      "metadata": {
        "id": "RuS-67hiak81",
        "colab_type": "code",
        "colab": {}
      },
      "source": [
        "df2 = df.resample(\"M\").agg({\"speed\": np.mean, \"flow\": np.sum})"
      ],
      "execution_count": 0,
      "outputs": []
    },
    {
      "cell_type": "code",
      "metadata": {
        "id": "YE09jmCA3gJY",
        "colab_type": "code",
        "colab": {}
      },
      "source": [
        "plt.figure(figsize=(20,10))\n",
        "plt.scatter(df.index, df.speed)"
      ],
      "execution_count": 0,
      "outputs": []
    },
    {
      "cell_type": "code",
      "metadata": {
        "id": "zqXENTVKpeLN",
        "colab_type": "code",
        "colab": {}
      },
      "source": [
        "def missing_per_month(df):\n",
        "    df[\"null\"] = np.where(df.speed.isna(), 1, np.nan)\n",
        "    df[\"timestamp\"] = df.index\n",
        "    df.groupby(pd.Grouper(key=\"timestamp\", freq=\"M\"))[\"null\"].sum()\n",
        "missing_per_month(df)"
      ],
      "execution_count": 0,
      "outputs": []
    },
    {
      "cell_type": "code",
      "metadata": {
        "id": "5vVgA8CjpePf",
        "colab_type": "code",
        "colab": {}
      },
      "source": [
        "fig, ax = plt.subplots(figsize = (40,30))\n",
        "df[['null']].plot(ax = ax, alpha = 0.5)"
      ],
      "execution_count": 0,
      "outputs": []
    },
    {
      "cell_type": "code",
      "metadata": {
        "id": "zI5e2U0ApeTH",
        "colab_type": "code",
        "colab": {}
      },
      "source": [
        ""
      ],
      "execution_count": 0,
      "outputs": []
    },
    {
      "cell_type": "code",
      "metadata": {
        "id": "Q55rUBf8PIRQ",
        "colab_type": "code",
        "colab": {}
      },
      "source": [
        ""
      ],
      "execution_count": 0,
      "outputs": []
    },
    {
      "cell_type": "code",
      "metadata": {
        "id": "uro0DTu_PIWY",
        "colab_type": "code",
        "colab": {}
      },
      "source": [
        ""
      ],
      "execution_count": 0,
      "outputs": []
    },
    {
      "cell_type": "code",
      "metadata": {
        "id": "1dp1Nyh-PIba",
        "colab_type": "code",
        "colab": {}
      },
      "source": [
        ""
      ],
      "execution_count": 0,
      "outputs": []
    },
    {
      "cell_type": "code",
      "metadata": {
        "id": "CAuWxxbPPIfz",
        "colab_type": "code",
        "colab": {}
      },
      "source": [
        ""
      ],
      "execution_count": 0,
      "outputs": []
    }
  ]
}