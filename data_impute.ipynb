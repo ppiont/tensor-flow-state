{
  "nbformat": 4,
  "nbformat_minor": 0,
  "metadata": {
    "colab": {
      "name": "data_impute.ipynb",
      "provenance": [],
      "include_colab_link": true
    },
    "kernelspec": {
      "name": "python3",
      "display_name": "Python 3"
    },
    "accelerator": "GPU"
  },
  "cells": [
    {
      "cell_type": "markdown",
      "metadata": {
        "id": "view-in-github",
        "colab_type": "text"
      },
      "source": [
        "<a href=\"https://colab.research.google.com/github/ppiont/tensor-flow-state/blob/master/data_impute.ipynb\" target=\"_parent\"><img src=\"https://colab.research.google.com/assets/colab-badge.svg\" alt=\"Open In Colab\"/></a>"
      ]
    },
    {
      "cell_type": "code",
      "metadata": {
        "id": "eomD9SWSjdai",
        "colab_type": "code",
        "outputId": "38ad3a3c-f6f1-4d85-df27-822739d09a22",
        "colab": {
          "base_uri": "https://localhost:8080/",
          "height": 122
        }
      },
      "source": [
        "from google.colab import drive\n",
        "drive.mount(\"/gdrive\", force_remount = True)"
      ],
      "execution_count": 2,
      "outputs": [
        {
          "output_type": "stream",
          "text": [
            "Go to this URL in a browser: https://accounts.google.com/o/oauth2/auth?client_id=947318989803-6bn6qk8qdgf4n4g3pfee6491hc0brc4i.apps.googleusercontent.com&redirect_uri=urn%3aietf%3awg%3aoauth%3a2.0%3aoob&response_type=code&scope=email%20https%3a%2f%2fwww.googleapis.com%2fauth%2fdocs.test%20https%3a%2f%2fwww.googleapis.com%2fauth%2fdrive%20https%3a%2f%2fwww.googleapis.com%2fauth%2fdrive.photos.readonly%20https%3a%2f%2fwww.googleapis.com%2fauth%2fpeopleapi.readonly\n",
            "\n",
            "Enter your authorization code:\n",
            "··········\n",
            "Mounted at /gdrive\n"
          ],
          "name": "stdout"
        }
      ]
    },
    {
      "cell_type": "code",
      "metadata": {
        "id": "1E8BlcrnpdWB",
        "colab_type": "code",
        "outputId": "1ad70dd4-bec0-4a28-a2eb-9e2a5b37b163",
        "colab": {
          "base_uri": "https://localhost:8080/",
          "height": 34
        }
      },
      "source": [
        "%cd \"/gdrive/My Drive/tensor-flow-state/tensor-flow-state\""
      ],
      "execution_count": 3,
      "outputs": [
        {
          "output_type": "stream",
          "text": [
            "/gdrive/My Drive/tensor-flow-state/tensor-flow-state\n"
          ],
          "name": "stdout"
        }
      ]
    },
    {
      "cell_type": "code",
      "metadata": {
        "id": "Y4_hNs3U3AdK",
        "colab_type": "code",
        "colab": {}
      },
      "source": [
        "import pandas as pd\n",
        "df = pd.read_csv(\"data/combined_df.csv\", index_col = 0, parse_dates = True)\n"
      ],
      "execution_count": 0,
      "outputs": []
    },
    {
      "cell_type": "code",
      "metadata": {
        "id": "weXbr4Y5mkgC",
        "colab_type": "code",
        "colab": {}
      },
      "source": [
        "df.rename({\"speed_RWS01_MONIBAS_0021hrl0403ra\": \"speed_-2\", \"speed_RWS01_MONIBAS_0021hrl0409ra\": \"speed_-1\",\\\n",
        "           \"speed_RWS01_MONIBAS_0021hrl0420ra\": \"speed_+1\", \"speed_RWS01_MONIBAS_0021hrl0426ra\": \"speed_+2\",\\\n",
        "           \"flow_RWS01_MONIBAS_0021hrl0403ra\": \"flow_-2\", \"flow_RWS01_MONIBAS_0021hrl0409ra\": \"flow_-1\",\\\n",
        "           \"flow_RWS01_MONIBAS_0021hrl0420ra\": \"flow_+1\", \"flow_RWS01_MONIBAS_0021hrl0426ra\": \"flow_+2\"\\\n",
        "           }, axis = 1, inplace = True)\n",
        "cols = [\"speed\", \"flow\", \"speed_-2\", \"speed_-1\",\"speed_+1\", \"speed_+2\", \"flow_-2\", \"flow_-1\", \"flow_+1\", \"flow_+2\", \"speed_limit\"]\n",
        "speed_cols = [\"speed\", \"speed_-2\", \"speed_-1\",\"speed_+1\", \"speed_+2\"]\n",
        "flow_cols = [\"flow\", \"flow_-2\", \"flow_-1\", \"flow_+1\", \"flow_+2\"]\n",
        "df = df[cols]"
      ],
      "execution_count": 0,
      "outputs": []
    },
    {
      "cell_type": "code",
      "metadata": {
        "id": "ynclHeFLstGk",
        "colab_type": "code",
        "colab": {}
      },
      "source": [
        "def nans(df, title = \"\"):\n",
        "    records = len(df)\n",
        "    null_records = len(df.loc[df.isnull().any(axis=1)])\n",
        "    null_ratio = len(df.loc[df.isnull().any(axis=1)]) / len(df)\n",
        "\n",
        "    print(f\"\\\n",
        "    {title}\\n\\\n",
        "    ---------------------------------\\n\\\n",
        "    Number of records:      {records:,}\\n\\\n",
        "    Number of null records:   {null_records:,}\\n\\\n",
        "    ---------------------------------\\n\\\n",
        "    Null ratio:                 {null_ratio:.3f}\\\n",
        "    \")"
      ],
      "execution_count": 0,
      "outputs": []
    },
    {
      "cell_type": "code",
      "metadata": {
        "id": "dkCT09AVsvCR",
        "colab_type": "code",
        "colab": {
          "base_uri": "https://localhost:8080/",
          "height": 119
        },
        "outputId": "5f62b180-2101-4473-8025-262b573d03e5"
      },
      "source": [
        "nans(df, title = \"Status before imputation\")"
      ],
      "execution_count": 28,
      "outputs": [
        {
          "output_type": "stream",
          "text": [
            "    Status before imputation\n",
            "    ---------------------------------\n",
            "    Number of records:      4,727,520\n",
            "    Number of null records:   448,433\n",
            "    ---------------------------------\n",
            "    Null ratio:                 0.095    \n"
          ],
          "name": "stdout"
        }
      ]
    },
    {
      "cell_type": "code",
      "metadata": {
        "id": "GYZ5SBhLwtr8",
        "colab_type": "code",
        "colab": {}
      },
      "source": [
        "def fill_na_row_mean(df):\n",
        "    row_avgs = df.mean(axis=1).values.reshape(-1,1)\n",
        "    df = df.fillna(0) + df.isna().values * row_avgs\n",
        "    return df"
      ],
      "execution_count": 0,
      "outputs": []
    },
    {
      "cell_type": "code",
      "metadata": {
        "id": "-0SSv5csTH1S",
        "colab_type": "code",
        "colab": {}
      },
      "source": [
        "speed_df = df[speed_cols]\n",
        "flow_df = df[flow_cols]"
      ],
      "execution_count": 0,
      "outputs": []
    },
    {
      "cell_type": "code",
      "metadata": {
        "id": "69ijueCAWMVY",
        "colab_type": "code",
        "colab": {}
      },
      "source": [
        "speed_df = fill_na_row_mean(speed_df)\n",
        "flow_df = fill_na_row_mean(flow_df)"
      ],
      "execution_count": 0,
      "outputs": []
    },
    {
      "cell_type": "code",
      "metadata": {
        "id": "qKtfAKDXtDo8",
        "colab_type": "code",
        "colab": {
          "base_uri": "https://localhost:8080/",
          "height": 255
        },
        "outputId": "7078ffbc-ebf2-48c5-c972-ab4d48fcdb93"
      },
      "source": [
        "nans(speed_df, title = \"Status for speed after row meaning nans\")\n",
        "print(\"\\n\")\n",
        "nans(flow_df, title = \"Status for flow after row meaning nans\")"
      ],
      "execution_count": 38,
      "outputs": [
        {
          "output_type": "stream",
          "text": [
            "    Status for speed after row meaning nans\n",
            "    ---------------------------------\n",
            "    Number of records:      4,727,520\n",
            "    Number of null records:   288,548\n",
            "    ---------------------------------\n",
            "    Null ratio:                 0.061    \n",
            "\n",
            "\n",
            "    Status for flow after row meaning nans\n",
            "    ---------------------------------\n",
            "    Number of records:      4,727,520\n",
            "    Number of null records:   285,040\n",
            "    ---------------------------------\n",
            "    Null ratio:                 0.060    \n"
          ],
          "name": "stdout"
        }
      ]
    },
    {
      "cell_type": "code",
      "metadata": {
        "id": "rnQAxiqXtDs6",
        "colab_type": "code",
        "colab": {}
      },
      "source": [
        ""
      ],
      "execution_count": 0,
      "outputs": []
    },
    {
      "cell_type": "code",
      "metadata": {
        "id": "c_4MQnMOWMZ4",
        "colab_type": "code",
        "colab": {}
      },
      "source": [
        "df3 = df2.T.fillna(df2.mean(axis=1)).T"
      ],
      "execution_count": 0,
      "outputs": []
    },
    {
      "cell_type": "code",
      "metadata": {
        "id": "vXEmkoLVTH6j",
        "colab_type": "code",
        "colab": {}
      },
      "source": [
        "import matplotlib.pyplot as plt\n",
        "fig, ax = plt.subplots(figsize = (30,15))\n",
        "df2[:100000].plot(ax = ax)"
      ],
      "execution_count": 0,
      "outputs": []
    },
    {
      "cell_type": "code",
      "metadata": {
        "id": "pYz98hpOTH_W",
        "colab_type": "code",
        "colab": {}
      },
      "source": [
        "pd.options.display.max_rows = 1000\n",
        "df3[:1000]"
      ],
      "execution_count": 0,
      "outputs": []
    },
    {
      "cell_type": "code",
      "metadata": {
        "id": "5dHR-uO2TIDm",
        "colab_type": "code",
        "colab": {}
      },
      "source": [
        ""
      ],
      "execution_count": 0,
      "outputs": []
    },
    {
      "cell_type": "code",
      "metadata": {
        "id": "GshbzoVVoOgB",
        "colab_type": "code",
        "outputId": "e50cd5a1-3f1b-48c0-b3ee-a24654f184ff",
        "colab": {
          "base_uri": "https://localhost:8080/",
          "height": 34
        }
      },
      "source": [
        "l = df.columns.tolist()\n",
        "print(l)"
      ],
      "execution_count": 5,
      "outputs": [
        {
          "output_type": "stream",
          "text": [
            "['speed', 'flow', 'speed_-2', 'speed_-1', 'speed_+1', 'speed_+2', 'flow_-2', 'flow_-1', 'flow_+1', 'flow_+2', 'speed_limit']\n"
          ],
          "name": "stdout"
        }
      ]
    },
    {
      "cell_type": "code",
      "metadata": {
        "id": "5Z-L2EXKlarn",
        "colab_type": "code",
        "colab": {
          "base_uri": "https://localhost:8080/",
          "height": 153
        },
        "outputId": "fe66f74e-6f0e-4ab0-da70-d7f76c03a2eb"
      },
      "source": [
        "import numpy as np\n",
        "test = df.resample(\"W\").agg({\"speed\": np.mean, \"speed_-2\": np.mean, \"speed_-1\": np.mean, \"speed_+1\": np.mean, \"speed_+2\": np.mean,\n",
        "                             \"flow\": np.sum, \"flow_-2\": np.sum, \"flow_-1\": np.sum, \"flow_+1\": np.sum, \"flow_+2\": np.sum})"
      ],
      "execution_count": 15,
      "outputs": [
        {
          "output_type": "stream",
          "text": [
            "/usr/local/lib/python3.6/dist-packages/ipykernel_launcher.py:3: FutureWarning: using a dict with renaming is deprecated and will be removed\n",
            "in a future version.\n",
            "\n",
            "For column-specific groupby renaming, use named aggregation\n",
            "\n",
            "    >>> df.groupby(...).agg(name=('column', aggfunc))\n",
            "\n",
            "  This is separate from the ipykernel package so we can avoid doing imports until\n"
          ],
          "name": "stderr"
        }
      ]
    },
    {
      "cell_type": "code",
      "metadata": {
        "id": "I5c6oW0yRBd-",
        "colab_type": "code",
        "colab": {}
      },
      "source": [
        "test2 = df2.resample(\"W\").agg({\"speed\": np.mean, \"speed_-2\": np.mean, \"speed_-1\": np.mean, \"speed_+1\": np.mean, \"speed_+2\": np.mean})"
      ],
      "execution_count": 0,
      "outputs": []
    },
    {
      "cell_type": "code",
      "metadata": {
        "id": "fYlIDh0GRBkm",
        "colab_type": "code",
        "colab": {}
      },
      "source": [
        "test2"
      ],
      "execution_count": 0,
      "outputs": []
    },
    {
      "cell_type": "code",
      "metadata": {
        "id": "hjlVku3LRBp2",
        "colab_type": "code",
        "colab": {}
      },
      "source": [
        ""
      ],
      "execution_count": 0,
      "outputs": []
    },
    {
      "cell_type": "code",
      "metadata": {
        "id": "Nwk9F8TJlsnb",
        "colab_type": "code",
        "colab": {}
      },
      "source": [
        "pd.options.display.max_rows = 1000\n",
        "pd.options.display.float_format = \"{:.2f}\".format\n",
        "test"
      ],
      "execution_count": 0,
      "outputs": []
    },
    {
      "cell_type": "code",
      "metadata": {
        "id": "rfRH23UXtwV5",
        "colab_type": "code",
        "colab": {}
      },
      "source": [
        "df.head(500)"
      ],
      "execution_count": 0,
      "outputs": []
    },
    {
      "cell_type": "code",
      "metadata": {
        "id": "DJAEifg6lM5r",
        "colab_type": "code",
        "colab": {}
      },
      "source": [
        "df.loc[df.isnull().any(axis=1)]"
      ],
      "execution_count": 0,
      "outputs": []
    },
    {
      "cell_type": "code",
      "metadata": {
        "colab_type": "code",
        "outputId": "cd3855ef-c89b-4c1c-86fc-82253ab52245",
        "id": "LW85OFZ8rS9k",
        "colab": {
          "base_uri": "https://localhost:8080/",
          "height": 85
        }
      },
      "source": [
        ""
      ],
      "execution_count": 14,
      "outputs": [
        {
          "output_type": "stream",
          "text": [
            "    Number of records:      4,727,520\n",
            "    Number of null records:   288,548\n",
            "    ---------------------------------\n",
            "    Null ratio:                 0.061    \n"
          ],
          "name": "stdout"
        }
      ]
    },
    {
      "cell_type": "code",
      "metadata": {
        "id": "JJGiELdylBAP",
        "colab_type": "code",
        "colab": {}
      },
      "source": [
        ""
      ],
      "execution_count": 0,
      "outputs": []
    },
    {
      "cell_type": "code",
      "metadata": {
        "id": "Mw05H-6GTsOO",
        "colab_type": "code",
        "colab": {}
      },
      "source": [
        "import numpy as np\n",
        "temp = pd.DataFrame()\n",
        "df = df.assign(reference_speed = df.speed.interpolate(method = \"time\"))\n",
        "df = df.assign(missing = np.nan)\n",
        "df.missing[df.isnull().any(axis=1)] = df.reference_speed"
      ],
      "execution_count": 0,
      "outputs": []
    },
    {
      "cell_type": "code",
      "metadata": {
        "id": "D0125c8RU2s_",
        "colab_type": "code",
        "outputId": "f9fc0fd6-ca39-48da-845d-db2b831cc99a",
        "colab": {
          "base_uri": "https://localhost:8080/",
          "height": 394
        }
      },
      "source": [
        ""
      ],
      "execution_count": 0,
      "outputs": [
        {
          "output_type": "execute_result",
          "data": {
            "text/html": [
              "<div>\n",
              "<style scoped>\n",
              "    .dataframe tbody tr th:only-of-type {\n",
              "        vertical-align: middle;\n",
              "    }\n",
              "\n",
              "    .dataframe tbody tr th {\n",
              "        vertical-align: top;\n",
              "    }\n",
              "\n",
              "    .dataframe thead th {\n",
              "        text-align: right;\n",
              "    }\n",
              "</style>\n",
              "<table border=\"1\" class=\"dataframe\">\n",
              "  <thead>\n",
              "    <tr style=\"text-align: right;\">\n",
              "      <th></th>\n",
              "      <th>speed</th>\n",
              "      <th>flow</th>\n",
              "      <th>speed_RWS01_MONIBAS_0021hrl0403ra</th>\n",
              "      <th>flow_RWS01_MONIBAS_0021hrl0403ra</th>\n",
              "      <th>speed_RWS01_MONIBAS_0021hrl0409ra</th>\n",
              "      <th>flow_RWS01_MONIBAS_0021hrl0409ra</th>\n",
              "      <th>speed_RWS01_MONIBAS_0021hrl0420ra</th>\n",
              "      <th>flow_RWS01_MONIBAS_0021hrl0420ra</th>\n",
              "      <th>speed_RWS01_MONIBAS_0021hrl0426ra</th>\n",
              "      <th>flow_RWS01_MONIBAS_0021hrl0426ra</th>\n",
              "      <th>speed_limit</th>\n",
              "      <th>reference_speed</th>\n",
              "      <th>missing</th>\n",
              "    </tr>\n",
              "  </thead>\n",
              "  <tbody>\n",
              "    <tr>\n",
              "      <th>2011-01-03 00:00:00</th>\n",
              "      <td>120.000000</td>\n",
              "      <td>8.0</td>\n",
              "      <td>100.000000</td>\n",
              "      <td>8.0</td>\n",
              "      <td>120.000000</td>\n",
              "      <td>6.0</td>\n",
              "      <td>118.5</td>\n",
              "      <td>4.0</td>\n",
              "      <td>120.000000</td>\n",
              "      <td>6.0</td>\n",
              "      <td>120.0</td>\n",
              "      <td>120.000000</td>\n",
              "      <td>120.000000</td>\n",
              "    </tr>\n",
              "    <tr>\n",
              "      <th>2011-01-03 00:01:00</th>\n",
              "      <td>120.000000</td>\n",
              "      <td>5.0</td>\n",
              "      <td>115.000000</td>\n",
              "      <td>18.0</td>\n",
              "      <td>120.000000</td>\n",
              "      <td>6.0</td>\n",
              "      <td>118.0</td>\n",
              "      <td>5.0</td>\n",
              "      <td>104.000000</td>\n",
              "      <td>2.0</td>\n",
              "      <td>120.0</td>\n",
              "      <td>120.000000</td>\n",
              "      <td>120.000000</td>\n",
              "    </tr>\n",
              "    <tr>\n",
              "      <th>2011-01-03 00:02:00</th>\n",
              "      <td>111.000000</td>\n",
              "      <td>2.0</td>\n",
              "      <td>112.666667</td>\n",
              "      <td>14.0</td>\n",
              "      <td>104.000000</td>\n",
              "      <td>2.0</td>\n",
              "      <td>91.0</td>\n",
              "      <td>4.0</td>\n",
              "      <td>112.666667</td>\n",
              "      <td>8.0</td>\n",
              "      <td>120.0</td>\n",
              "      <td>111.000000</td>\n",
              "      <td>111.000000</td>\n",
              "    </tr>\n",
              "    <tr>\n",
              "      <th>2011-01-03 00:03:00</th>\n",
              "      <td>105.333333</td>\n",
              "      <td>10.0</td>\n",
              "      <td>118.000000</td>\n",
              "      <td>14.0</td>\n",
              "      <td>108.666667</td>\n",
              "      <td>6.0</td>\n",
              "      <td>120.0</td>\n",
              "      <td>9.0</td>\n",
              "      <td>120.000000</td>\n",
              "      <td>10.0</td>\n",
              "      <td>120.0</td>\n",
              "      <td>105.333333</td>\n",
              "      <td>105.333333</td>\n",
              "    </tr>\n",
              "    <tr>\n",
              "      <th>2011-01-03 00:04:00</th>\n",
              "      <td>120.000000</td>\n",
              "      <td>8.0</td>\n",
              "      <td>105.500000</td>\n",
              "      <td>21.0</td>\n",
              "      <td>120.000000</td>\n",
              "      <td>13.0</td>\n",
              "      <td>120.0</td>\n",
              "      <td>7.0</td>\n",
              "      <td>117.500000</td>\n",
              "      <td>5.0</td>\n",
              "      <td>120.0</td>\n",
              "      <td>120.000000</td>\n",
              "      <td>120.000000</td>\n",
              "    </tr>\n",
              "  </tbody>\n",
              "</table>\n",
              "</div>"
            ],
            "text/plain": [
              "                          speed  flow  ...  reference_speed     missing\n",
              "2011-01-03 00:00:00  120.000000   8.0  ...       120.000000  120.000000\n",
              "2011-01-03 00:01:00  120.000000   5.0  ...       120.000000  120.000000\n",
              "2011-01-03 00:02:00  111.000000   2.0  ...       111.000000  111.000000\n",
              "2011-01-03 00:03:00  105.333333  10.0  ...       105.333333  105.333333\n",
              "2011-01-03 00:04:00  120.000000   8.0  ...       120.000000  120.000000\n",
              "\n",
              "[5 rows x 13 columns]"
            ]
          },
          "metadata": {
            "tags": []
          },
          "execution_count": 16
        }
      ]
    },
    {
      "cell_type": "code",
      "metadata": {
        "id": "V5kD9XUHrUen",
        "colab_type": "code",
        "colab": {}
      },
      "source": [
        "# Fill in the null vals for reference\n",
        "df = df.assign(reference_speed = dfspeed.interpolate(method = \"time\"))\n",
        "# Add a col with interpolated values in the missing values position (the rest null) for plotting\n",
        "df = dfassign(missing = np.nan)\n",
        "dfmissing[df.isnull().any(axis=1) = august.reference_speed\n",
        "\n",
        "# Plot it (red are missing)\n",
        "august[[\"speed\", \"missing\"]].plot(style = [\"b.\", \"rx\"], figsize = (16, 9), alpha = 0.6, title = \"August\")\n",
        "sns.despine()\n",
        "plt.tight_layout()\n",
        "plt.savefig(plotdir + \"August.png\")\n",
        "\n",
        "\n",
        "# Luckily they are not all clumped, so the interpolation should be smooth\n",
        "\n",
        "# Now drop unnecessary speed col\n",
        "august.drop(\"speed\", axis = 1, inplace = True)\n",
        "\n",
        "# There are no null vals left since we already interpolated reference_speed.\n",
        "august[\"reference_speed\"].isnull().any()\n",
        "\n",
        "# Randomly null out 10% of the values in a new col target_speed that we want to test interpolation methods on\n",
        "august[\"target_speed\"] = august[\"reference_speed\"].mask(np.random.choice([True, False], size=august[\"reference_speed\"].shape, p = [.1,.9]))\n",
        "\n",
        "# We now have thousands of null vals\n",
        "august[\"target_speed\"].isna().sum()\n",
        "\n",
        "# Make a new column with only the reference values that aren\"t in the target col, like earlier but with the larger\n",
        "# set of randomly removed values\n",
        "august = august.assign(missing = np.nan)\n",
        "august.missing[august.target_speed.isna()] = august.reference_speed\n",
        "august.info()\n",
        "\n",
        "# Plot it (red are missing)\n",
        "august[[\"target_speed\", \"missing\"]].plot(style=[\"b.\", \"rx\"], figsize=(16, 9), alpha = 0.6, title = \"August /w 10% data removed\")"
      ],
      "execution_count": 0,
      "outputs": []
    },
    {
      "cell_type": "code",
      "metadata": {
        "id": "ymkplC9KrUke",
        "colab_type": "code",
        "colab": {}
      },
      "source": [
        ""
      ],
      "execution_count": 0,
      "outputs": []
    },
    {
      "cell_type": "code",
      "metadata": {
        "id": "3t2PM2nFrUqi",
        "colab_type": "code",
        "colab": {}
      },
      "source": [
        ""
      ],
      "execution_count": 0,
      "outputs": []
    },
    {
      "cell_type": "code",
      "metadata": {
        "id": "LgSRHh72rUvo",
        "colab_type": "code",
        "colab": {}
      },
      "source": [
        ""
      ],
      "execution_count": 0,
      "outputs": []
    },
    {
      "cell_type": "code",
      "metadata": {
        "id": "k039c2FR3Awc",
        "colab_type": "code",
        "colab": {}
      },
      "source": [
        "pd.set_option(\"display.max_rows\", 500)\n",
        "df.speed[df.speed.notna()].astype(int).value_counts().head(25)"
      ],
      "execution_count": 0,
      "outputs": []
    },
    {
      "cell_type": "code",
      "metadata": {
        "id": "3kc3n4Uf3gEa",
        "colab_type": "code",
        "colab": {}
      },
      "source": [
        "import matplotlib.pyplot as plt\n",
        "plt.figure(figsize = (16,12))\n",
        "df.speed[(df.speed.notna()) & (df.speed > 70)].hist(bins = 50, grid = False)"
      ],
      "execution_count": 0,
      "outputs": []
    },
    {
      "cell_type": "code",
      "metadata": {
        "id": "RuS-67hiak81",
        "colab_type": "code",
        "colab": {}
      },
      "source": [
        "df2 = df.resample(\"M\").agg({\"speed\": np.mean, \"flow\": np.sum})"
      ],
      "execution_count": 0,
      "outputs": []
    },
    {
      "cell_type": "code",
      "metadata": {
        "id": "YE09jmCA3gJY",
        "colab_type": "code",
        "colab": {}
      },
      "source": [
        "plt.figure(figsize=(20,10))\n",
        "plt.scatter(df.index, df.speed)"
      ],
      "execution_count": 0,
      "outputs": []
    },
    {
      "cell_type": "code",
      "metadata": {
        "id": "zqXENTVKpeLN",
        "colab_type": "code",
        "outputId": "94bd7b2c-8f7e-4ce0-b8b2-94314b77e152",
        "colab": {
          "base_uri": "https://localhost:8080/",
          "height": 1000
        }
      },
      "source": [
        "df[\"null\"] = np.where(df.speed.isna(), 1, np.nan)\n",
        "df[\"timestamp\"] = df.index\n",
        "df.groupby(pd.Grouper(key=\"timestamp\", freq=\"M\"))[\"null\"].sum()"
      ],
      "execution_count": 0,
      "outputs": [
        {
          "output_type": "execute_result",
          "data": {
            "text/plain": [
              "timestamp\n",
              "2011-01-31      69.00\n",
              "2011-02-28     150.00\n",
              "2011-03-31     812.00\n",
              "2011-04-30     336.00\n",
              "2011-05-31     394.00\n",
              "2011-06-30     195.00\n",
              "2011-07-31    1762.00\n",
              "2011-08-31    6077.00\n",
              "2011-09-30     212.00\n",
              "2011-10-31    1937.00\n",
              "2011-11-30     165.00\n",
              "2011-12-31     249.00\n",
              "2012-01-31    1568.00\n",
              "2012-02-29     680.00\n",
              "2012-03-31    2018.00\n",
              "2012-04-30    2365.00\n",
              "2012-05-31     121.00\n",
              "2012-06-30     722.00\n",
              "2012-07-31   14973.00\n",
              "2012-08-31     819.00\n",
              "2012-09-30     146.00\n",
              "2012-10-31    9376.00\n",
              "2012-11-30      15.00\n",
              "2012-12-31      44.00\n",
              "2013-01-31    2973.00\n",
              "2013-02-28    1267.00\n",
              "2013-03-31    1873.00\n",
              "2013-04-30    1036.00\n",
              "2013-05-31    2219.00\n",
              "2013-06-30    2184.00\n",
              "2013-07-31    1265.00\n",
              "2013-08-31    1378.00\n",
              "2013-09-30    2254.00\n",
              "2013-10-31    3050.00\n",
              "2013-11-30    4116.00\n",
              "2013-12-31    3663.00\n",
              "2014-01-31    4774.00\n",
              "2014-02-28    3897.00\n",
              "2014-03-31    2245.00\n",
              "2014-04-30    1537.00\n",
              "2014-05-31   44282.00\n",
              "2014-06-30   39657.00\n",
              "2014-07-31   44357.00\n",
              "2014-08-31   43324.00\n",
              "2014-09-30     394.00\n",
              "2014-10-31     472.00\n",
              "2014-11-30     596.00\n",
              "2014-12-31     191.00\n",
              "2015-01-31      92.00\n",
              "2015-02-28     135.00\n",
              "2015-03-31     143.00\n",
              "2015-04-30     212.00\n",
              "2015-05-31     279.00\n",
              "2015-06-30     828.00\n",
              "2015-07-31     189.00\n",
              "2015-08-31      81.00\n",
              "2015-09-30     464.00\n",
              "2015-10-31    1103.00\n",
              "2015-11-30     736.00\n",
              "2015-12-31     222.00\n",
              "2016-01-31      37.00\n",
              "2016-02-29     330.00\n",
              "2016-03-31     198.00\n",
              "2016-04-30      51.00\n",
              "2016-05-31     350.00\n",
              "2016-06-30     611.00\n",
              "2016-07-31     133.00\n",
              "2016-08-31    1073.00\n",
              "2016-09-30    1050.00\n",
              "2016-10-31     518.00\n",
              "2016-11-30     114.00\n",
              "2016-12-31    1862.00\n",
              "2017-01-31      11.00\n",
              "2017-02-28     274.00\n",
              "2017-03-31     702.00\n",
              "2017-04-30     733.00\n",
              "2017-05-31    2920.00\n",
              "2017-06-30     296.00\n",
              "2017-07-31     771.00\n",
              "2017-08-31     897.00\n",
              "2017-09-30    1912.00\n",
              "2017-10-31     840.00\n",
              "2017-11-30     172.00\n",
              "2017-12-31     575.00\n",
              "2018-01-31      35.00\n",
              "2018-02-28      13.00\n",
              "2018-03-31     115.00\n",
              "2018-04-30     610.00\n",
              "2018-05-31     851.00\n",
              "2018-06-30     110.00\n",
              "2018-07-31     602.00\n",
              "2018-08-31     116.00\n",
              "2018-09-30      72.00\n",
              "2018-10-31     177.00\n",
              "2018-11-30     105.00\n",
              "2018-12-31     798.00\n",
              "2019-01-31     163.00\n",
              "2019-02-28       9.00\n",
              "2019-03-31      86.00\n",
              "2019-04-30      29.00\n",
              "2019-05-31      34.00\n",
              "2019-06-30     100.00\n",
              "2019-07-31     111.00\n",
              "2019-08-31   10174.00\n",
              "2019-09-30    1212.00\n",
              "2019-10-31     230.00\n",
              "2019-11-30    5451.00\n",
              "2019-12-31     473.00\n",
              "Freq: M, Name: null, dtype: float64"
            ]
          },
          "metadata": {
            "tags": []
          },
          "execution_count": 50
        }
      ]
    },
    {
      "cell_type": "code",
      "metadata": {
        "id": "5vVgA8CjpePf",
        "colab_type": "code",
        "colab": {}
      },
      "source": [
        ""
      ],
      "execution_count": 0,
      "outputs": []
    },
    {
      "cell_type": "code",
      "metadata": {
        "id": "zI5e2U0ApeTH",
        "colab_type": "code",
        "colab": {}
      },
      "source": [
        ""
      ],
      "execution_count": 0,
      "outputs": []
    },
    {
      "cell_type": "code",
      "metadata": {
        "id": "Q55rUBf8PIRQ",
        "colab_type": "code",
        "colab": {}
      },
      "source": [
        ""
      ],
      "execution_count": 0,
      "outputs": []
    },
    {
      "cell_type": "code",
      "metadata": {
        "id": "uro0DTu_PIWY",
        "colab_type": "code",
        "colab": {}
      },
      "source": [
        ""
      ],
      "execution_count": 0,
      "outputs": []
    },
    {
      "cell_type": "code",
      "metadata": {
        "id": "1dp1Nyh-PIba",
        "colab_type": "code",
        "colab": {}
      },
      "source": [
        ""
      ],
      "execution_count": 0,
      "outputs": []
    },
    {
      "cell_type": "code",
      "metadata": {
        "id": "CAuWxxbPPIfz",
        "colab_type": "code",
        "colab": {}
      },
      "source": [
        ""
      ],
      "execution_count": 0,
      "outputs": []
    }
  ]
}