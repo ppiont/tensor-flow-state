{
  "nbformat": 4,
  "nbformat_minor": 0,
  "metadata": {
    "colab": {
      "name": "data_impute.ipynb",
      "provenance": [],
      "include_colab_link": true
    },
    "kernelspec": {
      "name": "python3",
      "display_name": "Python 3"
    },
    "accelerator": "GPU"
  },
  "cells": [
    {
      "cell_type": "markdown",
      "metadata": {
        "id": "view-in-github",
        "colab_type": "text"
      },
      "source": [
        "<a href=\"https://colab.research.google.com/github/ppiont/tensor-flow-state/blob/master/data_impute.ipynb\" target=\"_parent\"><img src=\"https://colab.research.google.com/assets/colab-badge.svg\" alt=\"Open In Colab\"/></a>"
      ]
    },
    {
      "cell_type": "code",
      "metadata": {
        "id": "eomD9SWSjdai",
        "colab_type": "code",
        "outputId": "33eba6fd-012c-49c1-f4a6-c5f6f7651059",
        "colab": {
          "base_uri": "https://localhost:8080/",
          "height": 122
        }
      },
      "source": [
        "from google.colab import drive\n",
        "drive.mount('/gdrive', force_remount = True)"
      ],
      "execution_count": 1,
      "outputs": [
        {
          "output_type": "stream",
          "text": [
            "Go to this URL in a browser: https://accounts.google.com/o/oauth2/auth?client_id=947318989803-6bn6qk8qdgf4n4g3pfee6491hc0brc4i.apps.googleusercontent.com&redirect_uri=urn%3aietf%3awg%3aoauth%3a2.0%3aoob&response_type=code&scope=email%20https%3a%2f%2fwww.googleapis.com%2fauth%2fdocs.test%20https%3a%2f%2fwww.googleapis.com%2fauth%2fdrive%20https%3a%2f%2fwww.googleapis.com%2fauth%2fdrive.photos.readonly%20https%3a%2f%2fwww.googleapis.com%2fauth%2fpeopleapi.readonly\n",
            "\n",
            "Enter your authorization code:\n",
            "··········\n",
            "Mounted at /gdrive\n"
          ],
          "name": "stdout"
        }
      ]
    },
    {
      "cell_type": "code",
      "metadata": {
        "id": "1E8BlcrnpdWB",
        "colab_type": "code",
        "outputId": "da3f6755-0965-4f41-9d1e-27036e31b4eb",
        "colab": {
          "base_uri": "https://localhost:8080/",
          "height": 34
        }
      },
      "source": [
        "%cd '/gdrive/My Drive/tensor-flow-state/tensor-flow-state'"
      ],
      "execution_count": 2,
      "outputs": [
        {
          "output_type": "stream",
          "text": [
            "/gdrive/My Drive/tensor-flow-state/tensor-flow-state\n"
          ],
          "name": "stdout"
        }
      ]
    },
    {
      "cell_type": "code",
      "metadata": {
        "id": "ZCfAr5depds_",
        "colab_type": "code",
        "colab": {}
      },
      "source": [
        "sensor_list = ['RWS01_MONIBAS_0021hrl0403ra.csv', 'RWS01_MONIBAS_0021hrl0409ra.csv', 'RWS01_MONIBAS_0021hrl0414ra.csv', 'RWS01_MONIBAS_0021hrl0420ra.csv', 'RWS01_MONIBAS_0021hrl0426ra.csv']"
      ],
      "execution_count": 0,
      "outputs": []
    },
    {
      "cell_type": "code",
      "metadata": {
        "id": "Cwgz1YPypd10",
        "colab_type": "code",
        "colab": {}
      },
      "source": [
        "import pandas as pd\n",
        "pd.options.display.float_format = '{:.2f}'.format\n",
        "import numpy as np"
      ],
      "execution_count": 0,
      "outputs": []
    },
    {
      "cell_type": "code",
      "metadata": {
        "id": "2OsFZGlApd8b",
        "colab_type": "code",
        "colab": {}
      },
      "source": [
        "df = pd.read_csv('data/RWS01_MONIBAS_0021hrl0403ra.csv', index_col = 0, parse_dates = True)"
      ],
      "execution_count": 0,
      "outputs": []
    },
    {
      "cell_type": "code",
      "metadata": {
        "id": "YBgviB0Z3fsE",
        "colab_type": "code",
        "colab": {
          "base_uri": "https://localhost:8080/",
          "height": 204
        },
        "outputId": "793d787f-8848-42fb-8cfd-15c345857d3f"
      },
      "source": [
        "df.head()"
      ],
      "execution_count": 6,
      "outputs": [
        {
          "output_type": "execute_result",
          "data": {
            "text/html": [
              "<div>\n",
              "<style scoped>\n",
              "    .dataframe tbody tr th:only-of-type {\n",
              "        vertical-align: middle;\n",
              "    }\n",
              "\n",
              "    .dataframe tbody tr th {\n",
              "        vertical-align: top;\n",
              "    }\n",
              "\n",
              "    .dataframe thead th {\n",
              "        text-align: right;\n",
              "    }\n",
              "</style>\n",
              "<table border=\"1\" class=\"dataframe\">\n",
              "  <thead>\n",
              "    <tr style=\"text-align: right;\">\n",
              "      <th></th>\n",
              "      <th>speed</th>\n",
              "      <th>flow</th>\n",
              "    </tr>\n",
              "  </thead>\n",
              "  <tbody>\n",
              "    <tr>\n",
              "      <th>2011-01-03 00:00:00</th>\n",
              "      <td>100.00</td>\n",
              "      <td>8.00</td>\n",
              "    </tr>\n",
              "    <tr>\n",
              "      <th>2011-01-03 00:01:00</th>\n",
              "      <td>115.00</td>\n",
              "      <td>18.00</td>\n",
              "    </tr>\n",
              "    <tr>\n",
              "      <th>2011-01-03 00:02:00</th>\n",
              "      <td>112.67</td>\n",
              "      <td>14.00</td>\n",
              "    </tr>\n",
              "    <tr>\n",
              "      <th>2011-01-03 00:03:00</th>\n",
              "      <td>118.00</td>\n",
              "      <td>14.00</td>\n",
              "    </tr>\n",
              "    <tr>\n",
              "      <th>2011-01-03 00:04:00</th>\n",
              "      <td>105.50</td>\n",
              "      <td>21.00</td>\n",
              "    </tr>\n",
              "  </tbody>\n",
              "</table>\n",
              "</div>"
            ],
            "text/plain": [
              "                     speed  flow\n",
              "2011-01-03 00:00:00 100.00  8.00\n",
              "2011-01-03 00:01:00 115.00 18.00\n",
              "2011-01-03 00:02:00 112.67 14.00\n",
              "2011-01-03 00:03:00 118.00 14.00\n",
              "2011-01-03 00:04:00 105.50 21.00"
            ]
          },
          "metadata": {
            "tags": []
          },
          "execution_count": 6
        }
      ]
    },
    {
      "cell_type": "code",
      "metadata": {
        "id": "bINxw5uzHc-v",
        "colab_type": "code",
        "colab": {
          "base_uri": "https://localhost:8080/",
          "height": 297
        },
        "outputId": "cee4e398-6ec6-4331-f77e-e940ac4f2179"
      },
      "source": [
        "df.describe()"
      ],
      "execution_count": 7,
      "outputs": [
        {
          "output_type": "execute_result",
          "data": {
            "text/html": [
              "<div>\n",
              "<style scoped>\n",
              "    .dataframe tbody tr th:only-of-type {\n",
              "        vertical-align: middle;\n",
              "    }\n",
              "\n",
              "    .dataframe tbody tr th {\n",
              "        vertical-align: top;\n",
              "    }\n",
              "\n",
              "    .dataframe thead th {\n",
              "        text-align: right;\n",
              "    }\n",
              "</style>\n",
              "<table border=\"1\" class=\"dataframe\">\n",
              "  <thead>\n",
              "    <tr style=\"text-align: right;\">\n",
              "      <th></th>\n",
              "      <th>speed</th>\n",
              "      <th>flow</th>\n",
              "    </tr>\n",
              "  </thead>\n",
              "  <tbody>\n",
              "    <tr>\n",
              "      <th>count</th>\n",
              "      <td>4287209.00</td>\n",
              "      <td>4288108.00</td>\n",
              "    </tr>\n",
              "    <tr>\n",
              "      <th>mean</th>\n",
              "      <td>102.82</td>\n",
              "      <td>60.86</td>\n",
              "    </tr>\n",
              "    <tr>\n",
              "      <th>std</th>\n",
              "      <td>17.15</td>\n",
              "      <td>44.92</td>\n",
              "    </tr>\n",
              "    <tr>\n",
              "      <th>min</th>\n",
              "      <td>-99.00</td>\n",
              "      <td>0.00</td>\n",
              "    </tr>\n",
              "    <tr>\n",
              "      <th>25%</th>\n",
              "      <td>98.40</td>\n",
              "      <td>18.00</td>\n",
              "    </tr>\n",
              "    <tr>\n",
              "      <th>50%</th>\n",
              "      <td>101.00</td>\n",
              "      <td>59.00</td>\n",
              "    </tr>\n",
              "    <tr>\n",
              "      <th>75%</th>\n",
              "      <td>111.60</td>\n",
              "      <td>92.00</td>\n",
              "    </tr>\n",
              "    <tr>\n",
              "      <th>max</th>\n",
              "      <td>205.00</td>\n",
              "      <td>269.00</td>\n",
              "    </tr>\n",
              "  </tbody>\n",
              "</table>\n",
              "</div>"
            ],
            "text/plain": [
              "           speed       flow\n",
              "count 4287209.00 4288108.00\n",
              "mean      102.82      60.86\n",
              "std        17.15      44.92\n",
              "min       -99.00       0.00\n",
              "25%        98.40      18.00\n",
              "50%       101.00      59.00\n",
              "75%       111.60      92.00\n",
              "max       205.00     269.00"
            ]
          },
          "metadata": {
            "tags": []
          },
          "execution_count": 7
        }
      ]
    },
    {
      "cell_type": "code",
      "metadata": {
        "id": "9g3TkRqu3f0u",
        "colab_type": "code",
        "colab": {}
      },
      "source": [
        "df['speed_limit'] = np.where((df.index.hour < 19) & (df.index.hour >= 6), 100, 120)"
      ],
      "execution_count": 0,
      "outputs": []
    },
    {
      "cell_type": "code",
      "metadata": {
        "id": "bzffZjsz3f6c",
        "colab_type": "code",
        "colab": {}
      },
      "source": [
        "df.speed.mask(df.speed == -99, df.speed_limit, inplace = True)\n",
        "df.speed.mask(df.speed > df.speed_limit, df.speed_limit, inplace = True)"
      ],
      "execution_count": 0,
      "outputs": []
    },
    {
      "cell_type": "code",
      "metadata": {
        "id": "OA03Rhi93f_W",
        "colab_type": "code",
        "outputId": "db4b9308-2c19-4cf0-b16c-5f4cdac8319e",
        "colab": {
          "base_uri": "https://localhost:8080/",
          "height": 297
        }
      },
      "source": [
        "df.describe()"
      ],
      "execution_count": 12,
      "outputs": [
        {
          "output_type": "execute_result",
          "data": {
            "text/html": [
              "<div>\n",
              "<style scoped>\n",
              "    .dataframe tbody tr th:only-of-type {\n",
              "        vertical-align: middle;\n",
              "    }\n",
              "\n",
              "    .dataframe tbody tr th {\n",
              "        vertical-align: top;\n",
              "    }\n",
              "\n",
              "    .dataframe thead th {\n",
              "        text-align: right;\n",
              "    }\n",
              "</style>\n",
              "<table border=\"1\" class=\"dataframe\">\n",
              "  <thead>\n",
              "    <tr style=\"text-align: right;\">\n",
              "      <th></th>\n",
              "      <th>speed</th>\n",
              "      <th>flow</th>\n",
              "      <th>speed_limit</th>\n",
              "    </tr>\n",
              "  </thead>\n",
              "  <tbody>\n",
              "    <tr>\n",
              "      <th>count</th>\n",
              "      <td>4287209.00</td>\n",
              "      <td>4288108.00</td>\n",
              "      <td>4727520.00</td>\n",
              "    </tr>\n",
              "    <tr>\n",
              "      <th>mean</th>\n",
              "      <td>101.35</td>\n",
              "      <td>60.86</td>\n",
              "      <td>109.17</td>\n",
              "    </tr>\n",
              "    <tr>\n",
              "      <th>std</th>\n",
              "      <td>12.01</td>\n",
              "      <td>44.92</td>\n",
              "      <td>9.97</td>\n",
              "    </tr>\n",
              "    <tr>\n",
              "      <th>min</th>\n",
              "      <td>0.00</td>\n",
              "      <td>0.00</td>\n",
              "      <td>100.00</td>\n",
              "    </tr>\n",
              "    <tr>\n",
              "      <th>25%</th>\n",
              "      <td>98.40</td>\n",
              "      <td>18.00</td>\n",
              "      <td>100.00</td>\n",
              "    </tr>\n",
              "    <tr>\n",
              "      <th>50%</th>\n",
              "      <td>100.00</td>\n",
              "      <td>59.00</td>\n",
              "      <td>100.00</td>\n",
              "    </tr>\n",
              "    <tr>\n",
              "      <th>75%</th>\n",
              "      <td>105.00</td>\n",
              "      <td>92.00</td>\n",
              "      <td>120.00</td>\n",
              "    </tr>\n",
              "    <tr>\n",
              "      <th>max</th>\n",
              "      <td>120.00</td>\n",
              "      <td>269.00</td>\n",
              "      <td>120.00</td>\n",
              "    </tr>\n",
              "  </tbody>\n",
              "</table>\n",
              "</div>"
            ],
            "text/plain": [
              "           speed       flow  speed_limit\n",
              "count 4287209.00 4288108.00   4727520.00\n",
              "mean      101.35      60.86       109.17\n",
              "std        12.01      44.92         9.97\n",
              "min         0.00       0.00       100.00\n",
              "25%        98.40      18.00       100.00\n",
              "50%       100.00      59.00       100.00\n",
              "75%       105.00      92.00       120.00\n",
              "max       120.00     269.00       120.00"
            ]
          },
          "metadata": {
            "tags": []
          },
          "execution_count": 12
        }
      ]
    },
    {
      "cell_type": "code",
      "metadata": {
        "id": "3kc3n4Uf3gEa",
        "colab_type": "code",
        "outputId": "eba64254-dd11-4f21-c645-d878ced28e89",
        "colab": {
          "base_uri": "https://localhost:8080/",
          "height": 85
        }
      },
      "source": [
        "df.isnull().sum()"
      ],
      "execution_count": 13,
      "outputs": [
        {
          "output_type": "execute_result",
          "data": {
            "text/plain": [
              "speed          440311\n",
              "flow           439412\n",
              "speed_limit         0\n",
              "dtype: int64"
            ]
          },
          "metadata": {
            "tags": []
          },
          "execution_count": 13
        }
      ]
    },
    {
      "cell_type": "code",
      "metadata": {
        "id": "YE09jmCA3gJY",
        "colab_type": "code",
        "colab": {
          "base_uri": "https://localhost:8080/",
          "height": 1000
        },
        "outputId": "e5da26d2-9605-4003-c507-e1523dbcb149"
      },
      "source": [
        "pd.set_option('display.max_rows', 500)\n",
        "df.speed[df.speed.notna()].astype(int).value_counts()"
      ],
      "execution_count": 19,
      "outputs": [
        {
          "output_type": "execute_result",
          "data": {
            "text/plain": [
              "100    1201727\n",
              "98      454773\n",
              "99      453829\n",
              "97      319757\n",
              "96      182592\n",
              "120     179629\n",
              "95       91630\n",
              "116      74094\n",
              "115      73675\n",
              "117      73551\n",
              "101      73147\n",
              "114      70402\n",
              "113      66317\n",
              "118      66158\n",
              "102      61445\n",
              "112      61002\n",
              "111      57704\n",
              "119      56055\n",
              "110      54928\n",
              "103      54422\n",
              "109      51282\n",
              "104      49861\n",
              "108      49637\n",
              "105      48644\n",
              "107      48498\n",
              "106      48186\n",
              "94       43759\n",
              "93       24248\n",
              "92       16410\n",
              "91       12488\n",
              "0        11912\n",
              "90       10028\n",
              "89        8067\n",
              "88        6469\n",
              "87        5555\n",
              "83        4907\n",
              "86        4593\n",
              "84        4299\n",
              "85        4276\n",
              "82        4131\n",
              "80        3618\n",
              "81        3576\n",
              "79        2927\n",
              "78        2771\n",
              "77        2662\n",
              "74        2586\n",
              "75        2578\n",
              "73        2538\n",
              "76        2532\n",
              "72        2407\n",
              "71        2309\n",
              "69        2228\n",
              "70        2222\n",
              "66        2077\n",
              "68        2076\n",
              "67        2064\n",
              "65        1932\n",
              "64        1830\n",
              "63        1721\n",
              "62        1664\n",
              "61        1589\n",
              "59        1484\n",
              "60        1468\n",
              "58        1427\n",
              "54        1420\n",
              "53        1420\n",
              "57        1414\n",
              "55        1387\n",
              "50        1384\n",
              "52        1382\n",
              "56        1373\n",
              "51        1361\n",
              "49        1359\n",
              "48        1294\n",
              "45        1214\n",
              "31        1195\n",
              "44        1194\n",
              "47        1180\n",
              "32        1163\n",
              "42        1155\n",
              "40        1134\n",
              "43        1132\n",
              "46        1129\n",
              "41        1118\n",
              "39        1099\n",
              "36        1082\n",
              "30        1082\n",
              "38        1077\n",
              "33        1060\n",
              "37        1047\n",
              "34        1042\n",
              "29        1014\n",
              "35        1013\n",
              "28         973\n",
              "26         960\n",
              "23         958\n",
              "22         914\n",
              "25         910\n",
              "24         908\n",
              "27         872\n",
              "19         831\n",
              "21         815\n",
              "20         810\n",
              "18         803\n",
              "17         698\n",
              "16         637\n",
              "15         518\n",
              "14         481\n",
              "13         371\n",
              "12         253\n",
              "11         209\n",
              "10         162\n",
              "9          133\n",
              "5          108\n",
              "4          108\n",
              "8          106\n",
              "6          106\n",
              "3           85\n",
              "7           84\n",
              "2           62\n",
              "1           37\n",
              "Name: speed, dtype: int64"
            ]
          },
          "metadata": {
            "tags": []
          },
          "execution_count": 19
        }
      ]
    },
    {
      "cell_type": "code",
      "metadata": {
        "id": "NuPCnYKA3gOC",
        "colab_type": "code",
        "colab": {
          "base_uri": "https://localhost:8080/",
          "height": 717
        },
        "outputId": "c94cfc13-5a6c-4344-daa6-b57579aebfbf"
      },
      "source": [
        "import matplotlib.pyplot as plt\n",
        "plt.figure(figsize = (16,12))\n",
        "df.speed[(df.speed.notna()) & (df.speed > 70)].hist(bins = 50, grid = False)"
      ],
      "execution_count": 33,
      "outputs": [
        {
          "output_type": "execute_result",
          "data": {
            "text/plain": [
              "<matplotlib.axes._subplots.AxesSubplot at 0x7f4f0bf4f550>"
            ]
          },
          "metadata": {
            "tags": []
          },
          "execution_count": 33
        },
        {
          "output_type": "display_data",
          "data": {
            "image/png": "[encoded data removed]",
            "text/plain": [
              "<Figure size 1152x864 with 1 Axes>"
            ]
          },
          "metadata": {
            "tags": []
          }
        }
      ]
    },
    {
      "cell_type": "code",
      "metadata": {
        "id": "xLA2_dRZ3gTF",
        "colab_type": "code",
        "colab": {}
      },
      "source": [
        ""
      ],
      "execution_count": 0,
      "outputs": []
    },
    {
      "cell_type": "code",
      "metadata": {
        "id": "98pGlbg6peBn",
        "colab_type": "code",
        "colab": {}
      },
      "source": [
        ""
      ],
      "execution_count": 0,
      "outputs": []
    },
    {
      "cell_type": "code",
      "metadata": {
        "id": "qaiD3Q17txHG",
        "colab_type": "code",
        "outputId": "687b2e05-9d51-40ea-d251-11c1b5633235",
        "colab": {
          "base_uri": "https://localhost:8080/",
          "height": 136
        }
      },
      "source": [
        ""
      ],
      "execution_count": 0,
      "outputs": [
        {
          "output_type": "stream",
          "text": [
            "<class 'pandas.core.frame.DataFrame'>\n",
            "DatetimeIndex: 4727520 entries, 2011-01-03 00:00:00 to 2019-12-29 23:59:00\n",
            "Data columns (total 2 columns):\n",
            "speed    float64\n",
            "flow     float64\n",
            "dtypes: float64(2)\n",
            "memory usage: 108.2 MB\n"
          ],
          "name": "stdout"
        }
      ]
    },
    {
      "cell_type": "code",
      "metadata": {
        "id": "8RIZPfRMsSR_",
        "colab_type": "code",
        "colab": {}
      },
      "source": [
        "df2 = df.resample('M').agg({'speed': np.mean, 'flow': np.sum})"
      ],
      "execution_count": 0,
      "outputs": []
    },
    {
      "cell_type": "code",
      "metadata": {
        "id": "-6rCmgsApeGc",
        "colab_type": "code",
        "outputId": "3e28a93b-711b-4a02-d64f-03733eafa772",
        "colab": {
          "base_uri": "https://localhost:8080/",
          "height": 609
        }
      },
      "source": [
        "plt.figure(figsize=(20,10))\n",
        "plt.scatter(df.index, df.speed)"
      ],
      "execution_count": 36,
      "outputs": [
        {
          "output_type": "execute_result",
          "data": {
            "text/plain": [
              "<matplotlib.collections.PathCollection at 0x7f4f0bffc550>"
            ]
          },
          "metadata": {
            "tags": []
          },
          "execution_count": 36
        },
        {
          "output_type": "display_data",
          "data": {
            "image/png": "[encoded data removed]",
            "text/plain": [
              "<Figure size 1440x720 with 1 Axes>"
            ]
          },
          "metadata": {
            "tags": []
          }
        }
      ]
    },
    {
      "cell_type": "code",
      "metadata": {
        "id": "zqXENTVKpeLN",
        "colab_type": "code",
        "colab": {
          "base_uri": "https://localhost:8080/",
          "height": 1000
        },
        "outputId": "039cf5f0-57f6-4a06-be6b-fd47ada4a76c"
      },
      "source": [
        "df['null'] = np.where(df.speed.isna(), 1, np.nan)\n",
        "df['timestamp'] = df.index\n",
        "df.groupby(pd.Grouper(key='timestamp', freq='M'))['null'].sum()"
      ],
      "execution_count": 40,
      "outputs": [
        {
          "output_type": "execute_result",
          "data": {
            "text/plain": [
              "timestamp\n",
              "2011-01-31   37730.00\n",
              "2011-02-28   40320.00\n",
              "2011-03-31    5254.00\n",
              "2011-04-30   11189.00\n",
              "2011-05-31    2572.00\n",
              "2011-06-30    4030.00\n",
              "2011-07-31    2813.00\n",
              "2011-08-31    6074.00\n",
              "2011-09-30    3487.00\n",
              "2011-10-31    3726.00\n",
              "2011-11-30    4609.00\n",
              "2011-12-31    4616.00\n",
              "2012-01-31    9167.00\n",
              "2012-02-29    5494.00\n",
              "2012-03-31    2159.00\n",
              "2012-04-30    2367.00\n",
              "2012-05-31     113.00\n",
              "2012-06-30     661.00\n",
              "2012-07-31   14986.00\n",
              "2012-08-31     821.00\n",
              "2012-09-30     102.00\n",
              "2012-10-31    9383.00\n",
              "2012-11-30    3896.00\n",
              "2012-12-31    2872.00\n",
              "2013-01-31    2980.00\n",
              "2013-02-28    1266.00\n",
              "2013-03-31    1875.00\n",
              "2013-04-30    1038.00\n",
              "2013-05-31    2220.00\n",
              "2013-06-30    2176.00\n",
              "2013-07-31    1268.00\n",
              "2013-08-31    1380.00\n",
              "2013-09-30    2253.00\n",
              "2013-10-31    3043.00\n",
              "2013-11-30    4107.00\n",
              "2013-12-31    3655.00\n",
              "2014-01-31    4773.00\n",
              "2014-02-28    3894.00\n",
              "2014-03-31    2246.00\n",
              "2014-04-30    1537.00\n",
              "2014-05-31   44281.00\n",
              "2014-06-30   39665.00\n",
              "2014-07-31   44356.00\n",
              "2014-08-31   43320.00\n",
              "2014-09-30    1591.00\n",
              "2014-10-31    3086.00\n",
              "2014-11-30     595.00\n",
              "2014-12-31     192.00\n",
              "2015-01-31      92.00\n",
              "2015-02-28     135.00\n",
              "2015-03-31     143.00\n",
              "2015-04-30     211.00\n",
              "2015-05-31     279.00\n",
              "2015-06-30     843.00\n",
              "2015-07-31     189.00\n",
              "2015-08-31      81.00\n",
              "2015-09-30     464.00\n",
              "2015-10-31    1101.00\n",
              "2015-11-30     901.00\n",
              "2015-12-31     224.00\n",
              "2016-01-31    2456.00\n",
              "2016-02-29     298.00\n",
              "2016-03-31     201.00\n",
              "2016-04-30      51.00\n",
              "2016-05-31     350.00\n",
              "2016-06-30     611.00\n",
              "2016-07-31     133.00\n",
              "2016-08-31    1073.00\n",
              "2016-09-30    1050.00\n",
              "2016-10-31     519.00\n",
              "2016-11-30      77.00\n",
              "2016-12-31    1862.00\n",
              "2017-01-31      11.00\n",
              "2017-02-28     275.00\n",
              "2017-03-31     698.00\n",
              "2017-04-30     733.00\n",
              "2017-05-31    2920.00\n",
              "2017-06-30     303.00\n",
              "2017-07-31     781.00\n",
              "2017-08-31     898.00\n",
              "2017-09-30    1857.00\n",
              "2017-10-31     842.00\n",
              "2017-11-30     170.00\n",
              "2017-12-31     577.00\n",
              "2018-01-31      35.00\n",
              "2018-02-28      14.00\n",
              "2018-03-31     114.00\n",
              "2018-04-30     610.00\n",
              "2018-05-31     851.00\n",
              "2018-06-30     111.00\n",
              "2018-07-31     603.00\n",
              "2018-08-31     116.00\n",
              "2018-09-30      70.00\n",
              "2018-10-31     177.00\n",
              "2018-11-30     105.00\n",
              "2018-12-31     797.00\n",
              "2019-01-31     163.00\n",
              "2019-02-28       9.00\n",
              "2019-03-31      86.00\n",
              "2019-04-30      28.00\n",
              "2019-05-31      34.00\n",
              "2019-06-30      99.00\n",
              "2019-07-31     112.00\n",
              "2019-08-31   10173.00\n",
              "2019-09-30    1212.00\n",
              "2019-10-31     221.00\n",
              "2019-11-30    5451.00\n",
              "2019-12-31     473.00\n",
              "Freq: M, Name: null, dtype: float64"
            ]
          },
          "metadata": {
            "tags": []
          },
          "execution_count": 40
        }
      ]
    },
    {
      "cell_type": "code",
      "metadata": {
        "id": "5vVgA8CjpePf",
        "colab_type": "code",
        "colab": {}
      },
      "source": [
        ""
      ],
      "execution_count": 0,
      "outputs": []
    },
    {
      "cell_type": "code",
      "metadata": {
        "id": "zI5e2U0ApeTH",
        "colab_type": "code",
        "colab": {}
      },
      "source": [
        ""
      ],
      "execution_count": 0,
      "outputs": []
    },
    {
      "cell_type": "code",
      "metadata": {
        "id": "Q55rUBf8PIRQ",
        "colab_type": "code",
        "colab": {}
      },
      "source": [
        ""
      ],
      "execution_count": 0,
      "outputs": []
    },
    {
      "cell_type": "code",
      "metadata": {
        "id": "uro0DTu_PIWY",
        "colab_type": "code",
        "colab": {}
      },
      "source": [
        ""
      ],
      "execution_count": 0,
      "outputs": []
    },
    {
      "cell_type": "code",
      "metadata": {
        "id": "1dp1Nyh-PIba",
        "colab_type": "code",
        "colab": {}
      },
      "source": [
        ""
      ],
      "execution_count": 0,
      "outputs": []
    },
    {
      "cell_type": "code",
      "metadata": {
        "id": "CAuWxxbPPIfz",
        "colab_type": "code",
        "colab": {}
      },
      "source": [
        ""
      ],
      "execution_count": 0,
      "outputs": []
    }
  ]
}