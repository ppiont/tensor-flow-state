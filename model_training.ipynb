{
  "nbformat": 4,
  "nbformat_minor": 0,
  "metadata": {
    "colab": {
      "name": "Model_training.ipynb",
      "provenance": [],
      "machine_shape": "hm",
      "authorship_tag": "ABX9TyOfHNYoR4r/cTgxel4p/nq+",
      "include_colab_link": true
    },
    "kernelspec": {
      "name": "python3",
      "display_name": "Python 3"
    },
    "accelerator": "GPU"
  },
  "cells": [
    {
      "cell_type": "markdown",
      "metadata": {
        "id": "view-in-github",
        "colab_type": "text"
      },
      "source": [
        "<a href=\"https://colab.research.google.com/github/ppiont/tensor-flow-state/blob/master/Model_training.ipynb\" target=\"_parent\"><img src=\"https://colab.research.google.com/assets/colab-badge.svg\" alt=\"Open In Colab\"/></a>"
      ]
    },
    {
      "cell_type": "code",
      "metadata": {
        "id": "vSuzkeZcM2UE",
        "colab_type": "code",
        "outputId": "760aa0cc-0f70-40bd-9329-803cb3ab3164",
        "colab": {
          "base_uri": "https://localhost:8080/",
          "height": 122
        }
      },
      "source": [
        "from google.colab import drive\n",
        "drive.mount(\"/gdrive\", force_remount = True)"
      ],
      "execution_count": 1,
      "outputs": [
        {
          "output_type": "stream",
          "text": [
            "Go to this URL in a browser: https://accounts.google.com/o/oauth2/auth?client_id=947318989803-6bn6qk8qdgf4n4g3pfee6491hc0brc4i.apps.googleusercontent.com&redirect_uri=urn%3aietf%3awg%3aoauth%3a2.0%3aoob&response_type=code&scope=email%20https%3a%2f%2fwww.googleapis.com%2fauth%2fdocs.test%20https%3a%2f%2fwww.googleapis.com%2fauth%2fdrive%20https%3a%2f%2fwww.googleapis.com%2fauth%2fdrive.photos.readonly%20https%3a%2f%2fwww.googleapis.com%2fauth%2fpeopleapi.readonly\n",
            "\n",
            "Enter your authorization code:\n",
            "··········\n",
            "Mounted at /gdrive\n"
          ],
          "name": "stdout"
        }
      ]
    },
    {
      "cell_type": "code",
      "metadata": {
        "id": "lBC4ZppZNC3c",
        "colab_type": "code",
        "outputId": "ace31c90-b891-4ad5-a85a-21aa5bcaf9df",
        "colab": {
          "base_uri": "https://localhost:8080/",
          "height": 34
        }
      },
      "source": [
        "%cd \"/gdrive/My Drive/tensor-flow-state/tensor-flow-state\""
      ],
      "execution_count": 2,
      "outputs": [
        {
          "output_type": "stream",
          "text": [
            "/gdrive/My Drive/tensor-flow-state/tensor-flow-state\n"
          ],
          "name": "stdout"
        }
      ]
    },
    {
      "cell_type": "code",
      "metadata": {
        "id": "NKD3KY8hNEqo",
        "colab_type": "code",
        "colab": {}
      },
      "source": [
        "import pandas as pd\n",
        "df = pd.read_csv(\"data/df_imputed_week_shift.csv\", index_col = 0, parse_dates = True)"
      ],
      "execution_count": 0,
      "outputs": []
    },
    {
      "cell_type": "code",
      "metadata": {
        "id": "AbYIfvGqcui0",
        "colab_type": "code",
        "colab": {}
      },
      "source": [
        "# 0 resample\n",
        "# 1 log transformere. \n",
        "# 2 difference ift. speed limit (som ogsaa skal vaere log transformeret)\n",
        "# 3 "
      ],
      "execution_count": 0,
      "outputs": []
    },
    {
      "cell_type": "code",
      "metadata": {
        "id": "kzVAi95GfcBW",
        "colab_type": "code",
        "colab": {}
      },
      "source": [
        "cols = [\"speed\", \"flow\", \"speed_-2\", \"speed_-1\",\"speed_+1\", \"speed_+2\", \"flow_-2\", \"flow_-1\", \"flow_+1\", \"flow_+2\", \"speed_limit\"]\n",
        "speed_cols = [\"speed\", \"speed_-2\", \"speed_-1\",\"speed_+1\", \"speed_+2\"]\n",
        "flow_cols = [\"flow\", \"flow_-2\", \"flow_-1\", \"flow_+1\", \"flow_+2\"]"
      ],
      "execution_count": 0,
      "outputs": []
    },
    {
      "cell_type": "markdown",
      "metadata": {
        "id": "Uh4evfBugwJa",
        "colab_type": "text"
      },
      "source": [
        "### First resample to elmininate some noise"
      ]
    },
    {
      "cell_type": "code",
      "metadata": {
        "id": "FVkBrcJDhVxA",
        "colab_type": "code",
        "colab": {}
      },
      "source": [
        "import numpy as np\n",
        "def resample_df(df, freq = \"10T\", method_speed = np.median, method_flow = np.sum):\n",
        "    copied = df.copy()\n",
        "    copied = copied.resample(freq).agg({\n",
        "           \"speed\": method_speed, \"speed_-2\": method_speed, \"speed_-1\": method_speed, \"speed_+1\": method_speed, \"speed_+2\": method_speed,\n",
        "           \"flow\": method_flow, \"flow_-2\": method_flow, \"flow_-1\": method_flow, \"flow_+1\": method_flow, \"flow_+2\": method_flow,\n",
        "           \"speed_limit\": np.median})\n",
        "    return copied"
      ],
      "execution_count": 0,
      "outputs": []
    },
    {
      "cell_type": "code",
      "metadata": {
        "id": "NJyIniCBhWIc",
        "colab_type": "code",
        "colab": {}
      },
      "source": [
        "r_df = resample_df(df, freq = \"10T\")"
      ],
      "execution_count": 0,
      "outputs": []
    },
    {
      "cell_type": "markdown",
      "metadata": {
        "id": "_M66yh3ektP7",
        "colab_type": "text"
      },
      "source": [
        "### Train test split. The final year is reserved for testing. (Val will be relevant later?)"
      ]
    },
    {
      "cell_type": "code",
      "metadata": {
        "id": "Bibzm8V9kN0x",
        "colab_type": "code",
        "colab": {}
      },
      "source": [
        "def train_val_test_split(df, val_year, test_year):\n",
        "    # train, test\n",
        "    return df[(df.index.year != val_year) & (df.index.year != test_year)], df[df.index.year == val_year], df[df.index.year == test_year]"
      ],
      "execution_count": 0,
      "outputs": []
    },
    {
      "cell_type": "code",
      "metadata": {
        "id": "rSeGBQtNq2GC",
        "colab_type": "code",
        "colab": {}
      },
      "source": [
        "train, val, test = train_val_test_split(r_df, 2018, 2019)"
      ],
      "execution_count": 0,
      "outputs": []
    },
    {
      "cell_type": "code",
      "metadata": {
        "id": "nRftDaC5cuuv",
        "colab_type": "code",
        "colab": {}
      },
      "source": [
        "import numpy as np\n",
        "def log_transform(df):\n",
        "    copy = df.copy()\n",
        "    return np.log(copy.iloc[:, :-1].replace(0, 1e-15)).join(df.iloc[:, -1], how = 'inner')\n",
        "\n",
        "# Log transform. First set 0s to very low value 'cause you can't log 0.\n",
        "train_log = log_transform(train)\n",
        "val_log = log_transform(val)"
      ],
      "execution_count": 0,
      "outputs": []
    },
    {
      "cell_type": "code",
      "metadata": {
        "id": "sNoOO27FpHyP",
        "colab_type": "code",
        "colab": {}
      },
      "source": [
        "def calc_mean(df, col):\n",
        "    # mean(100), mean(120)\n",
        "    return df.groupby(['speed_limit'])[col].mean().values\n",
        "\n",
        "def calc_sd(df, col):\n",
        "    # sd(100), sd(120)\n",
        "    return df.groupby(['speed_limit'])[col].std().values\n",
        "\n",
        "def normalize_df(df, cols):\n",
        "    copy = df.copy()\n",
        "    for col in cols:\n",
        "        # Find mean and sd for column\n",
        "        mean100, mean120 = calc_mean(copy, col)\n",
        "        sd100, sd120 = calc_sd(copy, col)\n",
        "        copy[col] = np.where(copy.speed_limit == 100, (copy[col] - mean100) / sd100, (copy[col] - mean120) / sd120)\n",
        "    return copy"
      ],
      "execution_count": 0,
      "outputs": []
    },
    {
      "cell_type": "code",
      "metadata": {
        "id": "gQQdWm2gywBo",
        "colab_type": "code",
        "colab": {}
      },
      "source": [
        "train_norm = normalize_df(train_log, cols[:-1])\n",
        "val_norm = normalize_df(val_log, cols[:-1])"
      ],
      "execution_count": 0,
      "outputs": []
    },
    {
      "cell_type": "code",
      "metadata": {
        "id": "5DN1QmhV3D7u",
        "colab_type": "code",
        "colab": {}
      },
      "source": [
        "# Generates sequential 3D batches to feed to the model\n",
        "def generator(data, lookback, delay, min_index = 0, max_index = None, \n",
        "              shuffle = False, batch_size = 128, step = 1, target_col = 0):\n",
        "    # If max index not given, subtract prediction horizon - 1 (len to index) from last data point\n",
        "    if max_index is None:\n",
        "        max_index = len(data) - delay - 1\n",
        "    # Set i to first idx with valid lookback length behind it\n",
        "    i = min_index + lookback\n",
        "    while 1:\n",
        "        # Use shuffle for non-sequential data\n",
        "        if shuffle:\n",
        "            rows = np.random.randint(\n",
        "                min_index + lookback, max_index, size = batch_size)\n",
        "        # Else for sequential (time series)\n",
        "        else:\n",
        "            # Check if adding batch exceeds index bounds\n",
        "            if i + batch_size >= max_index:\n",
        "                # Return i to beginning\n",
        "                i = min_index + lookback\n",
        "            # Select next valid row range\n",
        "            rows = np.arange(i, min(i + batch_size, max_index))\n",
        "            # Increment i\n",
        "            i += len(rows)\n",
        "        # Initialize sample and target arrays\n",
        "        samples = np.zeros((len(rows),\n",
        "                            lookback // step,\n",
        "                            np.shape(data)[-1]))\n",
        "        targets = np.zeros((len(rows),))\n",
        "        # Generate samples, targets\n",
        "        for j, row in enumerate(rows):\n",
        "            indices = range(rows[j] - lookback, rows[j], step)\n",
        "            samples[j] = data[indices]\n",
        "            targets[j] = data[rows[j] + delay][target_col]\n",
        "        yield samples, targets"
      ],
      "execution_count": 0,
      "outputs": []
    },
    {
      "cell_type": "code",
      "metadata": {
        "id": "IlfIKDZ634p9",
        "colab_type": "code",
        "colab": {}
      },
      "source": [
        "# Generator 'settings'\n",
        "\n",
        "train_data = train_norm.iloc[:, 0].values\n",
        "train_data = np.reshape(train_data, (np.shape(train_data)[0], 1))\n",
        "np.shape(train_data)\n",
        "\n",
        "lookback = 3 * 6 # 3 hours\n",
        "delay = 3 # 30 minutes\n",
        "step = 1\n",
        "batch_size = 512\n",
        "min_index_train = 0\n",
        "max_index_train = len(train_data)\n",
        "train_gen = generator(train_data,\n",
        "                      lookback = lookback,\n",
        "                      delay = delay,\n",
        "                      min_index = min_index_train,\n",
        "                      max_index = max_index_train,\n",
        "                      step = step, \n",
        "                      batch_size = batch_size,\n",
        "                      target_col = 0)\n",
        "\n",
        "\n",
        "val_data = val_norm.iloc[:, 0].values\n",
        "train_data = np.reshape(train_data, (np.shape(train_data)[0], 1))\n",
        "np.shape(train_data)\n",
        "\n",
        "min_index_val = 0\n",
        "max_index_val= len(val_data)\n",
        "val_gen = generator(val_data,\n",
        "                      lookback = lookback,\n",
        "                      delay = delay,\n",
        "                      min_index = min_index_val,\n",
        "                      max_index = max_index_val,\n",
        "                      step = step, \n",
        "                      batch_size = batch_size,\n",
        "                      target_col = 0)\n"
      ],
      "execution_count": 0,
      "outputs": []
    },
    {
      "cell_type": "code",
      "metadata": {
        "id": "OoW9MvRG5b_i",
        "colab_type": "code",
        "outputId": "ee6e9fbb-489d-44e7-cbb2-47f55b1299e0",
        "colab": {
          "base_uri": "https://localhost:8080/",
          "height": 51
        }
      },
      "source": [
        "try:\n",
        "  %tensorflow_version 2.x\n",
        "except Exception:\n",
        "  pass\n",
        "\n",
        "import tensorflow as tf\n",
        "tf.__version__"
      ],
      "execution_count": 14,
      "outputs": [
        {
          "output_type": "stream",
          "text": [
            "TensorFlow 2.x selected.\n"
          ],
          "name": "stdout"
        },
        {
          "output_type": "execute_result",
          "data": {
            "text/plain": [
              "'2.1.0-rc1'"
            ]
          },
          "metadata": {
            "tags": []
          },
          "execution_count": 14
        }
      ]
    },
    {
      "cell_type": "code",
      "metadata": {
        "id": "5dXjc7sZ4pOW",
        "colab_type": "code",
        "colab": {}
      },
      "source": [
        "# ML\n",
        "from tensorflow.keras.models import Sequential\n",
        "from tensorflow.keras import layers\n",
        "from tensorflow.keras.optimizers import RMSprop"
      ],
      "execution_count": 0,
      "outputs": []
    },
    {
      "cell_type": "code",
      "metadata": {
        "id": "FE9pIY2C-d7y",
        "colab_type": "code",
        "colab": {}
      },
      "source": [
        "# better way of setting up model"
      ],
      "execution_count": 0,
      "outputs": []
    },
    {
      "cell_type": "code",
      "metadata": {
        "id": "shfH2FV2-dCa",
        "colab_type": "code",
        "colab": {}
      },
      "source": [
        "input_layer = Input(shape=(dataset.n_timestep, dataset.n_feature))\n",
        "conv1 = Conv1D(filters=32,\n",
        "               kernel_size=8,\n",
        "               strides=1,\n",
        "               activation='relu')(input_layer)\n",
        "pool1 = MaxPooling1D(pool_size=4)(conv1)\n",
        "lstm1 = LSTM(32)(pool1)\n",
        "output_layer = Dense(1, activation='sigmoid')(lstm1)\n",
        "model = Model(inputs=input_layer, outputs=output_layer) "
      ],
      "execution_count": 0,
      "outputs": []
    },
    {
      "cell_type": "code",
      "metadata": {
        "id": "rV0jk0hx5-fb",
        "colab_type": "code",
        "colab": {}
      },
      "source": [
        "# Train Stacked LSTM with Dropout\n",
        "model = Sequential()\n",
        "#model.add(layers.Input(shape = (144, 10), batch_size = 128))\n",
        "model.add(layers.Conv1D(filters = 32, kernel_size = (1), activation = 'relu', input_shape = (144, 1)))\n",
        "model.add(layers.LSTM(32, \n",
        "                      dropout = 0.1,\n",
        "                      recurrent_dropout = 0.5,\n",
        "                      input_shape = (144, 32),#,\n",
        "                      #batch_size = 128,\n",
        "                      # input_shape = (None, data.shape[-1]),\n",
        "                      #stateful = True,\n",
        "                      return_sequences = True)) #,\n",
        "                      #return_state = True))\n",
        "model.add(layers.LSTM(32,\n",
        "                      dropout = 0.1,\n",
        "                      recurrent_dropout = 0.5,\n",
        "                      input_shape = (144, 32)))#,\n",
        "                      #batch_size = 128))#,\n",
        "                      # input_shape = (None, data.shape[-1]),\n",
        "                      #stateful = True))\n",
        "model.add(layers.Dense(1))"
      ],
      "execution_count": 0,
      "outputs": []
    },
    {
      "cell_type": "code",
      "metadata": {
        "id": "GmPmSOtpxx7O",
        "colab_type": "code",
        "colab": {}
      },
      "source": [
        "# Train Stacked LSTM with Dropout\n",
        "model = Sequential()\n",
        "model.add(layers.Conv1D(filters = 32, kernel_size = (1), activation = 'relu', input_shape = (lookback, 1)))\n",
        "model.add(layers.LSTM(32,\n",
        "                      dropout = 0.1,\n",
        "                      recurrent_dropout = 0.5,\n",
        "                      input_shape = (lookback, 32)))\n",
        "model.add(layers.Dense(1))"
      ],
      "execution_count": 0,
      "outputs": []
    },
    {
      "cell_type": "code",
      "metadata": {
        "id": "W1DTzCXW7KSj",
        "colab_type": "code",
        "colab": {}
      },
      "source": [
        "model.compile(optimizer = RMSprop(learning_rate = 0.001), loss = 'mse', metrics = ['mae', 'mape'])\n",
        "model.build(input_shape = (128, 144, 1))"
      ],
      "execution_count": 0,
      "outputs": []
    },
    {
      "cell_type": "code",
      "metadata": {
        "id": "25uTTd6c8EaW",
        "colab_type": "code",
        "outputId": "ef6dfaec-31d7-4260-d079-c35fafab0dcf",
        "colab": {
          "base_uri": "https://localhost:8080/",
          "height": 255
        }
      },
      "source": [
        "model.summary()"
      ],
      "execution_count": 29,
      "outputs": [
        {
          "output_type": "stream",
          "text": [
            "Model: \"sequential_2\"\n",
            "_________________________________________________________________\n",
            "Layer (type)                 Output Shape              Param #   \n",
            "=================================================================\n",
            "conv1d_2 (Conv1D)            (None, 18, 32)            64        \n",
            "_________________________________________________________________\n",
            "lstm_3 (LSTM)                (None, 32)                8320      \n",
            "_________________________________________________________________\n",
            "dense_2 (Dense)              (None, 1)                 33        \n",
            "=================================================================\n",
            "Total params: 8,417\n",
            "Trainable params: 8,417\n",
            "Non-trainable params: 0\n",
            "_________________________________________________________________\n"
          ],
          "name": "stdout"
        }
      ]
    },
    {
      "cell_type": "code",
      "metadata": {
        "id": "CaA_aspq7BZJ",
        "colab_type": "code",
        "outputId": "eb96363f-02a8-44ca-e869-917cc0fd6a38",
        "colab": {
          "base_uri": "https://localhost:8080/",
          "height": 782
        }
      },
      "source": [
        "history = model.fit(train_gen,\n",
        "                    steps_per_epoch = (((max_index_train + 1) // batch_size) + 1),\n",
        "                    epochs = 20)"
      ],
      "execution_count": 30,
      "outputs": [
        {
          "output_type": "stream",
          "text": [
            "WARNING:tensorflow:sample_weight modes were coerced from\n",
            "  ...\n",
            "    to  \n",
            "  ['...']\n",
            "Train for 719 steps\n",
            "Epoch 1/20\n",
            "719/719 [==============================] - 31s 44ms/step - loss: 0.8217 - mae: 0.0774 - mape: 99.9396\n",
            "Epoch 2/20\n",
            "719/719 [==============================] - 29s 41ms/step - loss: 0.7630 - mae: 0.0750 - mape: 95.9896\n",
            "Epoch 3/20\n",
            "719/719 [==============================] - 29s 40ms/step - loss: 0.7379 - mae: 0.0743 - mape: 96.2495\n",
            "Epoch 4/20\n",
            "719/719 [==============================] - 29s 41ms/step - loss: 0.7135 - mae: 0.0737 - mape: 95.6479\n",
            "Epoch 5/20\n",
            "719/719 [==============================] - 29s 41ms/step - loss: 0.6810 - mae: 0.0730 - mape: 97.0366\n",
            "Epoch 6/20\n",
            "719/719 [==============================] - 29s 40ms/step - loss: 0.6508 - mae: 0.0719 - mape: 97.1435\n",
            "Epoch 7/20\n",
            "719/719 [==============================] - 29s 40ms/step - loss: 0.6395 - mae: 0.0718 - mape: 97.8553\n",
            "Epoch 8/20\n",
            "719/719 [==============================] - 29s 40ms/step - loss: 0.6071 - mae: 0.0705 - mape: 98.9566\n",
            "Epoch 9/20\n",
            "719/719 [==============================] - 29s 41ms/step - loss: 0.5892 - mae: 0.0697 - mape: 97.4957\n",
            "Epoch 10/20\n",
            "719/719 [==============================] - 29s 41ms/step - loss: 0.5806 - mae: 0.0697 - mape: 98.9113\n",
            "Epoch 11/20\n",
            "719/719 [==============================] - 29s 41ms/step - loss: 0.5613 - mae: 0.0686 - mape: 99.6408\n",
            "Epoch 12/20\n",
            "719/719 [==============================] - 29s 40ms/step - loss: 0.5649 - mae: 0.0691 - mape: 98.8995\n",
            "Epoch 13/20\n",
            "719/719 [==============================] - 29s 40ms/step - loss: 0.5399 - mae: 0.0677 - mape: 102.0374\n",
            "Epoch 14/20\n",
            "719/719 [==============================] - 29s 40ms/step - loss: 0.5218 - mae: 0.0666 - mape: 100.6777\n",
            "Epoch 15/20\n",
            "719/719 [==============================] - 29s 40ms/step - loss: 0.5283 - mae: 0.0671 - mape: 102.1281\n",
            "Epoch 16/20\n",
            "719/719 [==============================] - 29s 41ms/step - loss: 0.5030 - mae: 0.0659 - mape: 105.5770\n",
            "Epoch 17/20\n",
            "719/719 [==============================] - 29s 40ms/step - loss: 0.5204 - mae: 0.0664 - mape: 100.8128\n",
            "Epoch 18/20\n",
            "719/719 [==============================] - 29s 40ms/step - loss: 0.5022 - mae: 0.0655 - mape: 103.5703\n",
            "Epoch 19/20\n",
            "719/719 [==============================] - 29s 40ms/step - loss: 0.4872 - mae: 0.0637 - mape: 102.1352\n",
            "Epoch 20/20\n",
            "719/719 [==============================] - 28s 39ms/step - loss: 0.4870 - mae: 0.0641 - mape: 101.7220\n"
          ],
          "name": "stdout"
        }
      ]
    },
    {
      "cell_type": "code",
      "metadata": {
        "id": "erkUqprM1FRv",
        "colab_type": "code",
        "colab": {
          "base_uri": "https://localhost:8080/",
          "height": 281
        },
        "outputId": "dce401d1-5f26-49ce-f268-4219efb1457f"
      },
      "source": [
        "import matplotlib.pyplot as plt\n",
        "\n",
        "#PLOT\n",
        "loss = history.history['loss']\n",
        "#val_loss = history.history['val_loss']\n",
        "epochs = range(len(loss))\n",
        "plt.figure()\n",
        "plt.plot(epochs, loss, 'bo', label='Training loss')\n",
        "#plt.plot(epochs, val_loss, 'b', label='Validation loss')\n",
        "plt.title('Training and validation loss')\n",
        "plt.legend()\n",
        "plt.show()"
      ],
      "execution_count": 34,
      "outputs": [
        {
          "output_type": "display_data",
          "data": {
            "image/png": "[encoded data removed]",
            "text/plain": [
              "<Figure size 432x288 with 1 Axes>"
            ]
          },
          "metadata": {
            "tags": []
          }
        }
      ]
    },
    {
      "cell_type": "code",
      "metadata": {
        "id": "zcCwxvc149UA",
        "colab_type": "code",
        "colab": {}
      },
      "source": [
        ""
      ],
      "execution_count": 0,
      "outputs": []
    }
  ]
}