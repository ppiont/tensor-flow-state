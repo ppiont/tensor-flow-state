{
  "nbformat": 4,
  "nbformat_minor": 0,
  "metadata": {
    "colab": {
      "name": "Model_training.ipynb",
      "provenance": [],
      "machine_shape": "hm",
      "authorship_tag": "ABX9TyOnxsGyiK/9PIaaQNQcksZN",
      "include_colab_link": true
    },
    "kernelspec": {
      "name": "python3",
      "display_name": "Python 3"
    },
    "accelerator": "GPU"
  },
  "cells": [
    {
      "cell_type": "markdown",
      "metadata": {
        "id": "view-in-github",
        "colab_type": "text"
      },
      "source": [
        "<a href=\"https://colab.research.google.com/github/ppiont/tensor-flow-state/blob/master/model_training.ipynb\" target=\"_parent\"><img src=\"https://colab.research.google.com/assets/colab-badge.svg\" alt=\"Open In Colab\"/></a>"
      ]
    },
    {
      "cell_type": "code",
      "metadata": {
        "id": "vSuzkeZcM2UE",
        "colab_type": "code",
        "outputId": "2a5c31a4-3007-4643-f896-052b8c2059fa",
        "colab": {
          "base_uri": "https://localhost:8080/",
          "height": 124
        }
      },
      "source": [
        "from google.colab import drive\n",
        "drive.mount(\"/gdrive\", force_remount = True)"
      ],
      "execution_count": 1,
      "outputs": [
        {
          "output_type": "stream",
          "text": [
            "Go to this URL in a browser: https://accounts.google.com/o/oauth2/auth?client_id=947318989803-6bn6qk8qdgf4n4g3pfee6491hc0brc4i.apps.googleusercontent.com&redirect_uri=urn%3aietf%3awg%3aoauth%3a2.0%3aoob&response_type=code&scope=email%20https%3a%2f%2fwww.googleapis.com%2fauth%2fdocs.test%20https%3a%2f%2fwww.googleapis.com%2fauth%2fdrive%20https%3a%2f%2fwww.googleapis.com%2fauth%2fdrive.photos.readonly%20https%3a%2f%2fwww.googleapis.com%2fauth%2fpeopleapi.readonly\n",
            "\n",
            "Enter your authorization code:\n",
            "··········\n",
            "Mounted at /gdrive\n"
          ],
          "name": "stdout"
        }
      ]
    },
    {
      "cell_type": "code",
      "metadata": {
        "id": "lBC4ZppZNC3c",
        "colab_type": "code",
        "outputId": "d633091e-563b-4fe7-fb34-11f8b9cd3c06",
        "colab": {
          "base_uri": "https://localhost:8080/",
          "height": 35
        }
      },
      "source": [
        "%cd \"/gdrive/My Drive/tensor-flow-state/tensor-flow-state\""
      ],
      "execution_count": 2,
      "outputs": [
        {
          "output_type": "stream",
          "text": [
            "/gdrive/My Drive/tensor-flow-state/tensor-flow-state\n"
          ],
          "name": "stdout"
        }
      ]
    },
    {
      "cell_type": "code",
      "metadata": {
        "id": "NKD3KY8hNEqo",
        "colab_type": "code",
        "colab": {}
      },
      "source": [
        "import pandas as pd\n",
        "df = pd.read_csv(\"data/df_imputed_week_shift_start_2017_added_holiday_weekends\", index_col = 0, parse_dates = True)"
      ],
      "execution_count": 0,
      "outputs": []
    },
    {
      "cell_type": "code",
      "metadata": {
        "id": "kzVAi95GfcBW",
        "colab_type": "code",
        "colab": {}
      },
      "source": [
        "cols = [\"speed\", \"flow\", \"speed_-2\", \"speed_-1\",\"speed_+1\", \"speed_+2\", \"flow_-2\", \"flow_-1\", \"flow_+1\", \"flow_+2\", \"speed_limit\", \"holiday\", \"weekend\"]\n",
        "speed_cols = [\"speed\", \"speed_-2\", \"speed_-1\",\"speed_+1\", \"speed_+2\"]\n",
        "flow_cols = [\"flow\", \"flow_-2\", \"flow_-1\", \"flow_+1\", \"flow_+2\"]"
      ],
      "execution_count": 0,
      "outputs": []
    },
    {
      "cell_type": "code",
      "metadata": {
        "id": "6ilNHPJ1PhkZ",
        "colab_type": "code",
        "colab": {}
      },
      "source": [
        "# Make speed_limit binary\n",
        "import numpy as np\n",
        "df['speed_limit'] =  np.where(df.speed_limit > 110, 1, 0)"
      ],
      "execution_count": 0,
      "outputs": []
    },
    {
      "cell_type": "markdown",
      "metadata": {
        "id": "Uh4evfBugwJa",
        "colab_type": "text"
      },
      "source": [
        "### First resample to elmininate some noise"
      ]
    },
    {
      "cell_type": "code",
      "metadata": {
        "id": "FVkBrcJDhVxA",
        "colab_type": "code",
        "colab": {}
      },
      "source": [
        "import numpy as np\n",
        "def resample_df(df, freq = \"10T\", method_speed = np.mean, method_flow = np.sum):\n",
        "    copied = df.copy()\n",
        "    copied = copied.resample(freq).agg({\n",
        "           \"speed\": method_speed, \"speed_-2\": method_speed, \"speed_-1\": method_speed, \"speed_+1\": method_speed, \"speed_+2\": method_speed,\n",
        "           \"flow\": method_flow, \"flow_-2\": method_flow, \"flow_-1\": method_flow, \"flow_+1\": method_flow, \"flow_+2\": method_flow,\n",
        "           \"speed_limit\": np.median, \"holiday\": np.median, \"weekend\": np.median})\n",
        "    return copied"
      ],
      "execution_count": 0,
      "outputs": []
    },
    {
      "cell_type": "code",
      "metadata": {
        "id": "NJyIniCBhWIc",
        "colab_type": "code",
        "colab": {}
      },
      "source": [
        "r_df = resample_df(df, freq = \"15T\")"
      ],
      "execution_count": 0,
      "outputs": []
    },
    {
      "cell_type": "code",
      "metadata": {
        "id": "9QqCf_YjFoht",
        "colab_type": "code",
        "outputId": "33bb306c-c91c-469d-e2f1-0865ea565f36",
        "colab": {
          "base_uri": "https://localhost:8080/",
          "height": 202
        }
      },
      "source": [
        "r_df.head()"
      ],
      "execution_count": 10,
      "outputs": [
        {
          "output_type": "execute_result",
          "data": {
            "text/html": [
              "<div>\n",
              "<style scoped>\n",
              "    .dataframe tbody tr th:only-of-type {\n",
              "        vertical-align: middle;\n",
              "    }\n",
              "\n",
              "    .dataframe tbody tr th {\n",
              "        vertical-align: top;\n",
              "    }\n",
              "\n",
              "    .dataframe thead th {\n",
              "        text-align: right;\n",
              "    }\n",
              "</style>\n",
              "<table border=\"1\" class=\"dataframe\">\n",
              "  <thead>\n",
              "    <tr style=\"text-align: right;\">\n",
              "      <th></th>\n",
              "      <th>speed</th>\n",
              "      <th>speed_-2</th>\n",
              "      <th>speed_-1</th>\n",
              "      <th>speed_+1</th>\n",
              "      <th>speed_+2</th>\n",
              "      <th>flow</th>\n",
              "      <th>flow_-2</th>\n",
              "      <th>flow_-1</th>\n",
              "      <th>flow_+1</th>\n",
              "      <th>flow_+2</th>\n",
              "      <th>speed_limit</th>\n",
              "      <th>holiday</th>\n",
              "      <th>weekend</th>\n",
              "    </tr>\n",
              "  </thead>\n",
              "  <tbody>\n",
              "    <tr>\n",
              "      <th>2017-01-01 00:00:00</th>\n",
              "      <td>115.833333</td>\n",
              "      <td>116.584444</td>\n",
              "      <td>116.116667</td>\n",
              "      <td>116.103333</td>\n",
              "      <td>115.532222</td>\n",
              "      <td>280.0</td>\n",
              "      <td>274.0</td>\n",
              "      <td>276.0</td>\n",
              "      <td>282.0</td>\n",
              "      <td>283.0</td>\n",
              "      <td>1</td>\n",
              "      <td>1</td>\n",
              "      <td>1</td>\n",
              "    </tr>\n",
              "    <tr>\n",
              "      <th>2017-01-01 00:15:00</th>\n",
              "      <td>116.972222</td>\n",
              "      <td>116.926667</td>\n",
              "      <td>116.928889</td>\n",
              "      <td>117.613333</td>\n",
              "      <td>117.286667</td>\n",
              "      <td>410.0</td>\n",
              "      <td>413.0</td>\n",
              "      <td>407.0</td>\n",
              "      <td>415.0</td>\n",
              "      <td>421.0</td>\n",
              "      <td>1</td>\n",
              "      <td>1</td>\n",
              "      <td>1</td>\n",
              "    </tr>\n",
              "    <tr>\n",
              "      <th>2017-01-01 00:30:00</th>\n",
              "      <td>117.806667</td>\n",
              "      <td>117.936667</td>\n",
              "      <td>117.385556</td>\n",
              "      <td>118.200000</td>\n",
              "      <td>117.883333</td>\n",
              "      <td>504.0</td>\n",
              "      <td>504.0</td>\n",
              "      <td>510.0</td>\n",
              "      <td>509.0</td>\n",
              "      <td>516.0</td>\n",
              "      <td>1</td>\n",
              "      <td>1</td>\n",
              "      <td>1</td>\n",
              "    </tr>\n",
              "    <tr>\n",
              "      <th>2017-01-01 00:45:00</th>\n",
              "      <td>116.103333</td>\n",
              "      <td>116.760000</td>\n",
              "      <td>115.980000</td>\n",
              "      <td>116.275556</td>\n",
              "      <td>115.808889</td>\n",
              "      <td>508.0</td>\n",
              "      <td>501.0</td>\n",
              "      <td>508.0</td>\n",
              "      <td>503.0</td>\n",
              "      <td>492.0</td>\n",
              "      <td>1</td>\n",
              "      <td>1</td>\n",
              "      <td>1</td>\n",
              "    </tr>\n",
              "    <tr>\n",
              "      <th>2017-01-01 01:00:00</th>\n",
              "      <td>116.484444</td>\n",
              "      <td>117.096667</td>\n",
              "      <td>116.873333</td>\n",
              "      <td>115.977778</td>\n",
              "      <td>116.284444</td>\n",
              "      <td>444.0</td>\n",
              "      <td>457.0</td>\n",
              "      <td>445.0</td>\n",
              "      <td>439.0</td>\n",
              "      <td>439.0</td>\n",
              "      <td>1</td>\n",
              "      <td>1</td>\n",
              "      <td>1</td>\n",
              "    </tr>\n",
              "  </tbody>\n",
              "</table>\n",
              "</div>"
            ],
            "text/plain": [
              "                          speed    speed_-2  ...  holiday  weekend\n",
              "2017-01-01 00:00:00  115.833333  116.584444  ...        1        1\n",
              "2017-01-01 00:15:00  116.972222  116.926667  ...        1        1\n",
              "2017-01-01 00:30:00  117.806667  117.936667  ...        1        1\n",
              "2017-01-01 00:45:00  116.103333  116.760000  ...        1        1\n",
              "2017-01-01 01:00:00  116.484444  117.096667  ...        1        1\n",
              "\n",
              "[5 rows x 13 columns]"
            ]
          },
          "metadata": {
            "tags": []
          },
          "execution_count": 10
        }
      ]
    },
    {
      "cell_type": "markdown",
      "metadata": {
        "id": "_M66yh3ektP7",
        "colab_type": "text"
      },
      "source": [
        "### Train test split. The final year is reserved for testing. (Val will be relevant later?)"
      ]
    },
    {
      "cell_type": "code",
      "metadata": {
        "id": "Bibzm8V9kN0x",
        "colab_type": "code",
        "colab": {}
      },
      "source": [
        "def train_val_test_split(df, val_year, test_year):\n",
        "    # train, test\n",
        "    return df[(df.index.year < val_year)].copy(), df[df.index.year == val_year].copy(), df[df.index.year == test_year].copy()"
      ],
      "execution_count": 0,
      "outputs": []
    },
    {
      "cell_type": "code",
      "metadata": {
        "id": "rSeGBQtNq2GC",
        "colab_type": "code",
        "colab": {}
      },
      "source": [
        "train, val, test = train_val_test_split(r_df, 2018, 2019)"
      ],
      "execution_count": 0,
      "outputs": []
    },
    {
      "cell_type": "code",
      "metadata": {
        "id": "nRftDaC5cuuv",
        "colab_type": "code",
        "colab": {}
      },
      "source": [
        "import numpy as np\n",
        "def log_transform(df):\n",
        "    copy = df.copy()\n",
        "    return np.log(copy.iloc[:, :-3].replace(0, 1e-15)).join(df.iloc[:, -3:], how = 'inner')\n",
        "\n",
        "# Log transform. First set 0s to very low value 'cause you can't log 0.\n",
        "train_log = log_transform(train)\n",
        "val_log = log_transform(val)\n",
        "test_log = log_transform(test)"
      ],
      "execution_count": 0,
      "outputs": []
    },
    {
      "cell_type": "code",
      "metadata": {
        "id": "wffBxR1eIxsB",
        "colab_type": "code",
        "colab": {
          "base_uri": "https://localhost:8080/",
          "height": 35
        },
        "outputId": "42d7deff-feab-4fcc-d30d-d6ecf0f5e64e"
      },
      "source": [
        "try:\n",
        "  %tensorflow_version 2.x\n",
        "except Exception:\n",
        "  pass\n",
        "\n",
        "import tensorflow as tf\n",
        "tf.__version__\n",
        "import tensorflow as tf"
      ],
      "execution_count": 15,
      "outputs": [
        {
          "output_type": "stream",
          "text": [
            "TensorFlow 2.x selected.\n"
          ],
          "name": "stdout"
        }
      ]
    },
    {
      "cell_type": "code",
      "metadata": {
        "id": "gQQdWm2gywBo",
        "colab_type": "code",
        "colab": {}
      },
      "source": [
        "# ML\n",
        "import pdb\n",
        "from tensorflow.keras.preprocessing.sequence import TimeseriesGenerator\n",
        "from tensorflow.keras.models import Sequential\n",
        "from tensorflow.keras import layers\n",
        "from tensorflow.keras.optimizers import RMSprop\n",
        "import matplotlib.pyplot as plt"
      ],
      "execution_count": 0,
      "outputs": []
    },
    {
      "cell_type": "code",
      "metadata": {
        "id": "JuYcJbjXKmhm",
        "colab_type": "code",
        "colab": {}
      },
      "source": [
        "X_train = np.array(train_log)\n",
        "y_train = np.array(train_log.speed)\n",
        "\n",
        "X_val = np.array(val_log)\n",
        "y_val = np.array(val_log.speed)\n",
        "\n",
        "X_test = np.array(test_log)\n",
        "y_test = np.array(test_log.speed)"
      ],
      "execution_count": 0,
      "outputs": []
    },
    {
      "cell_type": "code",
      "metadata": {
        "id": "ODFfW7yFcwlM",
        "colab_type": "code",
        "colab": {}
      },
      "source": [
        "lookback = int(24 * (60 / 15))\n",
        "\n",
        "train_gen = TimeseriesGenerator(data = X_train, targets = y_train, length = lookback)\n",
        "val_gen = TimeseriesGenerator(data = X_val, targets = y_val, length = lookback)\n",
        "test_gen = TimeseriesGenerator(data = X_test, targets = y_test, length = lookback)"
      ],
      "execution_count": 0,
      "outputs": []
    },
    {
      "cell_type": "code",
      "metadata": {
        "id": "erkUqprM1FRv",
        "colab_type": "code",
        "colab": {}
      },
      "source": [
        "x, y = train_gen[0]"
      ],
      "execution_count": 0,
      "outputs": []
    },
    {
      "cell_type": "code",
      "metadata": {
        "id": "zcCwxvc149UA",
        "colab_type": "code",
        "colab": {
          "base_uri": "https://localhost:8080/",
          "height": 35
        },
        "outputId": "4198669d-aa35-48d6-8b62-71dc153c44dc"
      },
      "source": [
        ""
      ],
      "execution_count": 35,
      "outputs": [
        {
          "output_type": "execute_result",
          "data": {
            "text/plain": [
              "(128, 96, 10)"
            ]
          },
          "metadata": {
            "tags": []
          },
          "execution_count": 35
        }
      ]
    },
    {
      "cell_type": "code",
      "metadata": {
        "id": "nAaw6vD6N3n3",
        "colab_type": "code",
        "colab": {}
      },
      "source": [
        ""
      ],
      "execution_count": 0,
      "outputs": []
    },
    {
      "cell_type": "code",
      "metadata": {
        "id": "wPmUXqP0N3rl",
        "colab_type": "code",
        "outputId": "14b44e67-a232-422b-d8a8-27de5651831e",
        "colab": {
          "base_uri": "https://localhost:8080/",
          "height": 1000
        }
      },
      "source": [
        "############## Define Neural Network Class ##############\n",
        "class neural_net(tf.keras.Model):\n",
        "    def __init__(self, lookback = 24, regularization = 1e-6): #You can choose to have more input here! E.g. number of neurons.\n",
        "        super(neural_net, self).__init__()\n",
        "\n",
        "        #Define l2 regularization\n",
        "        self.regularization = regularization\n",
        "        regu = tf.keras.regularizers.l2(self.regularization)\n",
        "\n",
        "        self.lookback = lookback\n",
        "\n",
        "        #Define discrete feature layers\n",
        "        self.discrete_flatten = tf.keras.layers.Flatten()\n",
        "        self.discrete_prelu1 = tf.keras.layers.PReLU()\n",
        "        self.discrete_dense1 = tf.keras.layers.Dense(32, activation = 'linear', use_bias = True, kernel_regularizer =  regu)\n",
        "        self.discrete_prelu2 = tf.keras.layers.PReLU()\n",
        "\n",
        "        #Define time feature Layers\n",
        "        self.time_conv1 = tf.keras.layers.Conv1D(filters = 32, kernel_size = (1), use_bias = True, kernel_regularizer = regu)\n",
        "        self.time_prelu1 = tf.keras.layers.PReLU()\n",
        "        self.time_lstm1 = tf.keras.layers.LSTM(32, dropout = 0.1, recurrent_dropout = 0.5, input_shape = (self.lookback, 32), kernel_regularizer = regu)\n",
        "        self.time_prelu2 = tf.keras.layers.PReLU()\n",
        "        \n",
        "\n",
        "        #Define Merged layers\n",
        "        self.dense1 = tf.keras.layers.Dense(1, activation = 'linear', use_bias = True, kernel_regularizer = regu)\n",
        "\n",
        "    #Define the forward propagation\n",
        "    def call(self, inputs):\n",
        "        \n",
        "        #Split time and discrete inputs\n",
        "        x_time = inputs[:, :, :-3]\n",
        "        x_discrete = inputs[:, :, -3:]\n",
        "        #Run discrete layers\n",
        "        x_discrete = self.discrete_flatten(x_discrete)\n",
        "        x_discrete = self.discrete_prelu1(x_discrete)\n",
        "        x_discrete = self.discrete_dense1(x_discrete)\n",
        "        x_discrete = self.discrete_prelu2(x_discrete)\n",
        "\n",
        "        #Run time layers\n",
        "        x_time = self.time_conv1(x_time)\n",
        "        x_time = self.time_prelu1(x_time)\n",
        "        x_time = self.time_lstm1(x_time)\n",
        "        x_time = self.time_prelu2(x_time)\n",
        "\n",
        "        #Concat layers\n",
        "        x = tf.concat([x_time, x_discrete], axis = 1)\n",
        "        x = self.dense1(x)\n",
        "        \n",
        "        #Return output\n",
        "        return x\n",
        "\n",
        "#Create an instance of you neural network model\n",
        "model = neural_net(lookback = 24 * 4, regularization = 1e-6)\n",
        "\n",
        "#Define optimizer\n",
        "optimizer = tf.keras.optimizers.Adam(learning_rate = 1e-3)\n",
        "\n",
        "#Define loss function\n",
        "mse_loss_fn = tf.keras.losses.MeanSquaredError()\n",
        "\n",
        "#Compile model\n",
        "model.compile(optimizer = optimizer, loss = mse_loss_fn)\n",
        "\n",
        "#Train model\n",
        "history = model.fit(train_gen, validation_data = val_gen, epochs = 20)\n",
        "train_loss, val_loss = history.history['loss'], history.history['val_loss']\n",
        "\n",
        "#Evaluate on test set\n",
        "test_loss = model.evaluate(test_gen)\n",
        "print('Test Loss: ' + str(test_loss))\n",
        "\n",
        "\n",
        "#Plot test and validation loss\n",
        "plt.figure(figsize = (5, 5))\n",
        "plt.semilogy(train_loss, lw = 1.4)\n",
        "plt.semilogy(val_loss, lw = 1.4)\n",
        "plt.legend(['Train Loss', 'Val Loss'])\n",
        "plt.grid(True)\n",
        "plt.title('Train Loss')\n",
        "plt.show()"
      ],
      "execution_count": 39,
      "outputs": [
        {
          "output_type": "stream",
          "text": [
            "WARNING:tensorflow:sample_weight modes were coerced from\n",
            "  ...\n",
            "    to  \n",
            "  ['...']\n",
            "Train for 273 steps, validate for 273 steps\n",
            "Epoch 1/20\n",
            "273/273 [==============================] - 69s 252ms/step - loss: 0.4704 - val_loss: 0.0205\n",
            "Epoch 2/20\n",
            "273/273 [==============================] - 59s 217ms/step - loss: 0.0219 - val_loss: 0.0267\n",
            "Epoch 3/20\n",
            "273/273 [==============================] - 60s 218ms/step - loss: 0.0173 - val_loss: 0.0156\n",
            "Epoch 4/20\n",
            "273/273 [==============================] - 60s 218ms/step - loss: 0.0180 - val_loss: 0.0191\n",
            "Epoch 5/20\n",
            "273/273 [==============================] - 59s 215ms/step - loss: 0.0184 - val_loss: 0.0178\n",
            "Epoch 6/20\n",
            "273/273 [==============================] - 60s 219ms/step - loss: 0.0224 - val_loss: 0.0137\n",
            "Epoch 7/20\n",
            "273/273 [==============================] - 60s 218ms/step - loss: 0.0120 - val_loss: 0.0121\n",
            "Epoch 8/20\n",
            "273/273 [==============================] - 59s 218ms/step - loss: 0.0109 - val_loss: 0.0127\n",
            "Epoch 9/20\n",
            "273/273 [==============================] - 60s 219ms/step - loss: 0.0201 - val_loss: 0.0157\n",
            "Epoch 10/20\n",
            "273/273 [==============================] - 59s 215ms/step - loss: 0.0186 - val_loss: 0.0271\n",
            "Epoch 11/20\n",
            "273/273 [==============================] - 60s 221ms/step - loss: 0.0143 - val_loss: 0.0121\n",
            "Epoch 12/20\n",
            "273/273 [==============================] - 60s 219ms/step - loss: 0.0094 - val_loss: 0.0111\n",
            "Epoch 13/20\n",
            "273/273 [==============================] - 58s 214ms/step - loss: 0.0075 - val_loss: 0.0108\n",
            "Epoch 14/20\n",
            "273/273 [==============================] - 59s 216ms/step - loss: 0.0075 - val_loss: 0.0120\n",
            "Epoch 15/20\n",
            "273/273 [==============================] - 59s 215ms/step - loss: 0.0080 - val_loss: 0.0143\n",
            "Epoch 16/20\n",
            "273/273 [==============================] - 60s 218ms/step - loss: 0.0102 - val_loss: 0.0288\n",
            "Epoch 17/20\n",
            "273/273 [==============================] - 61s 222ms/step - loss: 0.0121 - val_loss: 0.0116\n",
            "Epoch 18/20\n",
            "273/273 [==============================] - 60s 220ms/step - loss: 0.0087 - val_loss: 0.0123\n",
            "Epoch 19/20\n",
            "273/273 [==============================] - 59s 218ms/step - loss: 0.0114 - val_loss: 0.0120\n",
            "Epoch 20/20\n",
            "273/273 [==============================] - 60s 218ms/step - loss: 0.0066 - val_loss: 0.0135\n",
            "WARNING:tensorflow:sample_weight modes were coerced from\n",
            "  ...\n",
            "    to  \n",
            "  ['...']\n",
            "272/272 [==============================] - 10s 37ms/step - loss: 0.0226\n",
            "Test Loss: 0.022628936755020677\n"
          ],
          "name": "stdout"
        },
        {
          "output_type": "display_data",
          "data": {
            "image/png": "[encoded data removed]",
            "text/plain": [
              "<Figure size 360x360 with 1 Axes>"
            ]
          },
          "metadata": {
            "tags": []
          }
        }
      ]
    },
    {
      "cell_type": "code",
      "metadata": {
        "id": "gg96cQGwN3vl",
        "colab_type": "code",
        "colab": {}
      },
      "source": [
        "val_pred = model.predict(val_gen)"
      ],
      "execution_count": 0,
      "outputs": []
    },
    {
      "cell_type": "code",
      "metadata": {
        "id": "ro9ZbLYMN3zV",
        "colab_type": "code",
        "colab": {}
      },
      "source": [
        "predictions = pd.DataFrame(data = np.exp(val_log.iloc[lookback:, 0].values), index = val_log[lookback:].index, columns = ['True speed'])"
      ],
      "execution_count": 0,
      "outputs": []
    },
    {
      "cell_type": "code",
      "metadata": {
        "id": "Ob63LW74JU3X",
        "colab_type": "code",
        "colab": {}
      },
      "source": [
        "predictions['Predicted speed'] = np.exp(val_pred)"
      ],
      "execution_count": 0,
      "outputs": []
    },
    {
      "cell_type": "code",
      "metadata": {
        "id": "ndpr0s0WN33G",
        "colab_type": "code",
        "outputId": "21437448-5b6b-4c8f-d176-8deabfdb6fbb",
        "colab": {
          "base_uri": "https://localhost:8080/",
          "height": 707
        }
      },
      "source": [
        "import matplotlib as mpl\n",
        "mpl.rcParams['figure.dpi'] = 150\n",
        "\n",
        "predictions[-700:].plot(figsize = (10,5))"
      ],
      "execution_count": 51,
      "outputs": [
        {
          "output_type": "execute_result",
          "data": {
            "text/plain": [
              "<matplotlib.axes._subplots.AxesSubplot at 0x7f98e8448ac8>"
            ]
          },
          "metadata": {
            "tags": []
          },
          "execution_count": 51
        },
        {
          "output_type": "display_data",
          "data": {
            "image/png": "[encoded data removed]",
            "text/plain": [
              "<Figure size 1500x750 with 1 Axes>"
            ]
          },
          "metadata": {
            "tags": []
          }
        }
      ]
    },
    {
      "cell_type": "code",
      "metadata": {
        "id": "ixfAxXuSN362",
        "colab_type": "code",
        "outputId": "4bed4268-3893-44cc-9c06-6297bb7a5263",
        "colab": {
          "base_uri": "https://localhost:8080/",
          "height": 221
        }
      },
      "source": [
        "(filter size, batch regu, early stopping, extra (lstm) layers), speed limit, differencing"
      ],
      "execution_count": 0,
      "outputs": [
        {
          "output_type": "execute_result",
          "data": {
            "text/plain": [
              "2019-01-02 00:00:00    111.022222\n",
              "2019-01-02 00:15:00    114.088889\n",
              "2019-01-02 00:30:00    110.788889\n",
              "2019-01-02 00:45:00    113.644444\n",
              "2019-01-02 01:00:00    109.155556\n",
              "                          ...    \n",
              "2019-12-29 22:45:00    116.716667\n",
              "2019-12-29 23:00:00    116.772222\n",
              "2019-12-29 23:15:00    117.394444\n",
              "2019-12-29 23:30:00    116.366667\n",
              "2019-12-29 23:45:00    111.322222\n",
              "Freq: 15T, Name: speed, Length: 34752, dtype: float64"
            ]
          },
          "metadata": {
            "tags": []
          },
          "execution_count": 52
        }
      ]
    },
    {
      "cell_type": "code",
      "metadata": {
        "id": "xGw0tlmWN3-2",
        "colab_type": "code",
        "colab": {}
      },
      "source": [
        "test_log"
      ],
      "execution_count": 0,
      "outputs": []
    },
    {
      "cell_type": "code",
      "metadata": {
        "id": "xTTLhMlVN4CW",
        "colab_type": "code",
        "colab": {}
      },
      "source": [
        ""
      ],
      "execution_count": 0,
      "outputs": []
    },
    {
      "cell_type": "code",
      "metadata": {
        "id": "wuqAPMP2-8B0",
        "colab_type": "code",
        "colab": {}
      },
      "source": [
        ""
      ],
      "execution_count": 0,
      "outputs": []
    },
    {
      "cell_type": "code",
      "metadata": {
        "id": "iWC-l8yuFlAW",
        "colab_type": "code",
        "colab": {}
      },
      "source": [
        ""
      ],
      "execution_count": 0,
      "outputs": []
    },
    {
      "cell_type": "code",
      "metadata": {
        "id": "pG85R_7MLetY",
        "colab_type": "code",
        "colab": {}
      },
      "source": [
        ""
      ],
      "execution_count": 0,
      "outputs": []
    },
    {
      "cell_type": "code",
      "metadata": {
        "id": "AlAEOJCjLofK",
        "colab_type": "code",
        "colab": {}
      },
      "source": [
        ""
      ],
      "execution_count": 0,
      "outputs": []
    },
    {
      "cell_type": "code",
      "metadata": {
        "id": "ICPGB835Ly87",
        "colab_type": "code",
        "colab": {}
      },
      "source": [
        ""
      ],
      "execution_count": 0,
      "outputs": []
    },
    {
      "cell_type": "code",
      "metadata": {
        "id": "V5BNLq6NKH4-",
        "colab_type": "code",
        "outputId": "69636917-5aa1-43ef-897c-6b8414aad384",
        "colab": {
          "base_uri": "https://localhost:8080/",
          "height": 294
        }
      },
      "source": [
        "#PLOT\n",
        "preds.plot()"
      ],
      "execution_count": 0,
      "outputs": [
        {
          "output_type": "execute_result",
          "data": {
            "text/plain": [
              "<matplotlib.axes._subplots.AxesSubplot at 0x7fc83c8c3e80>"
            ]
          },
          "metadata": {
            "tags": []
          },
          "execution_count": 44
        },
        {
          "output_type": "display_data",
          "data": {
            "image/png": "[encoded data removed]",
            "text/plain": [
              "<Figure size 432x288 with 1 Axes>"
            ]
          },
          "metadata": {
            "tags": []
          }
        }
      ]
    },
    {
      "cell_type": "code",
      "metadata": {
        "id": "NFWO6Z41LWrN",
        "colab_type": "code",
        "outputId": "9437745e-ec20-42bd-833f-beeaa3c2688d",
        "colab": {
          "base_uri": "https://localhost:8080/",
          "height": 297
        }
      },
      "source": [
        "preds.describe()"
      ],
      "execution_count": 0,
      "outputs": [
        {
          "output_type": "execute_result",
          "data": {
            "text/html": [
              "<div>\n",
              "<style scoped>\n",
              "    .dataframe tbody tr th:only-of-type {\n",
              "        vertical-align: middle;\n",
              "    }\n",
              "\n",
              "    .dataframe tbody tr th {\n",
              "        vertical-align: top;\n",
              "    }\n",
              "\n",
              "    .dataframe thead th {\n",
              "        text-align: right;\n",
              "    }\n",
              "</style>\n",
              "<table border=\"1\" class=\"dataframe\">\n",
              "  <thead>\n",
              "    <tr style=\"text-align: right;\">\n",
              "      <th></th>\n",
              "      <th>True</th>\n",
              "      <th>Prediction</th>\n",
              "    </tr>\n",
              "  </thead>\n",
              "  <tbody>\n",
              "    <tr>\n",
              "      <th>count</th>\n",
              "      <td>8712.000000</td>\n",
              "      <td>8702.000000</td>\n",
              "    </tr>\n",
              "    <tr>\n",
              "      <th>mean</th>\n",
              "      <td>102.937465</td>\n",
              "      <td>104.151741</td>\n",
              "    </tr>\n",
              "    <tr>\n",
              "      <th>std</th>\n",
              "      <td>10.748936</td>\n",
              "      <td>5.751995</td>\n",
              "    </tr>\n",
              "    <tr>\n",
              "      <th>min</th>\n",
              "      <td>22.254722</td>\n",
              "      <td>98.989693</td>\n",
              "    </tr>\n",
              "    <tr>\n",
              "      <th>25%</th>\n",
              "      <td>97.910625</td>\n",
              "      <td>99.393486</td>\n",
              "    </tr>\n",
              "    <tr>\n",
              "      <th>50%</th>\n",
              "      <td>99.273889</td>\n",
              "      <td>100.403145</td>\n",
              "    </tr>\n",
              "    <tr>\n",
              "      <th>75%</th>\n",
              "      <td>113.051944</td>\n",
              "      <td>110.907471</td>\n",
              "    </tr>\n",
              "    <tr>\n",
              "      <th>max</th>\n",
              "      <td>120.000000</td>\n",
              "      <td>115.989548</td>\n",
              "    </tr>\n",
              "  </tbody>\n",
              "</table>\n",
              "</div>"
            ],
            "text/plain": [
              "              True   Prediction\n",
              "count  8712.000000  8702.000000\n",
              "mean    102.937465   104.151741\n",
              "std      10.748936     5.751995\n",
              "min      22.254722    98.989693\n",
              "25%      97.910625    99.393486\n",
              "50%      99.273889   100.403145\n",
              "75%     113.051944   110.907471\n",
              "max     120.000000   115.989548"
            ]
          },
          "metadata": {
            "tags": []
          },
          "execution_count": 45
        }
      ]
    },
    {
      "cell_type": "code",
      "metadata": {
        "id": "clwQ_6xwI8Pm",
        "colab_type": "code",
        "colab": {}
      },
      "source": [
        ""
      ],
      "execution_count": 0,
      "outputs": []
    },
    {
      "cell_type": "code",
      "metadata": {
        "id": "MUOSYFh1I8TE",
        "colab_type": "code",
        "colab": {}
      },
      "source": [
        ""
      ],
      "execution_count": 0,
      "outputs": []
    },
    {
      "cell_type": "code",
      "metadata": {
        "id": "Y3ov3g2qI8WE",
        "colab_type": "code",
        "colab": {}
      },
      "source": [
        ""
      ],
      "execution_count": 0,
      "outputs": []
    },
    {
      "cell_type": "code",
      "metadata": {
        "id": "yrEWjpoqI8Y1",
        "colab_type": "code",
        "colab": {}
      },
      "source": [
        ""
      ],
      "execution_count": 0,
      "outputs": []
    },
    {
      "cell_type": "code",
      "metadata": {
        "id": "_g2db9eVI8bl",
        "colab_type": "code",
        "colab": {}
      },
      "source": [
        ""
      ],
      "execution_count": 0,
      "outputs": []
    },
    {
      "cell_type": "code",
      "metadata": {
        "id": "FSrIoMeJI8eU",
        "colab_type": "code",
        "colab": {}
      },
      "source": [
        "## Min-max scaling (old stuff)\n",
        "def calc_mean(df, col):\n",
        "    # mean(100), mean(120)\n",
        "    return df.groupby(['speed_limit'])[col].mean().values\n",
        "\n",
        "def calc_sd(df, col):\n",
        "    # sd(100), sd(120)\n",
        "    return df.groupby(['speed_limit'])[col].std().values\n",
        "\n",
        "def normalize_df(df, cols):\n",
        "    copy = df.copy()\n",
        "    for col in cols:\n",
        "        # Find mean and sd for column\n",
        "        mean100, mean120 = calc_mean(copy, col)\n",
        "        sd100, sd120 = calc_sd(copy, col)\n",
        "        copy[col] = np.where(copy.speed_limit == 100, (copy[col] - mean100) / sd100, (copy[col] - mean120) / sd120)\n",
        "    return copy\n",
        "\n",
        "\n",
        "train_norm = normalize_df(train_log, cols[:-1])\n",
        "val_norm = normalize_df(val_log, cols[:-1])\n",
        "\n",
        "train2 = train.speed.values\n",
        "train2 = train2.reshape(-1, 1)\n",
        "\n",
        "val2 = val.speed.values\n",
        "val2 = val2.reshape(-1, 1)\n",
        "\n",
        "test2 = test.speed.values\n",
        "test2 = test2.reshape(-1, 1)\n",
        "\n",
        "from sklearn.preprocessing import MinMaxScaler\n",
        "\n",
        "scaler = MinMaxScaler()\n",
        "scaler.fit(train2)\n",
        "\n",
        "train.loc[:, 'speed'] = scaler.transform(train2)\n",
        "val.loc[:, 'speed'] = scaler.transform(val2)\n",
        "\n",
        "test_data = test.iloc[:, 0].values\n",
        "test_data = np.reshape(test_data, (-1, 1))\n",
        "test_data = scaler.transform(test2)"
      ],
      "execution_count": 0,
      "outputs": []
    },
    {
      "cell_type": "code",
      "metadata": {
        "id": "eKHi8XhHI8hE",
        "colab_type": "code",
        "colab": {}
      },
      "source": [
        ""
      ],
      "execution_count": 0,
      "outputs": []
    },
    {
      "cell_type": "code",
      "metadata": {
        "id": "v4PaSprAI8j1",
        "colab_type": "code",
        "colab": {}
      },
      "source": [
        ""
      ],
      "execution_count": 0,
      "outputs": []
    },
    {
      "cell_type": "code",
      "metadata": {
        "id": "uWYkwdB6I8mU",
        "colab_type": "code",
        "colab": {}
      },
      "source": [
        ""
      ],
      "execution_count": 0,
      "outputs": []
    }
  ]
}