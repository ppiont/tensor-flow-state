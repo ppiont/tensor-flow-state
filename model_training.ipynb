{
  "nbformat": 4,
  "nbformat_minor": 0,
  "metadata": {
    "colab": {
      "name": "Model_training.ipynb",
      "provenance": [],
      "machine_shape": "hm",
      "authorship_tag": "ABX9TyM6jFqbrFkCuxpyYboet0mU",
      "include_colab_link": true
    },
    "kernelspec": {
      "name": "python3",
      "display_name": "Python 3"
    },
    "accelerator": "GPU"
  },
  "cells": [
    {
      "cell_type": "markdown",
      "metadata": {
        "id": "view-in-github",
        "colab_type": "text"
      },
      "source": [
        "<a href=\"https://colab.research.google.com/github/ppiont/tensor-flow-state/blob/master/model_training.ipynb\" target=\"_parent\"><img src=\"https://colab.research.google.com/assets/colab-badge.svg\" alt=\"Open In Colab\"/></a>"
      ]
    },
    {
      "cell_type": "code",
      "metadata": {
        "id": "vSuzkeZcM2UE",
        "colab_type": "code",
        "outputId": "42a757f6-fd19-460a-effc-59f4acaa7889",
        "colab": {
          "base_uri": "https://localhost:8080/",
          "height": 34
        }
      },
      "source": [
        "from google.colab import drive\n",
        "drive.mount(\"/gdrive\", force_remount = True)"
      ],
      "execution_count": 1,
      "outputs": [
        {
          "output_type": "stream",
          "text": [
            "Mounted at /gdrive\n"
          ],
          "name": "stdout"
        }
      ]
    },
    {
      "cell_type": "code",
      "metadata": {
        "id": "lBC4ZppZNC3c",
        "colab_type": "code",
        "outputId": "c8430b0c-15c8-4f07-cbed-41b991ec4cf7",
        "colab": {
          "base_uri": "https://localhost:8080/",
          "height": 34
        }
      },
      "source": [
        "%cd \"/gdrive/My Drive/tensor-flow-state/tensor-flow-state\""
      ],
      "execution_count": 2,
      "outputs": [
        {
          "output_type": "stream",
          "text": [
            "/gdrive/My Drive/tensor-flow-state/tensor-flow-state\n"
          ],
          "name": "stdout"
        }
      ]
    },
    {
      "cell_type": "code",
      "metadata": {
        "id": "NKD3KY8hNEqo",
        "colab_type": "code",
        "colab": {}
      },
      "source": [
        "import pandas as pd\n",
        "df = pd.read_csv(\"data/df_imputed_week_shift.csv\", index_col = 0, parse_dates = True)"
      ],
      "execution_count": 0,
      "outputs": []
    },
    {
      "cell_type": "code",
      "metadata": {
        "id": "kzVAi95GfcBW",
        "colab_type": "code",
        "colab": {}
      },
      "source": [
        "cols = [\"speed\", \"flow\", \"speed_-2\", \"speed_-1\",\"speed_+1\", \"speed_+2\", \"flow_-2\", \"flow_-1\", \"flow_+1\", \"flow_+2\", \"speed_limit\"]\n",
        "speed_cols = [\"speed\", \"speed_-2\", \"speed_-1\",\"speed_+1\", \"speed_+2\"]\n",
        "flow_cols = [\"flow\", \"flow_-2\", \"flow_-1\", \"flow_+1\", \"flow_+2\"]"
      ],
      "execution_count": 0,
      "outputs": []
    },
    {
      "cell_type": "markdown",
      "metadata": {
        "id": "Uh4evfBugwJa",
        "colab_type": "text"
      },
      "source": [
        "### First resample to elmininate some noise"
      ]
    },
    {
      "cell_type": "code",
      "metadata": {
        "id": "FVkBrcJDhVxA",
        "colab_type": "code",
        "colab": {}
      },
      "source": [
        "import numpy as np\n",
        "def resample_df(df, freq = \"10T\", method_speed = np.mean, method_flow = np.sum):\n",
        "    copied = df.copy()\n",
        "    copied = copied.resample(freq).agg({\n",
        "           \"speed\": method_speed, \"speed_-2\": method_speed, \"speed_-1\": method_speed, \"speed_+1\": method_speed, \"speed_+2\": method_speed,\n",
        "           \"flow\": method_flow, \"flow_-2\": method_flow, \"flow_-1\": method_flow, \"flow_+1\": method_flow, \"flow_+2\": method_flow,\n",
        "           \"speed_limit\": np.median})\n",
        "    return copied"
      ],
      "execution_count": 0,
      "outputs": []
    },
    {
      "cell_type": "code",
      "metadata": {
        "id": "NJyIniCBhWIc",
        "colab_type": "code",
        "colab": {}
      },
      "source": [
        "r_df = resample_df(df, freq = \"H\")"
      ],
      "execution_count": 0,
      "outputs": []
    },
    {
      "cell_type": "markdown",
      "metadata": {
        "id": "_M66yh3ektP7",
        "colab_type": "text"
      },
      "source": [
        "### Train test split. The final year is reserved for testing. (Val will be relevant later?)"
      ]
    },
    {
      "cell_type": "code",
      "metadata": {
        "id": "Bibzm8V9kN0x",
        "colab_type": "code",
        "colab": {}
      },
      "source": [
        "def train_val_test_split(df, val_year, test_year):\n",
        "    # train, test\n",
        "    return df[(df.index.year != val_year) & (df.index.year != test_year)].copy(), df[df.index.year == val_year].copy(), df[df.index.year == test_year].copy()"
      ],
      "execution_count": 0,
      "outputs": []
    },
    {
      "cell_type": "code",
      "metadata": {
        "id": "rSeGBQtNq2GC",
        "colab_type": "code",
        "colab": {}
      },
      "source": [
        "train, val, test = train_val_test_split(r_df, 2018, 2019)"
      ],
      "execution_count": 0,
      "outputs": []
    },
    {
      "cell_type": "code",
      "metadata": {
        "id": "mg0cV2qpcvuQ",
        "colab_type": "code",
        "colab": {}
      },
      "source": [
        ""
      ],
      "execution_count": 0,
      "outputs": []
    },
    {
      "cell_type": "code",
      "metadata": {
        "id": "f2w6qKo6cvyo",
        "colab_type": "code",
        "colab": {}
      },
      "source": [
        ""
      ],
      "execution_count": 0,
      "outputs": []
    },
    {
      "cell_type": "code",
      "metadata": {
        "id": "nRftDaC5cuuv",
        "colab_type": "code",
        "colab": {}
      },
      "source": [
        "import numpy as np\n",
        "def log_transform(df):\n",
        "    copy = df.copy()\n",
        "    return np.log(copy.iloc[:, :-1].replace(0, 1e-15)).join(df.iloc[:, -1], how = 'inner')\n",
        "\n",
        "# Log transform. First set 0s to very low value 'cause you can't log 0.\n",
        "train_log = log_transform(train)\n",
        "val_log = log_transform(val)"
      ],
      "execution_count": 0,
      "outputs": []
    },
    {
      "cell_type": "code",
      "metadata": {
        "id": "sNoOO27FpHyP",
        "colab_type": "code",
        "colab": {}
      },
      "source": [
        "def calc_mean(df, col):\n",
        "    # mean(100), mean(120)\n",
        "    return df.groupby(['speed_limit'])[col].mean().values\n",
        "\n",
        "def calc_sd(df, col):\n",
        "    # sd(100), sd(120)\n",
        "    return df.groupby(['speed_limit'])[col].std().values\n",
        "\n",
        "def normalize_df(df, cols):\n",
        "    copy = df.copy()\n",
        "    for col in cols:\n",
        "        # Find mean and sd for column\n",
        "        mean100, mean120 = calc_mean(copy, col)\n",
        "        sd100, sd120 = calc_sd(copy, col)\n",
        "        copy[col] = np.where(copy.speed_limit == 100, (copy[col] - mean100) / sd100, (copy[col] - mean120) / sd120)\n",
        "    return copy"
      ],
      "execution_count": 0,
      "outputs": []
    },
    {
      "cell_type": "code",
      "metadata": {
        "id": "gQQdWm2gywBo",
        "colab_type": "code",
        "colab": {}
      },
      "source": [
        "train_norm = normalize_df(train_log, cols[:-1])\n",
        "val_norm = normalize_df(val_log, cols[:-1])"
      ],
      "execution_count": 0,
      "outputs": []
    },
    {
      "cell_type": "code",
      "metadata": {
        "id": "akVMwafecwht",
        "colab_type": "code",
        "colab": {}
      },
      "source": [
        ""
      ],
      "execution_count": 0,
      "outputs": []
    },
    {
      "cell_type": "code",
      "metadata": {
        "id": "mIICNYh-8_7f",
        "colab_type": "code",
        "colab": {}
      },
      "source": [
        ""
      ],
      "execution_count": 0,
      "outputs": []
    },
    {
      "cell_type": "code",
      "metadata": {
        "id": "ODFfW7yFcwlM",
        "colab_type": "code",
        "colab": {}
      },
      "source": [
        "train2 = train.speed.values\n",
        "train2 = train2.reshape(-1, 1)\n",
        "\n",
        "val2 = val.speed.values\n",
        "val2 = val2.reshape(-1, 1)\n",
        "\n",
        "test2 = test.speed.values\n",
        "test2 = test2.reshape(-1, 1)"
      ],
      "execution_count": 0,
      "outputs": []
    },
    {
      "cell_type": "code",
      "metadata": {
        "id": "x3Ri9JhvgaMv",
        "colab_type": "code",
        "colab": {}
      },
      "source": [
        "from sklearn.preprocessing import MinMaxScaler\n",
        "\n",
        "scaler = MinMaxScaler()\n",
        "scaler.fit(train2)\n",
        "\n",
        "train.loc[:, 'speed'] = scaler.transform(train2)\n",
        "val.loc[:, 'speed'] = scaler.transform(val2)\n",
        "\n",
        "test_data = test.iloc[:, 0].values\n",
        "test_data = np.reshape(test_data, (-1, 1))\n",
        "test_data = scaler.transform(test2)"
      ],
      "execution_count": 0,
      "outputs": []
    },
    {
      "cell_type": "code",
      "metadata": {
        "id": "5DN1QmhV3D7u",
        "colab_type": "code",
        "colab": {}
      },
      "source": [
        "# Generates sequential 3D batches to feed to the model\n",
        "def generator(data, lookback, delay, min_index = 0, max_index = None, \n",
        "              shuffle = False, batch_size = 128, step = 1, target_col = 0):\n",
        "    # If max index not given, subtract prediction horizon - 1 (len to index) from last data point\n",
        "    if max_index is None:\n",
        "        max_index = len(data) - delay - 1\n",
        "    # Set i to first idx with valid lookback length behind it\n",
        "    i = min_index + lookback\n",
        "    while 1:\n",
        "        # Use shuffle for non-sequential data\n",
        "        if shuffle:\n",
        "            rows = np.random.randint(\n",
        "                min_index + lookback, max_index, size = batch_size)\n",
        "        # Else for sequential (time series)\n",
        "        else:\n",
        "            # Check if adding batch exceeds index bounds\n",
        "            if i + batch_size >= max_index:\n",
        "                # Return i to beginning\n",
        "                i = min_index + lookback\n",
        "            # Select next valid row range\n",
        "            rows = np.arange(i, min(i + batch_size, max_index))\n",
        "            # Increment i\n",
        "            i += len(rows)\n",
        "        # Initialize sample and target arrays\n",
        "        samples = np.zeros((len(rows),\n",
        "                            lookback // step,\n",
        "                            np.shape(data)[-1]))\n",
        "        targets = np.zeros((len(rows),))\n",
        "        # Generate samples, targets\n",
        "        for j, row in enumerate(rows):\n",
        "            indices = range(rows[j] - lookback, rows[j], step)\n",
        "            samples[j] = data[indices]\n",
        "            targets[j] = data[rows[j] + delay][target_col]\n",
        "        yield samples, targets"
      ],
      "execution_count": 0,
      "outputs": []
    },
    {
      "cell_type": "code",
      "metadata": {
        "id": "FZiZrx0VpWia",
        "colab_type": "code",
        "colab": {}
      },
      "source": [
        "lookback = 24\n",
        "delay = 1"
      ],
      "execution_count": 0,
      "outputs": []
    },
    {
      "cell_type": "code",
      "metadata": {
        "id": "IlfIKDZ634p9",
        "colab_type": "code",
        "colab": {}
      },
      "source": [
        "# Generator 'settings'\n",
        "\n",
        "train_data = train.iloc[:, 0].values\n",
        "train_data = np.reshape(train_data, (-1, 1))\n",
        "\n",
        "\n",
        "step = 1\n",
        "batch_size = 128\n",
        "min_index_train = 0\n",
        "max_index_train = len(train_data)\n",
        "train_gen = generator(train_data,\n",
        "                      lookback = lookback,\n",
        "                      delay = delay,\n",
        "                      min_index = min_index_train,\n",
        "                      max_index = max_index_train,\n",
        "                      step = step, \n",
        "                      batch_size = batch_size,\n",
        "                      target_col = 0)\n",
        "\n",
        "\n",
        "val_data = val.iloc[:, 0].values\n",
        "val_data = np.reshape(val_data, (-1, 1))\n",
        "\n",
        "min_index_val = 0\n",
        "max_index_val = len(val_data)\n",
        "val_gen = generator(val_data,\n",
        "                      lookback = lookback,\n",
        "                      delay = delay,\n",
        "                      min_index = min_index_val,\n",
        "                      max_index = max_index_val,\n",
        "                      step = step, \n",
        "                      batch_size = batch_size,\n",
        "                      target_col = 0)\n",
        "\n",
        "\n",
        "min_index_test = 0\n",
        "max_index_test = len(test_data)\n",
        "test_gen = generator(test_data,\n",
        "                      lookback = lookback,\n",
        "                      delay = delay,\n",
        "                      min_index = min_index_test,\n",
        "                      max_index = max_index_test,\n",
        "                      step = step, \n",
        "                      batch_size = batch_size,\n",
        "                      target_col = 0)\n"
      ],
      "execution_count": 0,
      "outputs": []
    },
    {
      "cell_type": "code",
      "metadata": {
        "id": "OoW9MvRG5b_i",
        "colab_type": "code",
        "outputId": "36a2ed60-d5ae-4ecc-e0af-445d85cba943",
        "colab": {
          "base_uri": "https://localhost:8080/",
          "height": 51
        }
      },
      "source": [
        "try:\n",
        "  %tensorflow_version 2.x\n",
        "except Exception:\n",
        "  pass\n",
        "\n",
        "import tensorflow as tf\n",
        "tf.__version__"
      ],
      "execution_count": 14,
      "outputs": [
        {
          "output_type": "stream",
          "text": [
            "TensorFlow 2.x selected.\n"
          ],
          "name": "stdout"
        },
        {
          "output_type": "execute_result",
          "data": {
            "text/plain": [
              "'2.1.0-rc1'"
            ]
          },
          "metadata": {
            "tags": []
          },
          "execution_count": 14
        }
      ]
    },
    {
      "cell_type": "code",
      "metadata": {
        "id": "5dXjc7sZ4pOW",
        "colab_type": "code",
        "colab": {}
      },
      "source": [
        "# ML\n",
        "from tensorflow.keras.models import Sequential\n",
        "from tensorflow.keras import layers\n",
        "from tensorflow.keras.optimizers import RMSprop"
      ],
      "execution_count": 0,
      "outputs": []
    },
    {
      "cell_type": "code",
      "metadata": {
        "id": "GmPmSOtpxx7O",
        "colab_type": "code",
        "colab": {}
      },
      "source": [
        "# Train Stacked LSTM with Dropout\n",
        "model = Sequential()\n",
        "model.add(layers.Conv1D(filters = 32, kernel_size = (1), activation = 'relu', input_shape = (lookback, 1)))\n",
        "model.add(layers.LSTM(32,\n",
        "                      dropout = 0.1,\n",
        "                      recurrent_dropout = 0.5,\n",
        "                      input_shape = (lookback, 32)))\n",
        "model.add(layers.Dense(1))"
      ],
      "execution_count": 0,
      "outputs": []
    },
    {
      "cell_type": "code",
      "metadata": {
        "id": "W1DTzCXW7KSj",
        "colab_type": "code",
        "colab": {}
      },
      "source": [
        "model.compile(optimizer = RMSprop(learning_rate = 0.001), loss = 'mae', metrics = ['mae', 'mse'])"
      ],
      "execution_count": 0,
      "outputs": []
    },
    {
      "cell_type": "code",
      "metadata": {
        "id": "25uTTd6c8EaW",
        "colab_type": "code",
        "outputId": "298d3574-d7ac-44e3-d6d4-4221f4a58c68",
        "colab": {
          "base_uri": "https://localhost:8080/",
          "height": 255
        }
      },
      "source": [
        "model.summary()"
      ],
      "execution_count": 18,
      "outputs": [
        {
          "output_type": "stream",
          "text": [
            "Model: \"sequential\"\n",
            "_________________________________________________________________\n",
            "Layer (type)                 Output Shape              Param #   \n",
            "=================================================================\n",
            "conv1d (Conv1D)              (None, 24, 32)            64        \n",
            "_________________________________________________________________\n",
            "lstm (LSTM)                  (None, 32)                8320      \n",
            "_________________________________________________________________\n",
            "dense (Dense)                (None, 1)                 33        \n",
            "=================================================================\n",
            "Total params: 8,417\n",
            "Trainable params: 8,417\n",
            "Non-trainable params: 0\n",
            "_________________________________________________________________\n"
          ],
          "name": "stdout"
        }
      ]
    },
    {
      "cell_type": "code",
      "metadata": {
        "id": "CaA_aspq7BZJ",
        "colab_type": "code",
        "outputId": "7c3358ec-e6a1-43cc-8fe7-97e0431f4c5a",
        "colab": {
          "base_uri": "https://localhost:8080/",
          "height": 850
        }
      },
      "source": [
        "history = model.fit(train_gen,\n",
        "                    steps_per_epoch = (((max_index_train + 1) // batch_size) + 1),\n",
        "                    validation_data = val_gen, validation_steps = (((max_index_val + 1) // batch_size) + 1),\n",
        "                    epochs = 20)"
      ],
      "execution_count": 19,
      "outputs": [
        {
          "output_type": "stream",
          "text": [
            "WARNING:tensorflow:sample_weight modes were coerced from\n",
            "  ...\n",
            "    to  \n",
            "  ['...']\n",
            "WARNING:tensorflow:sample_weight modes were coerced from\n",
            "  ...\n",
            "    to  \n",
            "  ['...']\n",
            "Train for 480 steps, validate for 69 steps\n",
            "Epoch 1/20\n",
            "480/480 [==============================] - 22s 46ms/step - loss: 0.0574 - mae: 0.0574 - mse: 0.0094 - val_loss: 0.0571 - val_mae: 0.0571 - val_mse: 0.0069\n",
            "Epoch 2/20\n",
            "480/480 [==============================] - 19s 40ms/step - loss: 0.0408 - mae: 0.0408 - mse: 0.0049 - val_loss: 0.0577 - val_mae: 0.0577 - val_mse: 0.0067\n",
            "Epoch 3/20\n",
            "480/480 [==============================] - 19s 39ms/step - loss: 0.0388 - mae: 0.0388 - mse: 0.0047 - val_loss: 0.0590 - val_mae: 0.0590 - val_mse: 0.0062\n",
            "Epoch 4/20\n",
            "480/480 [==============================] - 19s 39ms/step - loss: 0.0371 - mae: 0.0371 - mse: 0.0044 - val_loss: 0.0537 - val_mae: 0.0537 - val_mse: 0.0056\n",
            "Epoch 5/20\n",
            "480/480 [==============================] - 19s 39ms/step - loss: 0.0348 - mae: 0.0348 - mse: 0.0040 - val_loss: 0.0448 - val_mae: 0.0448 - val_mse: 0.0050\n",
            "Epoch 6/20\n",
            "480/480 [==============================] - 19s 39ms/step - loss: 0.0329 - mae: 0.0329 - mse: 0.0039 - val_loss: 0.0440 - val_mae: 0.0440 - val_mse: 0.0047\n",
            "Epoch 7/20\n",
            "480/480 [==============================] - 18s 38ms/step - loss: 0.0317 - mae: 0.0317 - mse: 0.0039 - val_loss: 0.0424 - val_mae: 0.0424 - val_mse: 0.0045\n",
            "Epoch 8/20\n",
            "480/480 [==============================] - 19s 39ms/step - loss: 0.0305 - mae: 0.0305 - mse: 0.0040 - val_loss: 0.0400 - val_mae: 0.0400 - val_mse: 0.0043\n",
            "Epoch 9/20\n",
            "480/480 [==============================] - 18s 38ms/step - loss: 0.0294 - mae: 0.0294 - mse: 0.0040 - val_loss: 0.0424 - val_mae: 0.0424 - val_mse: 0.0045\n",
            "Epoch 10/20\n",
            "480/480 [==============================] - 19s 39ms/step - loss: 0.0287 - mae: 0.0287 - mse: 0.0041 - val_loss: 0.0376 - val_mae: 0.0376 - val_mse: 0.0042\n",
            "Epoch 11/20\n",
            "480/480 [==============================] - 19s 39ms/step - loss: 0.0281 - mae: 0.0281 - mse: 0.0042 - val_loss: 0.0412 - val_mae: 0.0412 - val_mse: 0.0043\n",
            "Epoch 12/20\n",
            "480/480 [==============================] - 18s 38ms/step - loss: 0.0275 - mae: 0.0275 - mse: 0.0043 - val_loss: 0.0387 - val_mae: 0.0387 - val_mse: 0.0040\n",
            "Epoch 13/20\n",
            "480/480 [==============================] - 18s 38ms/step - loss: 0.0269 - mae: 0.0269 - mse: 0.0042 - val_loss: 0.0320 - val_mae: 0.0320 - val_mse: 0.0035\n",
            "Epoch 14/20\n",
            "480/480 [==============================] - 18s 38ms/step - loss: 0.0262 - mae: 0.0262 - mse: 0.0042 - val_loss: 0.0335 - val_mae: 0.0335 - val_mse: 0.0036\n",
            "Epoch 15/20\n",
            "480/480 [==============================] - 19s 39ms/step - loss: 0.0254 - mae: 0.0254 - mse: 0.0042 - val_loss: 0.0345 - val_mae: 0.0345 - val_mse: 0.0035\n",
            "Epoch 16/20\n",
            "480/480 [==============================] - 19s 39ms/step - loss: 0.0247 - mae: 0.0247 - mse: 0.0041 - val_loss: 0.0363 - val_mae: 0.0363 - val_mse: 0.0036\n",
            "Epoch 17/20\n",
            "480/480 [==============================] - 19s 40ms/step - loss: 0.0240 - mae: 0.0240 - mse: 0.0041 - val_loss: 0.0323 - val_mae: 0.0323 - val_mse: 0.0034\n",
            "Epoch 18/20\n",
            "480/480 [==============================] - 18s 38ms/step - loss: 0.0235 - mae: 0.0235 - mse: 0.0041 - val_loss: 0.0306 - val_mae: 0.0306 - val_mse: 0.0032\n",
            "Epoch 19/20\n",
            "480/480 [==============================] - 18s 38ms/step - loss: 0.0231 - mae: 0.0231 - mse: 0.0041 - val_loss: 0.0305 - val_mae: 0.0305 - val_mse: 0.0032\n",
            "Epoch 20/20\n",
            "480/480 [==============================] - 19s 39ms/step - loss: 0.0229 - mae: 0.0229 - mse: 0.0040 - val_loss: 0.0282 - val_mae: 0.0282 - val_mse: 0.0030\n"
          ],
          "name": "stdout"
        }
      ]
    },
    {
      "cell_type": "code",
      "metadata": {
        "id": "erkUqprM1FRv",
        "colab_type": "code",
        "outputId": "807ccfc9-93e0-4c52-e59a-7f26b733a00b",
        "colab": {
          "base_uri": "https://localhost:8080/",
          "height": 281
        }
      },
      "source": [
        "import matplotlib.pyplot as plt\n",
        "\n",
        "#PLOT\n",
        "loss = history.history['loss']\n",
        "val_loss = history.history['val_loss']\n",
        "epochs = range(len(loss))\n",
        "plt.figure()\n",
        "plt.plot(epochs, loss, 'bo', label='Training loss')\n",
        "plt.plot(epochs, val_loss, 'b', label='Validation loss')\n",
        "plt.title('Training and validation loss')\n",
        "plt.legend()\n",
        "plt.show()"
      ],
      "execution_count": 20,
      "outputs": [
        {
          "output_type": "display_data",
          "data": {
            "image/png": "[encoded data removed]",
            "text/plain": [
              "<Figure size 432x288 with 1 Axes>"
            ]
          },
          "metadata": {
            "tags": []
          }
        }
      ]
    },
    {
      "cell_type": "code",
      "metadata": {
        "id": "zcCwxvc149UA",
        "colab_type": "code",
        "colab": {}
      },
      "source": [
        "preds = pd.DataFrame(data = test['speed'].values, index = test.index, columns = ['True'])\n"
      ],
      "execution_count": 0,
      "outputs": []
    },
    {
      "cell_type": "code",
      "metadata": {
        "id": "wuqAPMP2-8B0",
        "colab_type": "code",
        "colab": {}
      },
      "source": [
        "Prediction = model.predict(test_gen, steps = (((max_index_test + 1) // batch_size) + 1))"
      ],
      "execution_count": 0,
      "outputs": []
    },
    {
      "cell_type": "code",
      "metadata": {
        "id": "iWC-l8yuFlAW",
        "colab_type": "code",
        "colab": {}
      },
      "source": [
        "what = scaler.inverse_transform(Prediction)"
      ],
      "execution_count": 0,
      "outputs": []
    },
    {
      "cell_type": "code",
      "metadata": {
        "id": "pG85R_7MLetY",
        "colab_type": "code",
        "colab": {}
      },
      "source": [
        "what = what[:8712]"
      ],
      "execution_count": 0,
      "outputs": []
    },
    {
      "cell_type": "code",
      "metadata": {
        "id": "AlAEOJCjLofK",
        "colab_type": "code",
        "colab": {}
      },
      "source": [
        "preds['Prediction'] = what\n",
        "preds['Prediction'] = preds['Prediction'].shift(10)"
      ],
      "execution_count": 0,
      "outputs": []
    },
    {
      "cell_type": "code",
      "metadata": {
        "id": "ICPGB835Ly87",
        "colab_type": "code",
        "colab": {}
      },
      "source": [
        ""
      ],
      "execution_count": 0,
      "outputs": []
    },
    {
      "cell_type": "code",
      "metadata": {
        "id": "V5BNLq6NKH4-",
        "colab_type": "code",
        "colab": {
          "base_uri": "https://localhost:8080/",
          "height": 294
        },
        "outputId": "69636917-5aa1-43ef-897c-6b8414aad384"
      },
      "source": [
        "#PLOT\n",
        "preds.plot()"
      ],
      "execution_count": 44,
      "outputs": [
        {
          "output_type": "execute_result",
          "data": {
            "text/plain": [
              "<matplotlib.axes._subplots.AxesSubplot at 0x7fc83c8c3e80>"
            ]
          },
          "metadata": {
            "tags": []
          },
          "execution_count": 44
        },
        {
          "output_type": "display_data",
          "data": {
            "image/png": "[encoded data removed]",
            "text/plain": [
              "<Figure size 432x288 with 1 Axes>"
            ]
          },
          "metadata": {
            "tags": []
          }
        }
      ]
    },
    {
      "cell_type": "code",
      "metadata": {
        "id": "NFWO6Z41LWrN",
        "colab_type": "code",
        "colab": {
          "base_uri": "https://localhost:8080/",
          "height": 297
        },
        "outputId": "9437745e-ec20-42bd-833f-beeaa3c2688d"
      },
      "source": [
        "preds.describe()"
      ],
      "execution_count": 45,
      "outputs": [
        {
          "output_type": "execute_result",
          "data": {
            "text/html": [
              "<div>\n",
              "<style scoped>\n",
              "    .dataframe tbody tr th:only-of-type {\n",
              "        vertical-align: middle;\n",
              "    }\n",
              "\n",
              "    .dataframe tbody tr th {\n",
              "        vertical-align: top;\n",
              "    }\n",
              "\n",
              "    .dataframe thead th {\n",
              "        text-align: right;\n",
              "    }\n",
              "</style>\n",
              "<table border=\"1\" class=\"dataframe\">\n",
              "  <thead>\n",
              "    <tr style=\"text-align: right;\">\n",
              "      <th></th>\n",
              "      <th>True</th>\n",
              "      <th>Prediction</th>\n",
              "    </tr>\n",
              "  </thead>\n",
              "  <tbody>\n",
              "    <tr>\n",
              "      <th>count</th>\n",
              "      <td>8712.000000</td>\n",
              "      <td>8702.000000</td>\n",
              "    </tr>\n",
              "    <tr>\n",
              "      <th>mean</th>\n",
              "      <td>102.937465</td>\n",
              "      <td>104.151741</td>\n",
              "    </tr>\n",
              "    <tr>\n",
              "      <th>std</th>\n",
              "      <td>10.748936</td>\n",
              "      <td>5.751995</td>\n",
              "    </tr>\n",
              "    <tr>\n",
              "      <th>min</th>\n",
              "      <td>22.254722</td>\n",
              "      <td>98.989693</td>\n",
              "    </tr>\n",
              "    <tr>\n",
              "      <th>25%</th>\n",
              "      <td>97.910625</td>\n",
              "      <td>99.393486</td>\n",
              "    </tr>\n",
              "    <tr>\n",
              "      <th>50%</th>\n",
              "      <td>99.273889</td>\n",
              "      <td>100.403145</td>\n",
              "    </tr>\n",
              "    <tr>\n",
              "      <th>75%</th>\n",
              "      <td>113.051944</td>\n",
              "      <td>110.907471</td>\n",
              "    </tr>\n",
              "    <tr>\n",
              "      <th>max</th>\n",
              "      <td>120.000000</td>\n",
              "      <td>115.989548</td>\n",
              "    </tr>\n",
              "  </tbody>\n",
              "</table>\n",
              "</div>"
            ],
            "text/plain": [
              "              True   Prediction\n",
              "count  8712.000000  8702.000000\n",
              "mean    102.937465   104.151741\n",
              "std      10.748936     5.751995\n",
              "min      22.254722    98.989693\n",
              "25%      97.910625    99.393486\n",
              "50%      99.273889   100.403145\n",
              "75%     113.051944   110.907471\n",
              "max     120.000000   115.989548"
            ]
          },
          "metadata": {
            "tags": []
          },
          "execution_count": 45
        }
      ]
    }
  ]
}