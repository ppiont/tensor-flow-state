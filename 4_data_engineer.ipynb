{
  "nbformat": 4,
  "nbformat_minor": 0,
  "metadata": {
    "colab": {
      "name": "data_engineer.ipynb",
      "provenance": [],
      "authorship_tag": "ABX9TyMH4XhY7L7anZW+BnOVqVWG",
      "include_colab_link": true
    },
    "kernelspec": {
      "name": "python3",
      "display_name": "Python 3"
    }
  },
  "cells": [
    {
      "cell_type": "markdown",
      "metadata": {
        "id": "view-in-github",
        "colab_type": "text"
      },
      "source": [
        "<a href=\"https://colab.research.google.com/github/ppiont/tensor-flow-state/blob/master/4_data_engineer.ipynb\" target=\"_parent\"><img src=\"https://colab.research.google.com/assets/colab-badge.svg\" alt=\"Open In Colab\"/></a>"
      ]
    },
    {
      "cell_type": "code",
      "metadata": {
        "id": "r8HI_G3HvLKz",
        "colab_type": "code",
        "colab": {}
      },
      "source": [
        "from google.colab import drive\n",
        "drive.mount(\"/gdrive\", force_remount = True)"
      ],
      "execution_count": 0,
      "outputs": []
    },
    {
      "cell_type": "code",
      "metadata": {
        "id": "TK0f2JVcwu9m",
        "colab_type": "code",
        "colab": {}
      },
      "source": [
        "%cd \"/gdrive/My Drive/tensor-flow-state/tensor-flow-state\""
      ],
      "execution_count": 0,
      "outputs": []
    },
    {
      "cell_type": "code",
      "metadata": {
        "id": "nPQEdJTDwvCj",
        "colab_type": "code",
        "colab": {}
      },
      "source": [
        "import pandas as pd\n",
        "df = pd.read_csv(\"data/df_imputed_week_shift.csv\", index_col = 0, parse_dates = True)"
      ],
      "execution_count": 0,
      "outputs": []
    },
    {
      "cell_type": "code",
      "metadata": {
        "id": "mtni3kQ0wvHy",
        "colab_type": "code",
        "colab": {}
      },
      "source": [
        "import holidays\n",
        "import numpy as np\n",
        "#df['holiday'] = np.array([int(x in holidays.NL()) for x in df.index]).astype(np.int16)"
      ],
      "execution_count": 0,
      "outputs": []
    },
    {
      "cell_type": "code",
      "metadata": {
        "id": "LSBY78xG8FDV",
        "colab_type": "code",
        "colab": {}
      },
      "source": [
        "df['weekend'] = np.where(df.index.weekday > 4, 1, 0).astype(np.int16)"
      ],
      "execution_count": 0,
      "outputs": []
    },
    {
      "cell_type": "code",
      "metadata": {
        "id": "EsMDs2B2GPfW",
        "colab_type": "code",
        "colab": {}
      },
      "source": [
        "df.to_csv('data/df_imputed_week_shift_added_holiday_weekends')"
      ],
      "execution_count": 0,
      "outputs": []
    },
    {
      "cell_type": "code",
      "metadata": {
        "id": "i1zks0nH8FGk",
        "colab_type": "code",
        "colab": {}
      },
      "source": [
        "df_cut = df[df.index.year > 2016].copy()"
      ],
      "execution_count": 0,
      "outputs": []
    },
    {
      "cell_type": "code",
      "metadata": {
        "id": "LsnwkBR08FM0",
        "colab_type": "code",
        "colab": {}
      },
      "source": [
        "df_cut.to_csv('data/df_imputed_week_shift_start_2017_added_holiday_weekends')\n",
        "df.head()"
      ],
      "execution_count": 0,
      "outputs": []
    }
  ]
}